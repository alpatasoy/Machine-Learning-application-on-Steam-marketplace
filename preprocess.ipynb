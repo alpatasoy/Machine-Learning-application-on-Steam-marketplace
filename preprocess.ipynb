{
 "cells": [
  {
   "cell_type": "code",
   "execution_count": null,
   "metadata": {},
   "outputs": [],
   "source": [
    "import numpy as np\n",
    "import pandas as pd\n",
    "from datetime import datetime\n",
    "import matplotlib.pyplot as plt\n",
    "from collections import Counter\n",
    "import plotly.graph_objects as go\n",
    "import plotly.express as px\n",
    "import ast"
   ]
  },
  {
   "cell_type": "code",
   "execution_count": null,
   "metadata": {},
   "outputs": [
    {
     "data": {
      "text/html": [
       "<div>\n",
       "<style scoped>\n",
       "    .dataframe tbody tr th:only-of-type {\n",
       "        vertical-align: middle;\n",
       "    }\n",
       "\n",
       "    .dataframe tbody tr th {\n",
       "        vertical-align: top;\n",
       "    }\n",
       "\n",
       "    .dataframe thead th {\n",
       "        text-align: right;\n",
       "    }\n",
       "</style>\n",
       "<table border=\"1\" class=\"dataframe\">\n",
       "  <thead>\n",
       "    <tr style=\"text-align: right;\">\n",
       "      <th></th>\n",
       "      <th>AppID</th>\n",
       "      <th>Name</th>\n",
       "      <th>Release date</th>\n",
       "      <th>Estimated owners</th>\n",
       "      <th>Peak CCU</th>\n",
       "      <th>Required age</th>\n",
       "      <th>Price</th>\n",
       "      <th>Discount</th>\n",
       "      <th>DLC count</th>\n",
       "      <th>About the game</th>\n",
       "      <th>...</th>\n",
       "      <th>Average playtime two weeks</th>\n",
       "      <th>Median playtime forever</th>\n",
       "      <th>Median playtime two weeks</th>\n",
       "      <th>Developers</th>\n",
       "      <th>Publishers</th>\n",
       "      <th>Categories</th>\n",
       "      <th>Genres</th>\n",
       "      <th>Tags</th>\n",
       "      <th>Screenshots</th>\n",
       "      <th>Movies</th>\n",
       "    </tr>\n",
       "  </thead>\n",
       "  <tbody>\n",
       "    <tr>\n",
       "      <th>0</th>\n",
       "      <td>20200</td>\n",
       "      <td>Galactic Bowling</td>\n",
       "      <td>Oct 21, 2008</td>\n",
       "      <td>0 - 20000</td>\n",
       "      <td>0</td>\n",
       "      <td>0</td>\n",
       "      <td>19.99</td>\n",
       "      <td>0</td>\n",
       "      <td>0</td>\n",
       "      <td>Galactic Bowling is an exaggerated and stylize...</td>\n",
       "      <td>...</td>\n",
       "      <td>0</td>\n",
       "      <td>0</td>\n",
       "      <td>0</td>\n",
       "      <td>Perpetual FX Creative</td>\n",
       "      <td>Perpetual FX Creative</td>\n",
       "      <td>Single-player,Multi-player,Steam Achievements,...</td>\n",
       "      <td>Casual,Indie,Sports</td>\n",
       "      <td>Indie,Casual,Sports,Bowling</td>\n",
       "      <td>https://cdn.akamai.steamstatic.com/steam/apps/...</td>\n",
       "      <td>http://cdn.akamai.steamstatic.com/steam/apps/2...</td>\n",
       "    </tr>\n",
       "    <tr>\n",
       "      <th>1</th>\n",
       "      <td>655370</td>\n",
       "      <td>Train Bandit</td>\n",
       "      <td>Oct 12, 2017</td>\n",
       "      <td>0 - 20000</td>\n",
       "      <td>0</td>\n",
       "      <td>0</td>\n",
       "      <td>0.99</td>\n",
       "      <td>0</td>\n",
       "      <td>0</td>\n",
       "      <td>THE LAW!! Looks to be a showdown atop a train....</td>\n",
       "      <td>...</td>\n",
       "      <td>0</td>\n",
       "      <td>0</td>\n",
       "      <td>0</td>\n",
       "      <td>Rusty Moyher</td>\n",
       "      <td>Wild Rooster</td>\n",
       "      <td>Single-player,Steam Achievements,Full controll...</td>\n",
       "      <td>Action,Indie</td>\n",
       "      <td>Indie,Action,Pixel Graphics,2D,Retro,Arcade,Sc...</td>\n",
       "      <td>https://cdn.akamai.steamstatic.com/steam/apps/...</td>\n",
       "      <td>http://cdn.akamai.steamstatic.com/steam/apps/2...</td>\n",
       "    </tr>\n",
       "  </tbody>\n",
       "</table>\n",
       "<p>2 rows × 40 columns</p>\n",
       "</div>"
      ],
      "text/plain": [
       "    AppID              Name  Release date Estimated owners  Peak CCU  \\\n",
       "0   20200  Galactic Bowling  Oct 21, 2008        0 - 20000         0   \n",
       "1  655370      Train Bandit  Oct 12, 2017        0 - 20000         0   \n",
       "\n",
       "   Required age  Price  Discount  DLC count  \\\n",
       "0             0  19.99         0          0   \n",
       "1             0   0.99         0          0   \n",
       "\n",
       "                                      About the game  ...  \\\n",
       "0  Galactic Bowling is an exaggerated and stylize...  ...   \n",
       "1  THE LAW!! Looks to be a showdown atop a train....  ...   \n",
       "\n",
       "  Average playtime two weeks Median playtime forever  \\\n",
       "0                          0                       0   \n",
       "1                          0                       0   \n",
       "\n",
       "  Median playtime two weeks             Developers             Publishers  \\\n",
       "0                         0  Perpetual FX Creative  Perpetual FX Creative   \n",
       "1                         0           Rusty Moyher           Wild Rooster   \n",
       "\n",
       "                                          Categories               Genres  \\\n",
       "0  Single-player,Multi-player,Steam Achievements,...  Casual,Indie,Sports   \n",
       "1  Single-player,Steam Achievements,Full controll...         Action,Indie   \n",
       "\n",
       "                                                Tags  \\\n",
       "0                        Indie,Casual,Sports,Bowling   \n",
       "1  Indie,Action,Pixel Graphics,2D,Retro,Arcade,Sc...   \n",
       "\n",
       "                                         Screenshots  \\\n",
       "0  https://cdn.akamai.steamstatic.com/steam/apps/...   \n",
       "1  https://cdn.akamai.steamstatic.com/steam/apps/...   \n",
       "\n",
       "                                              Movies  \n",
       "0  http://cdn.akamai.steamstatic.com/steam/apps/2...  \n",
       "1  http://cdn.akamai.steamstatic.com/steam/apps/2...  \n",
       "\n",
       "[2 rows x 40 columns]"
      ]
     },
     "metadata": {},
     "output_type": "display_data"
    }
   ],
   "source": [
    "steam_df = pd.read_csv(\"games.csv\")\n",
    "steam_df.head(2)"
   ]
  },
  {
   "cell_type": "code",
   "execution_count": null,
   "metadata": {},
   "outputs": [
    {
     "name": "stdout",
     "output_type": "stream",
     "text": [
      "<class 'pandas.core.frame.DataFrame'>\n",
      "RangeIndex: 97410 entries, 0 to 97409\n",
      "Data columns (total 40 columns):\n",
      " #   Column                      Non-Null Count  Dtype  \n",
      "---  ------                      --------------  -----  \n",
      " 0   AppID                       97410 non-null  int64  \n",
      " 1   Name                        97404 non-null  object \n",
      " 2   Release date                97410 non-null  object \n",
      " 3   Estimated owners            97410 non-null  object \n",
      " 4   Peak CCU                    97410 non-null  int64  \n",
      " 5   Required age                97410 non-null  int64  \n",
      " 6   Price                       97410 non-null  float64\n",
      " 7   Discount                    97410 non-null  int64  \n",
      " 8   DLC count                   97410 non-null  int64  \n",
      " 9   About the game              92540 non-null  object \n",
      " 10  Supported languages         97410 non-null  object \n",
      " 11  Full audio languages        97410 non-null  object \n",
      " 12  Reviews                     10125 non-null  object \n",
      " 13  Header image                97410 non-null  object \n",
      " 14  Website                     42737 non-null  object \n",
      " 15  Support url                 45900 non-null  object \n",
      " 16  Support email               81375 non-null  object \n",
      " 17  Windows                     97410 non-null  bool   \n",
      " 18  Mac                         97410 non-null  bool   \n",
      " 19  Linux                       97410 non-null  bool   \n",
      " 20  Metacritic score            97410 non-null  int64  \n",
      " 21  Metacritic url              3953 non-null   object \n",
      " 22  User score                  97410 non-null  int64  \n",
      " 23  Positive                    97410 non-null  int64  \n",
      " 24  Negative                    97410 non-null  int64  \n",
      " 25  Score rank                  44 non-null     float64\n",
      " 26  Achievements                97410 non-null  int64  \n",
      " 27  Recommendations             97410 non-null  int64  \n",
      " 28  Notes                       15473 non-null  object \n",
      " 29  Average playtime forever    97410 non-null  int64  \n",
      " 30  Average playtime two weeks  97410 non-null  int64  \n",
      " 31  Median playtime forever     97410 non-null  int64  \n",
      " 32  Median playtime two weeks   97410 non-null  int64  \n",
      " 33  Developers                  92533 non-null  object \n",
      " 34  Publishers                  92239 non-null  object \n",
      " 35  Categories                  91497 non-null  object \n",
      " 36  Genres                      92569 non-null  object \n",
      " 37  Tags                        67647 non-null  object \n",
      " 38  Screenshots                 94515 non-null  object \n",
      " 39  Movies                      89519 non-null  object \n",
      "dtypes: bool(3), float64(2), int64(15), object(20)\n",
      "memory usage: 27.8+ MB\n"
     ]
    }
   ],
   "source": [
    "steam_df.info()\n"
   ]
  },
  {
   "cell_type": "code",
   "execution_count": null,
   "metadata": {},
   "outputs": [
    {
     "data": {
      "text/plain": [
       "Index(['AppID', 'Name', 'Release date', 'Estimated owners', 'Peak CCU',\n",
       "       'Required age', 'Price', 'Discount', 'DLC count', 'About the game',\n",
       "       'Supported languages', 'Full audio languages', 'Reviews',\n",
       "       'Header image', 'Website', 'Support url', 'Support email', 'Windows',\n",
       "       'Mac', 'Linux', 'Metacritic score', 'Metacritic url', 'User score',\n",
       "       'Positive', 'Negative', 'Score rank', 'Achievements', 'Recommendations',\n",
       "       'Notes', 'Average playtime forever', 'Average playtime two weeks',\n",
       "       'Median playtime forever', 'Median playtime two weeks', 'Developers',\n",
       "       'Publishers', 'Categories', 'Genres', 'Tags', 'Screenshots', 'Movies'],\n",
       "      dtype='object')"
      ]
     },
     "metadata": {},
     "output_type": "display_data"
    }
   ],
   "source": [
    "features= steam_df.columns\n",
    "features"
   ]
  },
  {
   "cell_type": "code",
   "execution_count": null,
   "metadata": {},
   "outputs": [],
   "source": [
    "steam_df = steam_df.drop(['AppID','Header image'], axis=1)"
   ]
  },
  {
   "cell_type": "code",
   "execution_count": null,
   "metadata": {},
   "outputs": [
    {
     "data": {
      "text/plain": [
       "Name                              6\n",
       "Release date                      0\n",
       "Estimated owners                  0\n",
       "Peak CCU                          0\n",
       "Required age                      0\n",
       "Price                             0\n",
       "Discount                          0\n",
       "DLC count                         0\n",
       "About the game                 4870\n",
       "Supported languages               0\n",
       "Full audio languages              0\n",
       "Reviews                       87285\n",
       "Website                       54673\n",
       "Support url                   51510\n",
       "Support email                 16035\n",
       "Windows                           0\n",
       "Mac                               0\n",
       "Linux                             0\n",
       "Metacritic score                  0\n",
       "Metacritic url                93457\n",
       "User score                        0\n",
       "Positive                          0\n",
       "Negative                          0\n",
       "Score rank                    97366\n",
       "Achievements                      0\n",
       "Recommendations                   0\n",
       "Notes                         81937\n",
       "Average playtime forever          0\n",
       "Average playtime two weeks        0\n",
       "Median playtime forever           0\n",
       "Median playtime two weeks         0\n",
       "Developers                     4877\n",
       "Publishers                     5171\n",
       "Categories                     5913\n",
       "Genres                         4841\n",
       "Tags                          29763\n",
       "Screenshots                    2895\n",
       "Movies                         7891\n",
       "dtype: int64"
      ]
     },
     "metadata": {},
     "output_type": "display_data"
    }
   ],
   "source": [
    "steam_df.isna().sum()"
   ]
  },
  {
   "cell_type": "code",
   "execution_count": null,
   "metadata": {},
   "outputs": [],
   "source": [
    "missing_name = steam_df.loc[steam_df['Name'].isna()].index\n",
    "steam_df = steam_df.drop(missing_name)"
   ]
  },
  {
   "cell_type": "code",
   "execution_count": null,
   "metadata": {},
   "outputs": [],
   "source": [
    "\n",
    "steam_df['Release date'] = pd.to_datetime(steam_df['Release date'], errors='coerce', format='mixed')"
   ]
  },
  {
   "cell_type": "code",
   "execution_count": null,
   "metadata": {},
   "outputs": [],
   "source": [
    "steam_df = steam_df.drop(steam_df[steam_df['Release date'] > '2024-09-30'].index)"
   ]
  },
  {
   "cell_type": "code",
   "execution_count": null,
   "metadata": {},
   "outputs": [
    {
     "data": {
      "text/plain": [
       "14"
      ]
     },
     "metadata": {},
     "output_type": "display_data"
    }
   ],
   "source": [
    "len(steam_df[\"Estimated owners\"].unique())\n"
   ]
  },
  {
   "cell_type": "code",
   "execution_count": null,
   "metadata": {},
   "outputs": [],
   "source": [
    "def get_avg(x):\n",
    "    x = x.strip()\n",
    "    x= x.split(\"-\")\n",
    "    x = [num.strip(' ') for num in x]\n",
    "    num1 = int(x[0])\n",
    "    num2 = int(x[1])\n",
    "    avg = (num2 - num1)/2\n",
    "    return avg\n",
    "\n",
    "for index, row in steam_df.iterrows(): \n",
    "     steam_df.at[index, 'EOM'] = get_avg(steam_df.at[index, 'Estimated owners'])"
   ]
  },
  {
   "cell_type": "code",
   "execution_count": null,
   "metadata": {},
   "outputs": [],
   "source": [
    "last_update = datetime(2024, 9, 30)\n",
    "\n",
    "steam_df['days_since_release'] = (last_update - steam_df['Release date']).dt.days\n",
    "\n",
    "steam_df['DEOM'] = steam_df.apply(\n",
    "    lambda row: row['EOM'] / np.log(row['days_since_release']) if row['days_since_release'] > 0 else 0,\n",
    "    axis=1\n",
    ")\n"
   ]
  },
  {
   "cell_type": "code",
   "execution_count": null,
   "metadata": {},
   "outputs": [
    {
     "data": {
      "text/plain": [
       "count    9.740100e+04\n",
       "mean     4.334792e+03\n",
       "std      4.926373e+04\n",
       "min      0.000000e+00\n",
       "1%       0.000000e+00\n",
       "5%       0.000000e+00\n",
       "10%      0.000000e+00\n",
       "15%      0.000000e+00\n",
       "25%      1.275140e+03\n",
       "40%      1.345445e+03\n",
       "50%      1.405366e+03\n",
       "75%      1.803369e+03\n",
       "85%      2.131050e+03\n",
       "90%      3.114177e+03\n",
       "95%      6.766865e+03\n",
       "99%      5.767298e+04\n",
       "max      6.688660e+06\n",
       "Name: DEOM, dtype: float64"
      ]
     },
     "metadata": {},
     "output_type": "display_data"
    }
   ],
   "source": [
    "steam_df[\"DEOM\"].describe(percentiles= [0.01, 0.05, 0.1, 0.15, 0.25, 0.4 , 0.5, 0.75, 0.85, 0.9, 0.95, 0.99])"
   ]
  },
  {
   "cell_type": "code",
   "execution_count": null,
   "metadata": {},
   "outputs": [],
   "source": [
    "steam_df['DEOM'] = np.log(steam_df['DEOM']+1)"
   ]
  },
  {
   "cell_type": "code",
   "execution_count": null,
   "metadata": {},
   "outputs": [],
   "source": [
    "steam_df = steam_df.drop(columns=[\"days_since_release\", 'Estimated owners', \"EOM\"])"
   ]
  },
  {
   "cell_type": "code",
   "execution_count": null,
   "metadata": {},
   "outputs": [
    {
     "data": {
      "text/plain": [
       "count    9.740100e+04\n",
       "mean     1.627433e+02\n",
       "std      7.687471e+03\n",
       "min      0.000000e+00\n",
       "25%      0.000000e+00\n",
       "50%      0.000000e+00\n",
       "75%      1.000000e+00\n",
       "max      1.284268e+06\n",
       "Name: Peak CCU, dtype: float64"
      ]
     },
     "metadata": {},
     "output_type": "display_data"
    }
   ],
   "source": [
    "steam_df['Peak CCU'].describe()\n"
   ]
  },
  {
   "cell_type": "code",
   "execution_count": null,
   "metadata": {},
   "outputs": [
    {
     "data": {
      "text/plain": [
       "count    97401.000000\n",
       "mean         7.086845\n",
       "std         12.388187\n",
       "min          0.000000\n",
       "25%          0.990000\n",
       "50%          4.190000\n",
       "75%          9.990000\n",
       "max        999.980000\n",
       "Name: Price, dtype: float64"
      ]
     },
     "metadata": {},
     "output_type": "display_data"
    }
   ],
   "source": [
    "steam_df['Price'].describe()"
   ]
  },
  {
   "cell_type": "code",
   "execution_count": null,
   "metadata": {},
   "outputs": [],
   "source": [
    "steam_df = steam_df.drop(steam_df[steam_df['Price'] >= 500 ].index)"
   ]
  },
  {
   "cell_type": "code",
   "execution_count": null,
   "metadata": {},
   "outputs": [
    {
     "data": {
      "text/plain": [
       "count    97397.0\n",
       "mean         0.0\n",
       "std          0.0\n",
       "min          0.0\n",
       "25%          0.0\n",
       "50%          0.0\n",
       "75%          0.0\n",
       "max          0.0\n",
       "Name: Discount, dtype: float64"
      ]
     },
     "metadata": {},
     "output_type": "display_data"
    }
   ],
   "source": [
    "steam_df['Discount'].describe()"
   ]
  },
  {
   "cell_type": "code",
   "execution_count": null,
   "metadata": {},
   "outputs": [],
   "source": [
    "steam_df = steam_df.drop(['Discount'], axis=1)"
   ]
  },
  {
   "cell_type": "code",
   "execution_count": null,
   "metadata": {},
   "outputs": [
    {
     "data": {
      "text/plain": [
       "count    97397.000000\n",
       "mean         0.493147\n",
       "std         12.833689\n",
       "min          0.000000\n",
       "25%          0.000000\n",
       "50%          0.000000\n",
       "75%          0.000000\n",
       "max       2366.000000\n",
       "Name: DLC count, dtype: float64"
      ]
     },
     "metadata": {},
     "output_type": "display_data"
    }
   ],
   "source": [
    "steam_df['DLC count'].describe()"
   ]
  },
  {
   "cell_type": "code",
   "execution_count": null,
   "metadata": {},
   "outputs": [
    {
     "data": {
      "text/plain": [
       "105                             溪风谷之战 Playtest\n",
       "180                      Burial Stone Playtest\n",
       "214                  Emperial Knights Playtest\n",
       "220                     Slotracers VR Playtest\n",
       "291      Pirates of the Asteroid Belt Playtest\n",
       "                         ...                  \n",
       "97363                   Feed The Gods Playtest\n",
       "97385               The Invading Dark Playtest\n",
       "97387                       丧尸卡牌：生存对决 Playtest\n",
       "97392                 Karate Survivor Playtest\n",
       "97404                          Carbon Playtest\n",
       "Name: Name, Length: 4865, dtype: object"
      ]
     },
     "metadata": {},
     "output_type": "display_data"
    }
   ],
   "source": [
    "steam_df.loc[steam_df['About the game'].isna(),\"Name\"]"
   ]
  },
  {
   "cell_type": "code",
   "execution_count": null,
   "metadata": {},
   "outputs": [],
   "source": [
    "steam_df= steam_df.drop(steam_df[steam_df[\"Name\"].str.contains('Playtest')].index).reset_index(drop=True)"
   ]
  },
  {
   "cell_type": "code",
   "execution_count": null,
   "metadata": {},
   "outputs": [
    {
     "data": {
      "text/plain": [
       "938                                  Project Scav\n",
       "1097                                      Abode 2\n",
       "1353                           NARAKA: BLADEPOINT\n",
       "3142                               Hello, Goodbye\n",
       "3324                              Theatre of Doom\n",
       "                           ...                   \n",
       "92138                                   Prisoners\n",
       "92216    Warhammer: Vermintide Versus - Open Beta\n",
       "92281                      DOOM Eternal: idStudio\n",
       "92536                Trials of Innocence PlayTest\n",
       "92591                 Thank Goodness You're Here!\n",
       "Name: Name, Length: 226, dtype: object"
      ]
     },
     "metadata": {},
     "output_type": "display_data"
    }
   ],
   "source": [
    "steam_df.loc[steam_df['About the game'].isna(),\"Name\"]"
   ]
  },
  {
   "cell_type": "code",
   "execution_count": null,
   "metadata": {},
   "outputs": [],
   "source": [
    "steam_df = steam_df.drop(steam_df.loc[steam_df['About the game'].isna()].index)\n",
    "steam_df = steam_df.drop('About the game', axis=1)"
   ]
  },
  {
   "cell_type": "code",
   "execution_count": null,
   "metadata": {},
   "outputs": [
    {
     "data": {
      "text/plain": [
       "array([\"['English']\",\n",
       "       \"['English', 'French', 'Italian', 'German', 'Spanish - Spain', 'Japanese', 'Portuguese - Brazil', 'Russian', 'Simplified Chinese', 'Traditional Chinese']\",\n",
       "       \"['English', 'Portuguese - Brazil']\", ...,\n",
       "       \"['English', 'French', 'Japanese', 'Korean', 'Portuguese - Portugal', 'Russian', 'Simplified Chinese', 'Traditional Chinese', 'Vietnamese']\",\n",
       "       \"['English', 'Russian', 'Ukrainian', 'Spanish - Spain', 'Portuguese - Portugal']\",\n",
       "       \"['English', 'French', 'Italian', 'German', 'Spanish - Spain', 'Simplified Chinese', 'Japanese', 'Korean', 'Polish', 'Russian', 'Portuguese - Brazil']\"],\n",
       "      dtype=object)"
      ]
     },
     "metadata": {},
     "output_type": "display_data"
    }
   ],
   "source": [
    "steam_df['Supported languages'].unique()"
   ]
  },
  {
   "cell_type": "code",
   "execution_count": null,
   "metadata": {},
   "outputs": [
    {
     "data": {
      "text/plain": [
       "array(['[]', \"['English', 'German']\", \"['English', 'Japanese']\", ...,\n",
       "       \"['English', 'Simplified Chinese', 'French', 'Italian', 'German', 'Spanish - Spain', 'Japanese', 'Portuguese - Brazil', 'Spanish - Latin America', 'Mongolian']\",\n",
       "       \"['English', 'French', 'German', 'Spanish - Spain', 'Hungarian', 'Polish', 'Portuguese - Portugal']\",\n",
       "       \"['Japanese', 'Korean', 'Traditional Chinese']\"], dtype=object)"
      ]
     },
     "metadata": {},
     "output_type": "display_data"
    }
   ],
   "source": [
    "steam_df['Full audio languages'].unique()"
   ]
  },
  {
   "cell_type": "code",
   "execution_count": null,
   "metadata": {},
   "outputs": [],
   "source": [
    "steam_df = steam_df.drop('Full audio languages', axis=1)"
   ]
  },
  {
   "cell_type": "code",
   "execution_count": null,
   "metadata": {},
   "outputs": [],
   "source": [
    "steam_df = steam_df.drop('Reviews', axis=1)"
   ]
  },
  {
   "cell_type": "code",
   "execution_count": null,
   "metadata": {},
   "outputs": [],
   "source": [
    "steam_df['Game support'] = steam_df[['Website', 'Support url', 'Support email']].notna().any(axis=1).astype(int)\n",
    "steam_df=steam_df.drop(columns= ['Website', 'Support url', 'Support email'])"
   ]
  },
  {
   "cell_type": "code",
   "execution_count": null,
   "metadata": {},
   "outputs": [
    {
     "data": {
      "text/plain": [
       "array([ 0, 62, 64, 53, 84, 89, 70, 86, 40, 87, 92, 76, 51, 49, 81, 69, 72,\n",
       "       68, 52, 82, 59, 77, 79, 71, 74, 73, 88, 47, 75, 66, 50, 63, 67, 80,\n",
       "       58, 90, 39, 78, 55, 85, 65, 91, 83, 57, 56, 44, 60, 61, 48, 46, 23,\n",
       "       45, 94, 27, 38, 30, 35, 54, 41, 43, 32, 34, 93, 37, 36, 95, 42, 29,\n",
       "       24, 96, 20, 33, 97], dtype=int64)"
      ]
     },
     "metadata": {},
     "output_type": "display_data"
    }
   ],
   "source": [
    "steam_df[\"Metacritic score\"].unique()"
   ]
  },
  {
   "cell_type": "code",
   "execution_count": null,
   "metadata": {},
   "outputs": [
    {
     "data": {
      "text/plain": [
       "count    92524.000000\n",
       "mean         3.107378\n",
       "std         14.889335\n",
       "min          0.000000\n",
       "25%          0.000000\n",
       "50%          0.000000\n",
       "75%          0.000000\n",
       "max         97.000000\n",
       "Name: Metacritic score, dtype: float64"
      ]
     },
     "metadata": {},
     "output_type": "display_data"
    }
   ],
   "source": [
    "steam_df[\"Metacritic score\"].describe()"
   ]
  },
  {
   "cell_type": "code",
   "execution_count": null,
   "metadata": {},
   "outputs": [
    {
     "data": {
      "text/html": [
       "<div>\n",
       "<style scoped>\n",
       "    .dataframe tbody tr th:only-of-type {\n",
       "        vertical-align: middle;\n",
       "    }\n",
       "\n",
       "    .dataframe tbody tr th {\n",
       "        vertical-align: top;\n",
       "    }\n",
       "\n",
       "    .dataframe thead th {\n",
       "        text-align: right;\n",
       "    }\n",
       "</style>\n",
       "<table border=\"1\" class=\"dataframe\">\n",
       "  <thead>\n",
       "    <tr style=\"text-align: right;\">\n",
       "      <th></th>\n",
       "      <th>Name</th>\n",
       "    </tr>\n",
       "    <tr>\n",
       "      <th>Metacritic score</th>\n",
       "      <th></th>\n",
       "    </tr>\n",
       "  </thead>\n",
       "  <tbody>\n",
       "    <tr>\n",
       "      <th>0</th>\n",
       "      <td>88581</td>\n",
       "    </tr>\n",
       "    <tr>\n",
       "      <th>20</th>\n",
       "      <td>1</td>\n",
       "    </tr>\n",
       "    <tr>\n",
       "      <th>23</th>\n",
       "      <td>1</td>\n",
       "    </tr>\n",
       "    <tr>\n",
       "      <th>24</th>\n",
       "      <td>1</td>\n",
       "    </tr>\n",
       "    <tr>\n",
       "      <th>27</th>\n",
       "      <td>2</td>\n",
       "    </tr>\n",
       "    <tr>\n",
       "      <th>...</th>\n",
       "      <td>...</td>\n",
       "    </tr>\n",
       "    <tr>\n",
       "      <th>93</th>\n",
       "      <td>15</td>\n",
       "    </tr>\n",
       "    <tr>\n",
       "      <th>94</th>\n",
       "      <td>12</td>\n",
       "    </tr>\n",
       "    <tr>\n",
       "      <th>95</th>\n",
       "      <td>2</td>\n",
       "    </tr>\n",
       "    <tr>\n",
       "      <th>96</th>\n",
       "      <td>4</td>\n",
       "    </tr>\n",
       "    <tr>\n",
       "      <th>97</th>\n",
       "      <td>2</td>\n",
       "    </tr>\n",
       "  </tbody>\n",
       "</table>\n",
       "<p>73 rows × 1 columns</p>\n",
       "</div>"
      ],
      "text/plain": [
       "                   Name\n",
       "Metacritic score       \n",
       "0                 88581\n",
       "20                    1\n",
       "23                    1\n",
       "24                    1\n",
       "27                    2\n",
       "...                 ...\n",
       "93                   15\n",
       "94                   12\n",
       "95                    2\n",
       "96                    4\n",
       "97                    2\n",
       "\n",
       "[73 rows x 1 columns]"
      ]
     },
     "metadata": {},
     "output_type": "display_data"
    }
   ],
   "source": [
    "meta_scores = steam_df.groupby(\"Metacritic score\").agg({\"Name\":\"count\"})\n",
    "meta_scores"
   ]
  },
  {
   "cell_type": "code",
   "execution_count": null,
   "metadata": {},
   "outputs": [],
   "source": [
    "steam_df=steam_df.drop(columns= ['Metacritic url'])"
   ]
  },
  {
   "cell_type": "code",
   "execution_count": null,
   "metadata": {},
   "outputs": [
    {
     "data": {
      "text/plain": [
       "array([  0,  63,  59,  77,  68, 100,  57,  80,  51,  69,  97,  53,  46,\n",
       "        65,  55,  84,  71,  60,  61,  78,  87,  92,  73,  83,  82,  98,\n",
       "        76,  66,  95,  94,  96,  88,  70], dtype=int64)"
      ]
     },
     "metadata": {},
     "output_type": "display_data"
    }
   ],
   "source": [
    "steam_df['User score'].unique()"
   ]
  },
  {
   "cell_type": "code",
   "execution_count": null,
   "metadata": {},
   "outputs": [
    {
     "data": {
      "text/plain": [
       "count    92524.000000\n",
       "mean         0.036628\n",
       "std          1.717720\n",
       "min          0.000000\n",
       "25%          0.000000\n",
       "50%          0.000000\n",
       "75%          0.000000\n",
       "max        100.000000\n",
       "Name: User score, dtype: float64"
      ]
     },
     "metadata": {},
     "output_type": "display_data"
    }
   ],
   "source": [
    "steam_df['User score'].describe()"
   ]
  },
  {
   "cell_type": "code",
   "execution_count": null,
   "metadata": {},
   "outputs": [
    {
     "data": {
      "text/html": [
       "<div>\n",
       "<style scoped>\n",
       "    .dataframe tbody tr th:only-of-type {\n",
       "        vertical-align: middle;\n",
       "    }\n",
       "\n",
       "    .dataframe tbody tr th {\n",
       "        vertical-align: top;\n",
       "    }\n",
       "\n",
       "    .dataframe thead th {\n",
       "        text-align: right;\n",
       "    }\n",
       "</style>\n",
       "<table border=\"1\" class=\"dataframe\">\n",
       "  <thead>\n",
       "    <tr style=\"text-align: right;\">\n",
       "      <th></th>\n",
       "      <th>count</th>\n",
       "      <th>mean</th>\n",
       "      <th>std</th>\n",
       "      <th>min</th>\n",
       "      <th>1%</th>\n",
       "      <th>5%</th>\n",
       "      <th>10%</th>\n",
       "      <th>15%</th>\n",
       "      <th>25%</th>\n",
       "      <th>40%</th>\n",
       "      <th>50%</th>\n",
       "      <th>75%</th>\n",
       "      <th>85%</th>\n",
       "      <th>90%</th>\n",
       "      <th>95%</th>\n",
       "      <th>99%</th>\n",
       "      <th>max</th>\n",
       "    </tr>\n",
       "  </thead>\n",
       "  <tbody>\n",
       "    <tr>\n",
       "      <th>Positive</th>\n",
       "      <td>92524.0</td>\n",
       "      <td>892.065161</td>\n",
       "      <td>23463.526530</td>\n",
       "      <td>0.0</td>\n",
       "      <td>0.0</td>\n",
       "      <td>0.0</td>\n",
       "      <td>0.0</td>\n",
       "      <td>0.0</td>\n",
       "      <td>0.0</td>\n",
       "      <td>2.0</td>\n",
       "      <td>6.0</td>\n",
       "      <td>39.0</td>\n",
       "      <td>129.0</td>\n",
       "      <td>296.0</td>\n",
       "      <td>1090.0</td>\n",
       "      <td>11832.32</td>\n",
       "      <td>5764420.0</td>\n",
       "    </tr>\n",
       "    <tr>\n",
       "      <th>Negative</th>\n",
       "      <td>92524.0</td>\n",
       "      <td>148.147518</td>\n",
       "      <td>4388.672952</td>\n",
       "      <td>0.0</td>\n",
       "      <td>0.0</td>\n",
       "      <td>0.0</td>\n",
       "      <td>0.0</td>\n",
       "      <td>0.0</td>\n",
       "      <td>0.0</td>\n",
       "      <td>0.0</td>\n",
       "      <td>1.0</td>\n",
       "      <td>12.0</td>\n",
       "      <td>36.0</td>\n",
       "      <td>76.0</td>\n",
       "      <td>232.0</td>\n",
       "      <td>2052.31</td>\n",
       "      <td>895978.0</td>\n",
       "    </tr>\n",
       "  </tbody>\n",
       "</table>\n",
       "</div>"
      ],
      "text/plain": [
       "            count        mean           std  min   1%   5%  10%  15%  25%  \\\n",
       "Positive  92524.0  892.065161  23463.526530  0.0  0.0  0.0  0.0  0.0  0.0   \n",
       "Negative  92524.0  148.147518   4388.672952  0.0  0.0  0.0  0.0  0.0  0.0   \n",
       "\n",
       "          40%  50%   75%    85%    90%     95%       99%        max  \n",
       "Positive  2.0  6.0  39.0  129.0  296.0  1090.0  11832.32  5764420.0  \n",
       "Negative  0.0  1.0  12.0   36.0   76.0   232.0   2052.31   895978.0  "
      ]
     },
     "metadata": {},
     "output_type": "display_data"
    }
   ],
   "source": [
    "steam_df[['Positive', 'Negative']].describe(percentiles= [0.01, 0.05, 0.1, 0.15, 0.25, 0.4 , 0.5, 0.75, 0.85, 0.9, 0.95, 0.99]).T"
   ]
  },
  {
   "cell_type": "code",
   "execution_count": null,
   "metadata": {},
   "outputs": [],
   "source": [
    "steam_df=steam_df.drop(columns= ['Score rank'])"
   ]
  },
  {
   "cell_type": "code",
   "execution_count": null,
   "metadata": {},
   "outputs": [
    {
     "data": {
      "text/html": [
       "<div>\n",
       "<style scoped>\n",
       "    .dataframe tbody tr th:only-of-type {\n",
       "        vertical-align: middle;\n",
       "    }\n",
       "\n",
       "    .dataframe tbody tr th {\n",
       "        vertical-align: top;\n",
       "    }\n",
       "\n",
       "    .dataframe thead th {\n",
       "        text-align: right;\n",
       "    }\n",
       "</style>\n",
       "<table border=\"1\" class=\"dataframe\">\n",
       "  <thead>\n",
       "    <tr style=\"text-align: right;\">\n",
       "      <th></th>\n",
       "      <th>Name</th>\n",
       "    </tr>\n",
       "    <tr>\n",
       "      <th>Achievements</th>\n",
       "      <th></th>\n",
       "    </tr>\n",
       "  </thead>\n",
       "  <tbody>\n",
       "    <tr>\n",
       "      <th>0</th>\n",
       "      <td>45622</td>\n",
       "    </tr>\n",
       "    <tr>\n",
       "      <th>1</th>\n",
       "      <td>1012</td>\n",
       "    </tr>\n",
       "    <tr>\n",
       "      <th>2</th>\n",
       "      <td>576</td>\n",
       "    </tr>\n",
       "    <tr>\n",
       "      <th>3</th>\n",
       "      <td>781</td>\n",
       "    </tr>\n",
       "    <tr>\n",
       "      <th>4</th>\n",
       "      <td>993</td>\n",
       "    </tr>\n",
       "    <tr>\n",
       "      <th>...</th>\n",
       "      <td>...</td>\n",
       "    </tr>\n",
       "    <tr>\n",
       "      <th>4997</th>\n",
       "      <td>1</td>\n",
       "    </tr>\n",
       "    <tr>\n",
       "      <th>4999</th>\n",
       "      <td>1</td>\n",
       "    </tr>\n",
       "    <tr>\n",
       "      <th>5000</th>\n",
       "      <td>59</td>\n",
       "    </tr>\n",
       "    <tr>\n",
       "      <th>5394</th>\n",
       "      <td>1</td>\n",
       "    </tr>\n",
       "    <tr>\n",
       "      <th>9821</th>\n",
       "      <td>1</td>\n",
       "    </tr>\n",
       "  </tbody>\n",
       "</table>\n",
       "<p>433 rows × 1 columns</p>\n",
       "</div>"
      ],
      "text/plain": [
       "               Name\n",
       "Achievements       \n",
       "0             45622\n",
       "1              1012\n",
       "2               576\n",
       "3               781\n",
       "4               993\n",
       "...             ...\n",
       "4997              1\n",
       "4999              1\n",
       "5000             59\n",
       "5394              1\n",
       "9821              1\n",
       "\n",
       "[433 rows x 1 columns]"
      ]
     },
     "metadata": {},
     "output_type": "display_data"
    }
   ],
   "source": [
    "achievements = steam_df.groupby(\"Achievements\").agg({\"Name\":\"count\"})\n",
    "achievements"
   ]
  },
  {
   "cell_type": "code",
   "execution_count": null,
   "metadata": {},
   "outputs": [
    {
     "data": {
      "text/plain": [
       "count    92524.000000\n",
       "mean        19.484231\n",
       "std        164.534596\n",
       "min          0.000000\n",
       "25%          0.000000\n",
       "50%          1.000000\n",
       "75%         18.000000\n",
       "max       9821.000000\n",
       "Name: Achievements, dtype: float64"
      ]
     },
     "metadata": {},
     "output_type": "display_data"
    }
   ],
   "source": [
    "steam_df['Achievements'].describe()"
   ]
  },
  {
   "cell_type": "code",
   "execution_count": null,
   "metadata": {},
   "outputs": [
    {
     "data": {
      "text/plain": [
       "array([   0,  427,  285, ..., 3430, 1758, 6520], dtype=int64)"
      ]
     },
     "metadata": {},
     "output_type": "display_data"
    }
   ],
   "source": [
    "steam_df['Recommendations'].unique()"
   ]
  },
  {
   "cell_type": "code",
   "execution_count": null,
   "metadata": {},
   "outputs": [
    {
     "data": {
      "text/plain": [
       "count    9.252400e+04\n",
       "mean     7.253689e+02\n",
       "std      1.725160e+04\n",
       "min      0.000000e+00\n",
       "25%      0.000000e+00\n",
       "50%      0.000000e+00\n",
       "75%      0.000000e+00\n",
       "max      3.441592e+06\n",
       "Name: Recommendations, dtype: float64"
      ]
     },
     "metadata": {},
     "output_type": "display_data"
    }
   ],
   "source": [
    "steam_df['Recommendations'].describe()"
   ]
  },
  {
   "cell_type": "code",
   "execution_count": null,
   "metadata": {},
   "outputs": [],
   "source": [
    "steam_df=steam_df.drop(columns= ['Notes'])"
   ]
  },
  {
   "cell_type": "code",
   "execution_count": null,
   "metadata": {},
   "outputs": [
    {
     "name": "stdout",
     "output_type": "stream",
     "text": [
      "<class 'pandas.core.frame.DataFrame'>\n",
      "Index: 92524 entries, 0 to 92749\n",
      "Data columns (total 29 columns):\n",
      " #   Column                      Non-Null Count  Dtype         \n",
      "---  ------                      --------------  -----         \n",
      " 0   Name                        92524 non-null  object        \n",
      " 1   Release date                92524 non-null  datetime64[ns]\n",
      " 2   Peak CCU                    92524 non-null  int64         \n",
      " 3   Required age                92524 non-null  int64         \n",
      " 4   Price                       92524 non-null  float64       \n",
      " 5   DLC count                   92524 non-null  int64         \n",
      " 6   Supported languages         92524 non-null  object        \n",
      " 7   Windows                     92524 non-null  bool          \n",
      " 8   Mac                         92524 non-null  bool          \n",
      " 9   Linux                       92524 non-null  bool          \n",
      " 10  Metacritic score            92524 non-null  int64         \n",
      " 11  User score                  92524 non-null  int64         \n",
      " 12  Positive                    92524 non-null  int64         \n",
      " 13  Negative                    92524 non-null  int64         \n",
      " 14  Achievements                92524 non-null  int64         \n",
      " 15  Recommendations             92524 non-null  int64         \n",
      " 16  Average playtime forever    92524 non-null  int64         \n",
      " 17  Average playtime two weeks  92524 non-null  int64         \n",
      " 18  Median playtime forever     92524 non-null  int64         \n",
      " 19  Median playtime two weeks   92524 non-null  int64         \n",
      " 20  Developers                  92403 non-null  object        \n",
      " 21  Publishers                  92113 non-null  object        \n",
      " 22  Categories                  91281 non-null  object        \n",
      " 23  Genres                      92434 non-null  object        \n",
      " 24  Tags                        67559 non-null  object        \n",
      " 25  Screenshots                 92490 non-null  object        \n",
      " 26  Movies                      89421 non-null  object        \n",
      " 27  DEOM                        92524 non-null  float64       \n",
      " 28  Game support                92524 non-null  int32         \n",
      "dtypes: bool(3), datetime64[ns](1), float64(2), int32(1), int64(13), object(9)\n",
      "memory usage: 19.0+ MB\n"
     ]
    }
   ],
   "source": [
    "steam_df.info()"
   ]
  },
  {
   "cell_type": "code",
   "execution_count": null,
   "metadata": {},
   "outputs": [
    {
     "data": {
      "text/plain": [
       "count     92524.000000\n",
       "mean         96.439799\n",
       "std        1095.716013\n",
       "min           0.000000\n",
       "25%           0.000000\n",
       "50%           0.000000\n",
       "75%           0.000000\n",
       "max      145727.000000\n",
       "Name: Average playtime forever, dtype: float64"
      ]
     },
     "metadata": {},
     "output_type": "display_data"
    }
   ],
   "source": [
    "steam_df['Average playtime forever'].describe()"
   ]
  },
  {
   "cell_type": "code",
   "execution_count": null,
   "metadata": {},
   "outputs": [],
   "source": [
    "\n",
    "steam_df['Publishers'] = steam_df['Publishers'].fillna(steam_df['Developers'])\n",
    "\n",
    "steam_df['Developers'] = steam_df['Developers'].fillna(steam_df['Publishers'])"
   ]
  },
  {
   "cell_type": "code",
   "execution_count": null,
   "metadata": {},
   "outputs": [],
   "source": [
    "missing_developer = steam_df.loc[steam_df['Developers'].isna()].index\n",
    "steam_df = steam_df.drop(missing_developer)\n"
   ]
  },
  {
   "cell_type": "code",
   "execution_count": null,
   "metadata": {},
   "outputs": [
    {
     "data": {
      "text/plain": [
       "array(['Home Office Tasker', 'Kooring VR Coding Adventure',\n",
       "       'Maria Blanchard Virtual Gallery', ..., 'RevoiceLive', 'Conduits',\n",
       "       'RawViewerMini'], dtype=object)"
      ]
     },
     "metadata": {},
     "output_type": "display_data"
    }
   ],
   "source": [
    "steam_df.loc[steam_df['Categories'].isna(),\"Name\"].unique()"
   ]
  },
  {
   "cell_type": "code",
   "execution_count": null,
   "metadata": {},
   "outputs": [
    {
     "data": {
      "text/plain": [
       "array(['Single-player,Multi-player,Steam Achievements,Partial Controller Support',\n",
       "       'Single-player,Steam Achievements,Full controller support,Steam Leaderboards,Remote Play on Phone,Remote Play on Tablet,Remote Play on TV',\n",
       "       'Single-player', ...,\n",
       "       'Single-player,Multi-player,PvP,Online PvP,Steam Achievements,Steam Workshop,Steam Cloud,Family Sharing',\n",
       "       'Multi-player,PvP,Online PvP,Co-op,Online Co-op,Steam Achievements,Steam Cloud,Family Sharing',\n",
       "       'Single-player,Steam Achievements,Full controller support,Steam Cloud,Steam Leaderboards,Remote Play on Phone,Remote Play on TV,Family Sharing'],\n",
       "      dtype=object)"
      ]
     },
     "metadata": {},
     "output_type": "display_data"
    }
   ],
   "source": [
    "steam_df['Categories'].unique()"
   ]
  },
  {
   "cell_type": "code",
   "execution_count": null,
   "metadata": {},
   "outputs": [],
   "source": [
    "steam_df = steam_df.drop(steam_df.loc[steam_df['Categories'].isna()].index)"
   ]
  },
  {
   "cell_type": "code",
   "execution_count": null,
   "metadata": {},
   "outputs": [
    {
     "data": {
      "text/plain": [
       "array(['Casual,Indie,Sports', 'Action,Indie',\n",
       "       'Action,Adventure,Indie,Strategy', ...,\n",
       "       'Casual,Indie,Racing,Free To Play',\n",
       "       'Adventure,Free To Play,Early Access',\n",
       "       'Casual,Massively Multiplayer,RPG,Simulation,Strategy,Free To Play'],\n",
       "      dtype=object)"
      ]
     },
     "metadata": {},
     "output_type": "display_data"
    }
   ],
   "source": [
    "steam_df['Genres'].unique()"
   ]
  },
  {
   "cell_type": "code",
   "execution_count": null,
   "metadata": {},
   "outputs": [],
   "source": [
    "steam_df = steam_df.drop(steam_df.loc[steam_df['Genres'].isna()].index)"
   ]
  },
  {
   "cell_type": "code",
   "execution_count": null,
   "metadata": {},
   "outputs": [],
   "source": [
    "\n",
    "steam_df.loc[steam_df['Tags'].isna(),\"Name\"].unique()\n",
    "\n",
    "for index, row in steam_df.iterrows():\n",
    "    if(pd.isnull(row['Tags'])):\n",
    "        steam_df.at[index, 'Tags'] = 'Untagged'"
   ]
  },
  {
   "cell_type": "code",
   "execution_count": null,
   "metadata": {},
   "outputs": [],
   "source": [
    "steam_df['Game media'] = steam_df[['Screenshots', 'Movies']].notna().any(axis=1).astype(int)\n",
    "steam_df=steam_df.drop(columns= ['Screenshots', 'Movies'])\n"
   ]
  },
  {
   "cell_type": "code",
   "execution_count": null,
   "metadata": {},
   "outputs": [
    {
     "name": "stdout",
     "output_type": "stream",
     "text": [
      "<class 'pandas.core.frame.DataFrame'>\n",
      "Index: 91145 entries, 0 to 92749\n",
      "Data columns (total 28 columns):\n",
      " #   Column                      Non-Null Count  Dtype         \n",
      "---  ------                      --------------  -----         \n",
      " 0   Name                        91145 non-null  object        \n",
      " 1   Release date                91145 non-null  datetime64[ns]\n",
      " 2   Peak CCU                    91145 non-null  int64         \n",
      " 3   Required age                91145 non-null  int64         \n",
      " 4   Price                       91145 non-null  float64       \n",
      " 5   DLC count                   91145 non-null  int64         \n",
      " 6   Supported languages         91145 non-null  object        \n",
      " 7   Windows                     91145 non-null  bool          \n",
      " 8   Mac                         91145 non-null  bool          \n",
      " 9   Linux                       91145 non-null  bool          \n",
      " 10  Metacritic score            91145 non-null  int64         \n",
      " 11  User score                  91145 non-null  int64         \n",
      " 12  Positive                    91145 non-null  int64         \n",
      " 13  Negative                    91145 non-null  int64         \n",
      " 14  Achievements                91145 non-null  int64         \n",
      " 15  Recommendations             91145 non-null  int64         \n",
      " 16  Average playtime forever    91145 non-null  int64         \n",
      " 17  Average playtime two weeks  91145 non-null  int64         \n",
      " 18  Median playtime forever     91145 non-null  int64         \n",
      " 19  Median playtime two weeks   91145 non-null  int64         \n",
      " 20  Developers                  91145 non-null  object        \n",
      " 21  Publishers                  91145 non-null  object        \n",
      " 22  Categories                  91145 non-null  object        \n",
      " 23  Genres                      91145 non-null  object        \n",
      " 24  Tags                        91145 non-null  object        \n",
      " 25  DEOM                        91145 non-null  float64       \n",
      " 26  Game support                91145 non-null  int32         \n",
      " 27  Game media                  91145 non-null  int32         \n",
      "dtypes: bool(3), datetime64[ns](1), float64(2), int32(2), int64(13), object(7)\n",
      "memory usage: 19.7+ MB\n"
     ]
    }
   ],
   "source": [
    "steam_df.info()"
   ]
  },
  {
   "cell_type": "code",
   "execution_count": null,
   "metadata": {},
   "outputs": [
    {
     "data": {
      "text/plain": [
       "Name                          0\n",
       "Release date                  0\n",
       "Peak CCU                      0\n",
       "Required age                  0\n",
       "Price                         0\n",
       "DLC count                     0\n",
       "Supported languages           0\n",
       "Windows                       0\n",
       "Mac                           0\n",
       "Linux                         0\n",
       "Metacritic score              0\n",
       "User score                    0\n",
       "Positive                      0\n",
       "Negative                      0\n",
       "Achievements                  0\n",
       "Recommendations               0\n",
       "Average playtime forever      0\n",
       "Average playtime two weeks    0\n",
       "Median playtime forever       0\n",
       "Median playtime two weeks     0\n",
       "Developers                    0\n",
       "Publishers                    0\n",
       "Categories                    0\n",
       "Genres                        0\n",
       "Tags                          0\n",
       "DEOM                          0\n",
       "Game support                  0\n",
       "Game media                    0\n",
       "dtype: int64"
      ]
     },
     "metadata": {},
     "output_type": "display_data"
    }
   ],
   "source": [
    "steam_df.isna().sum()"
   ]
  },
  {
   "cell_type": "code",
   "execution_count": null,
   "metadata": {},
   "outputs": [
    {
     "data": {
      "text/html": [
       "<div>\n",
       "<style scoped>\n",
       "    .dataframe tbody tr th:only-of-type {\n",
       "        vertical-align: middle;\n",
       "    }\n",
       "\n",
       "    .dataframe tbody tr th {\n",
       "        vertical-align: top;\n",
       "    }\n",
       "\n",
       "    .dataframe thead th {\n",
       "        text-align: right;\n",
       "    }\n",
       "</style>\n",
       "<table border=\"1\" class=\"dataframe\">\n",
       "  <thead>\n",
       "    <tr style=\"text-align: right;\">\n",
       "      <th></th>\n",
       "      <th>Name</th>\n",
       "      <th>Release date</th>\n",
       "      <th>Peak CCU</th>\n",
       "      <th>Required age</th>\n",
       "      <th>Price</th>\n",
       "      <th>DLC count</th>\n",
       "      <th>Supported languages</th>\n",
       "      <th>Windows</th>\n",
       "      <th>Mac</th>\n",
       "      <th>Linux</th>\n",
       "      <th>...</th>\n",
       "      <th>Median playtime forever</th>\n",
       "      <th>Median playtime two weeks</th>\n",
       "      <th>Developers</th>\n",
       "      <th>Publishers</th>\n",
       "      <th>Categories</th>\n",
       "      <th>Genres</th>\n",
       "      <th>Tags</th>\n",
       "      <th>DEOM</th>\n",
       "      <th>Game support</th>\n",
       "      <th>Game media</th>\n",
       "    </tr>\n",
       "  </thead>\n",
       "  <tbody>\n",
       "    <tr>\n",
       "      <th>0</th>\n",
       "      <td>Galactic Bowling</td>\n",
       "      <td>2008-10-21</td>\n",
       "      <td>0</td>\n",
       "      <td>0</td>\n",
       "      <td>19.99</td>\n",
       "      <td>0</td>\n",
       "      <td>['English']</td>\n",
       "      <td>True</td>\n",
       "      <td>False</td>\n",
       "      <td>False</td>\n",
       "      <td>...</td>\n",
       "      <td>0</td>\n",
       "      <td>0</td>\n",
       "      <td>Perpetual FX Creative</td>\n",
       "      <td>Perpetual FX Creative</td>\n",
       "      <td>Single-player,Multi-player,Steam Achievements,...</td>\n",
       "      <td>Casual,Indie,Sports</td>\n",
       "      <td>Indie,Casual,Sports,Bowling</td>\n",
       "      <td>7.051388</td>\n",
       "      <td>1</td>\n",
       "      <td>1</td>\n",
       "    </tr>\n",
       "    <tr>\n",
       "      <th>1</th>\n",
       "      <td>Train Bandit</td>\n",
       "      <td>2017-10-12</td>\n",
       "      <td>0</td>\n",
       "      <td>0</td>\n",
       "      <td>0.99</td>\n",
       "      <td>0</td>\n",
       "      <td>['English', 'French', 'Italian', 'German', 'Sp...</td>\n",
       "      <td>True</td>\n",
       "      <td>True</td>\n",
       "      <td>False</td>\n",
       "      <td>...</td>\n",
       "      <td>0</td>\n",
       "      <td>0</td>\n",
       "      <td>Rusty Moyher</td>\n",
       "      <td>Wild Rooster</td>\n",
       "      <td>Single-player,Steam Achievements,Full controll...</td>\n",
       "      <td>Action,Indie</td>\n",
       "      <td>Indie,Action,Pixel Graphics,2D,Retro,Arcade,Sc...</td>\n",
       "      <td>7.151645</td>\n",
       "      <td>1</td>\n",
       "      <td>1</td>\n",
       "    </tr>\n",
       "  </tbody>\n",
       "</table>\n",
       "<p>2 rows × 28 columns</p>\n",
       "</div>"
      ],
      "text/plain": [
       "               Name Release date  Peak CCU  Required age  Price  DLC count  \\\n",
       "0  Galactic Bowling   2008-10-21         0             0  19.99          0   \n",
       "1      Train Bandit   2017-10-12         0             0   0.99          0   \n",
       "\n",
       "                                 Supported languages  Windows    Mac  Linux  \\\n",
       "0                                        ['English']     True  False  False   \n",
       "1  ['English', 'French', 'Italian', 'German', 'Sp...     True   True  False   \n",
       "\n",
       "   ...  Median playtime forever  Median playtime two weeks  \\\n",
       "0  ...                        0                          0   \n",
       "1  ...                        0                          0   \n",
       "\n",
       "              Developers             Publishers  \\\n",
       "0  Perpetual FX Creative  Perpetual FX Creative   \n",
       "1           Rusty Moyher           Wild Rooster   \n",
       "\n",
       "                                          Categories               Genres  \\\n",
       "0  Single-player,Multi-player,Steam Achievements,...  Casual,Indie,Sports   \n",
       "1  Single-player,Steam Achievements,Full controll...         Action,Indie   \n",
       "\n",
       "                                                Tags      DEOM  Game support  \\\n",
       "0                        Indie,Casual,Sports,Bowling  7.051388             1   \n",
       "1  Indie,Action,Pixel Graphics,2D,Retro,Arcade,Sc...  7.151645             1   \n",
       "\n",
       "   Game media  \n",
       "0           1  \n",
       "1           1  \n",
       "\n",
       "[2 rows x 28 columns]"
      ]
     },
     "metadata": {},
     "output_type": "display_data"
    }
   ],
   "source": [
    "steam_df.head(2)"
   ]
  },
  {
   "cell_type": "code",
   "execution_count": null,
   "metadata": {},
   "outputs": [
    {
     "data": {
      "text/plain": [
       "0.16"
      ]
     },
     "metadata": {},
     "output_type": "display_data"
    }
   ],
   "source": [
    "round(steam_df[steam_df['Price'] == 0].shape[0] / steam_df.shape[0], 2)"
   ]
  },
  {
   "cell_type": "code",
   "execution_count": null,
   "metadata": {},
   "outputs": [
    {
     "data": {
      "text/plain": [
       "0                                          ['English']\n",
       "1    ['English', 'French', 'Italian', 'German', 'Sp...\n",
       "2                   ['English', 'Portuguese - Brazil']\n",
       "3    ['English', 'French', 'Italian', 'German', 'Sp...\n",
       "4                       ['English', 'Spanish - Spain']\n",
       "Name: Supported languages, dtype: object"
      ]
     },
     "metadata": {},
     "output_type": "display_data"
    }
   ],
   "source": [
    "steam_df['Supported languages'].head()"
   ]
  },
  {
   "cell_type": "code",
   "execution_count": null,
   "metadata": {},
   "outputs": [
    {
     "data": {
      "text/plain": [
       "[\"['English']\",\n",
       " \"['English', 'French', 'Italian', 'German', 'Spanish - Spain', 'Japanese', 'Portuguese - Brazil', 'Russian', 'Simplified Chinese', 'Traditional Chinese']\",\n",
       " \"['English', 'Portuguese - Brazil']\",\n",
       " \"['English', 'French', 'Italian', 'German', 'Spanish - Spain', 'Japanese', 'Korean', 'Portuguese', 'Russian', 'Simplified Chinese', 'Traditional Chinese']\",\n",
       " \"['English', 'Spanish - Spain']\",\n",
       " \"['English']\",\n",
       " \"['English', 'Russian', 'Danish']\",\n",
       " \"['English', 'German']\",\n",
       " \"['English', 'French', 'Italian', 'German', 'Spanish - Spain', 'Russian', 'Japanese', 'Simplified Chinese', 'Traditional Chinese', 'Korean']\",\n",
       " \"['English', 'Polish', 'French', 'Italian', 'German', 'Spanish - Spain', 'Portuguese', 'Russian', 'Japanese']\",\n",
       " \"['English', 'French', 'German', 'Polish', 'Russian']\",\n",
       " \"['English']\",\n",
       " \"['English']\",\n",
       " \"['English']\",\n",
       " \"['English', 'Korean']\",\n",
       " \"['English', 'French', 'German', 'Italian', 'Japanese', 'Spanish - Spain']\",\n",
       " \"['English']\",\n",
       " \"['English', 'French', 'German', 'Spanish - Spain', 'Russian', 'Turkish', 'Czech', 'Portuguese - Brazil', 'Hungarian', 'Polish', 'Italian', 'Dutch', 'Ukrainian', 'Danish', 'Simplified Chinese']\",\n",
       " \"['English', 'Traditional Chinese']\",\n",
       " \"['English']\",\n",
       " \"['English', 'Russian', 'French', 'German']\",\n",
       " \"['English']\",\n",
       " \"['English', 'German', 'French']\",\n",
       " \"['English']\",\n",
       " \"['English']\",\n",
       " \"['English']\",\n",
       " \"['English']\",\n",
       " \"['English', 'Italian', 'Portuguese - Brazil', 'Spanish - Latin America', 'Spanish - Spain', 'Portuguese']\",\n",
       " \"['English', 'Portuguese - Brazil']\",\n",
       " \"['Simplified Chinese', 'English', 'Portuguese - Brazil']\",\n",
       " \"['English']\",\n",
       " \"['English']\",\n",
       " \"['English']\",\n",
       " \"['English']\",\n",
       " \"['English']\",\n",
       " \"['English']\",\n",
       " \"['English', 'French', 'German', 'Spanish - Spain', 'Russian', 'Japanese', 'Traditional Chinese', 'Portuguese', 'Portuguese - Brazil', 'Spanish - Latin America', 'Korean', 'Simplified Chinese']\",\n",
       " \"['English']\",\n",
       " \"['English']\",\n",
       " \"['English']\",\n",
       " \"['English']\",\n",
       " \"['English', 'German', 'Polish', 'French', 'Russian']\",\n",
       " \"['English']\",\n",
       " \"['English', 'French', 'German', 'Spanish - Spain', 'Italian', 'Japanese', 'Korean', 'Portuguese - Brazil', 'Russian', 'Simplified Chinese', 'Traditional Chinese']\",\n",
       " \"['English']\",\n",
       " \"['English']\",\n",
       " \"['English', 'French', 'Italian', 'German', 'Spanish - Spain', 'Arabic', 'Czech', 'Dutch', 'Japanese', 'Korean', 'Polish', 'Portuguese - Brazil', 'Russian', 'Simplified Chinese', 'Traditional Chinese']\",\n",
       " \"['English']\",\n",
       " \"['English', 'Japanese', 'Simplified Chinese', 'Korean']\",\n",
       " \"['English']\",\n",
       " \"['English']\",\n",
       " \"['English']\",\n",
       " \"['English', 'French', 'German', 'Spanish - Spain', 'Japanese', 'Korean', 'Portuguese', 'Russian', 'Simplified Chinese', 'Turkish', 'Italian', 'Spanish - Latin America']\",\n",
       " \"['English']\",\n",
       " \"['English']\",\n",
       " \"['English', 'Russian', 'Portuguese', 'Portuguese - Brazil', 'Ukrainian']\",\n",
       " \"['English', 'French', 'Italian', 'German', 'Spanish - Spain', 'Czech', 'Hungarian', 'Japanese', 'Korean', 'Polish', 'Portuguese - Brazil', 'Russian', 'Simplified Chinese', 'Spanish - Latin America', 'Traditional Chinese', 'Turkish']\",\n",
       " \"['English']\",\n",
       " \"['Simplified Chinese']\",\n",
       " \"['English']\",\n",
       " \"['English']\",\n",
       " \"['English']\",\n",
       " \"['English', 'French', 'Italian', 'German', 'Spanish - Spain', 'Arabic', 'Czech', 'Danish', 'Dutch', 'Hungarian', 'Japanese', 'Korean', 'Norwegian', 'Polish', 'Portuguese', 'Romanian', 'Russian', 'Swedish', 'Thai', 'Turkish', 'Vietnamese', 'Simplified Chinese']\",\n",
       " \"['English', 'Japanese']\",\n",
       " \"['English']\",\n",
       " \"['English']\",\n",
       " \"['English', 'Japanese', 'Korean', 'Simplified Chinese']\",\n",
       " \"['English']\",\n",
       " \"['English', 'French', 'Spanish - Spain', 'Simplified Chinese', 'Japanese', 'Italian']\",\n",
       " \"['English']\",\n",
       " \"['English', 'Russian', 'Italian', 'German', 'Traditional Chinese', 'Portuguese - Brazil']\",\n",
       " \"['English']\",\n",
       " \"['English']\",\n",
       " \"['English', 'French']\",\n",
       " \"['English']\",\n",
       " \"['English']\",\n",
       " \"['English']\",\n",
       " \"['English']\",\n",
       " \"['English', 'Simplified Chinese', 'Traditional Chinese']\",\n",
       " \"['English', 'Simplified Chinese']\",\n",
       " \"['English']\",\n",
       " \"['Japanese']\",\n",
       " \"['English']\",\n",
       " \"['English', 'French', 'Italian', 'German', 'Spanish - Spain', 'Dutch']\",\n",
       " \"['English']\",\n",
       " \"['English']\",\n",
       " \"['English', 'Simplified Chinese']\",\n",
       " \"['English']\",\n",
       " \"['English', 'French']\",\n",
       " \"['English', 'French', 'Italian', 'German', 'Spanish - Spain', 'Japanese', 'Simplified Chinese']\",\n",
       " \"['English']\",\n",
       " \"['English']\",\n",
       " \"['English', 'French', 'German', 'Spanish - Spain', 'Portuguese - Brazil', 'Spanish - Latin America']\",\n",
       " \"['English']\",\n",
       " \"['English', 'French', 'Italian', 'German', 'Spanish - Spain', 'Polish', 'Portuguese - Brazil', 'Russian', 'Simplified Chinese']\",\n",
       " \"['English', 'Simplified Chinese', 'Korean', 'Russian']\",\n",
       " \"['English']\",\n",
       " \"['English']\",\n",
       " \"['English', 'French', 'Simplified Chinese', 'Traditional Chinese', 'Japanese', 'Korean']\",\n",
       " \"['English']\",\n",
       " \"['English', 'Portuguese - Brazil']\",\n",
       " \"['English']\",\n",
       " \"['English']\",\n",
       " \"['English']\",\n",
       " \"['English', 'Spanish - Spain', 'French', 'Italian', 'German', 'Simplified Chinese', 'Traditional Chinese', 'Korean', 'Japanese', 'Portuguese', 'Russian']\",\n",
       " \"['English', 'French', 'Italian', 'German', 'Spanish - Spain']\",\n",
       " \"['English']\",\n",
       " \"['English', 'French', 'German', 'Romanian', 'Russian', 'Simplified Chinese', 'Italian', 'Spanish - Spain']\",\n",
       " \"['English']\",\n",
       " \"['English']\",\n",
       " \"['English']\",\n",
       " \"['English']\",\n",
       " \"['English']\",\n",
       " \"['English', 'Russian']\",\n",
       " \"['English', 'French', 'Italian', 'German', 'Spanish - Spain', 'Portuguese - Brazil', 'Korean', 'Japanese', 'Simplified Chinese', 'Traditional Chinese']\",\n",
       " \"['English', 'French', 'German', 'Spanish - Spain', 'Polish', 'Portuguese - Brazil', 'Russian']\",\n",
       " \"['English', 'French', 'German', 'Spanish - Spain', 'Dutch', 'Portuguese - Brazil', 'Turkish', 'Russian']\",\n",
       " \"['English', 'French', 'Italian', 'German', 'Spanish - Spain', 'Japanese', 'Korean', 'Polish', 'Portuguese - Brazil', 'Russian', 'Simplified Chinese']\",\n",
       " \"['English', 'Russian']\",\n",
       " \"['English', 'French', 'German', 'Spanish - Spain', 'Russian']\",\n",
       " \"['Simplified Chinese']\",\n",
       " \"['English']\",\n",
       " \"['English']\",\n",
       " \"['English']\",\n",
       " \"['English']\",\n",
       " \"['English', 'French', 'Italian', 'German', 'Spanish - Spain', 'Japanese', 'Korean', 'Polish', 'Russian', 'Simplified Chinese', 'Spanish - Latin America', 'Turkish', 'Thai', 'Portuguese', 'Czech', 'Dutch', 'Finnish', 'Norwegian', 'Portuguese - Brazil', 'Romanian', 'Hungarian']\",\n",
       " \"['English']\",\n",
       " \"['Simplified Chinese', 'English', 'Traditional Chinese']\",\n",
       " \"['English', 'French', 'Italian', 'German', 'Spanish - Spain', 'Simplified Chinese', 'Japanese', 'Portuguese - Brazil', 'Russian']\",\n",
       " \"['English']\",\n",
       " \"['English', 'French', 'Italian', 'German', 'Spanish - Spain', 'Japanese', 'Portuguese - Brazil', 'Russian', 'Simplified Chinese']\",\n",
       " \"['English']\",\n",
       " \"['English']\",\n",
       " \"['English']\",\n",
       " \"['English', 'French', 'German', 'Italian', 'Spanish - Spain']\",\n",
       " \"['English']\",\n",
       " \"['English', 'French', 'German', 'Italian', 'Spanish - Spain']\",\n",
       " \"['English', 'French']\",\n",
       " \"['English']\",\n",
       " \"['English', 'Russian']\",\n",
       " \"['English']\",\n",
       " \"['English']\",\n",
       " \"['English', 'French', 'Italian', 'German', 'Spanish - Spain']\",\n",
       " \"['English', 'Simplified Chinese', 'Traditional Chinese', 'Japanese']\",\n",
       " \"['English']\",\n",
       " \"['Simplified Chinese']\",\n",
       " \"['English']\",\n",
       " \"['English']\",\n",
       " \"['English', 'Russian', 'Simplified Chinese', 'French', 'German']\",\n",
       " \"['English']\",\n",
       " \"['English', 'French', 'Italian', 'German', 'Spanish - Spain', 'Arabic', 'Dutch', 'Japanese', 'Korean', 'Polish', 'Portuguese - Brazil', 'Russian', 'Simplified Chinese', 'Spanish - Latin America', 'Swedish', 'Thai', 'Traditional Chinese', 'Turkish']\",\n",
       " \"['English', 'French', 'German', 'Spanish - Spain', 'Russian', 'Simplified Chinese', 'Japanese', 'Polish', 'Portuguese', 'Ukrainian', 'Italian', 'Arabic', 'Bulgarian', 'Czech', 'Danish', 'Dutch', 'Finnish', 'Greek', 'Hungarian', 'Korean', 'Norwegian', 'Portuguese - Brazil', 'Romanian', 'Spanish - Latin America', 'Swedish', 'Thai', 'Traditional Chinese', 'Turkish', 'Vietnamese']\",\n",
       " \"['English']\",\n",
       " \"['English', 'French', 'Italian', 'German', 'Spanish - Spain', 'Japanese', 'Korean', 'Simplified Chinese']\",\n",
       " \"['English', 'Portuguese - Brazil']\",\n",
       " \"['English', 'Russian']\",\n",
       " \"['English', 'Spanish - Spain', 'French']\",\n",
       " \"['English', 'German', 'Russian', 'Simplified Chinese', 'Turkish', 'Spanish - Spain']\",\n",
       " \"['Simplified Chinese', 'Traditional Chinese']\",\n",
       " \"['English', 'Polish', 'French', 'German', 'Spanish - Spain', 'Hungarian', 'Russian']\",\n",
       " \"['English']\",\n",
       " \"['English']\",\n",
       " \"['English']\",\n",
       " \"['Simplified Chinese']\",\n",
       " \"['English', 'Russian']\",\n",
       " \"['English', 'French', 'German']\",\n",
       " \"['Simplified Chinese']\",\n",
       " \"['English']\",\n",
       " \"['English']\",\n",
       " \"['English']\",\n",
       " \"['English']\",\n",
       " \"['English', 'French', 'Spanish - Spain', 'Finnish', 'German']\",\n",
       " \"['English', 'French', 'German', 'Spanish - Spain', 'Russian', 'Simplified Chinese', 'Portuguese - Brazil', 'Japanese', 'Korean', 'Polish', 'Turkish']\",\n",
       " \"['English']\",\n",
       " \"['English']\",\n",
       " \"['English', 'French', 'Italian', 'German', 'Spanish - Spain', 'Polish', 'Portuguese - Brazil', 'Russian', 'Japanese']\",\n",
       " \"['English']\",\n",
       " \"['English']\",\n",
       " \"['English']\",\n",
       " \"['English']\",\n",
       " \"['English', 'Portuguese - Brazil', 'Spanish - Latin America', 'Portuguese', 'Simplified Chinese', 'German', 'Russian', 'Japanese']\",\n",
       " \"['English']\",\n",
       " \"['English']\",\n",
       " \"['English', 'Japanese']\",\n",
       " \"['Japanese']\",\n",
       " \"['English']\",\n",
       " \"['English']\",\n",
       " \"['English']\",\n",
       " \"['English']\",\n",
       " \"['English', 'Simplified Chinese', 'Russian']\",\n",
       " \"['English']\",\n",
       " \"['English']\",\n",
       " \"['Japanese', 'English']\",\n",
       " \"['English', 'Spanish - Spain', 'Korean', 'Russian', 'Simplified Chinese']\",\n",
       " \"['English', 'French', 'Italian', 'German', 'Spanish - Spain', 'Arabic', 'Portuguese - Brazil', 'Vietnamese', 'Spanish - Latin America', 'Traditional Chinese', 'Simplified Chinese', 'Korean', 'Polish', 'Portuguese', 'Russian', 'Thai', 'Turkish', 'Japanese']\",\n",
       " \"['English', 'Simplified Chinese']\",\n",
       " \"['English']\",\n",
       " \"['English', 'German', 'Spanish - Spain', 'Polish', 'Russian', 'French', 'Italian', 'Traditional Chinese', 'Simplified Chinese']\",\n",
       " \"['English']\",\n",
       " \"['English']\",\n",
       " \"['English']\",\n",
       " \"['English', 'German', 'Russian', 'French', 'Italian', 'Spanish - Spain', 'Japanese', 'Korean', 'Polish', 'Portuguese - Brazil', 'Simplified Chinese', 'Traditional Chinese']\",\n",
       " \"['English']\",\n",
       " \"['English', 'Portuguese - Brazil']\",\n",
       " \"['English', 'French', 'Italian', 'German', 'Spanish - Spain', 'Portuguese - Brazil', 'Spanish - Latin America']\",\n",
       " \"['English']\",\n",
       " \"['English']\",\n",
       " \"['English', 'Russian', 'Ukrainian']\",\n",
       " \"['English', 'Portuguese - Brazil']\",\n",
       " \"['English']\",\n",
       " \"['English', 'French', 'Italian', 'German', 'Spanish - Spain', 'Russian']\",\n",
       " \"['English']\",\n",
       " \"['English']\",\n",
       " \"['English', 'French', 'German']\",\n",
       " \"['English']\",\n",
       " \"['English']\",\n",
       " \"['English', 'Polish', 'French', 'Italian', 'German', 'Spanish - Spain', 'Russian']\",\n",
       " \"['English', 'French', 'German', 'Spanish - Spain', 'Italian', 'Japanese', 'Portuguese - Brazil', 'Russian', 'Traditional Chinese']\",\n",
       " \"['English', 'French', 'Italian', 'German', 'Spanish - Spain', 'Dutch', 'Japanese', 'Simplified Chinese']\",\n",
       " \"['Japanese']\",\n",
       " \"['English']\",\n",
       " \"['English', 'German']\",\n",
       " \"['English', 'Russian', 'French', 'Portuguese - Brazil', 'German', 'Simplified Chinese', 'Spanish - Spain', 'Portuguese', 'Traditional Chinese', 'Italian', 'Japanese']\",\n",
       " \"['English']\",\n",
       " \"['English']\",\n",
       " \"['English']\",\n",
       " \"['English', 'French', 'Italian', 'German', 'Spanish - Spain', 'Hungarian', 'Portuguese - Brazil', 'Russian', 'Polish']\",\n",
       " \"['English']\",\n",
       " \"['English']\",\n",
       " \"['English']\",\n",
       " \"['English', 'Spanish - Spain', 'Simplified Chinese', 'Russian', 'French', 'Italian', 'German', 'Spanish - Latin America', 'Ukrainian', 'Turkish', 'Japanese', 'Polish', 'Thai', 'Swedish', 'Traditional Chinese', 'Portuguese', 'Portuguese - Brazil', 'Vietnamese', 'Arabic', 'Korean']\",\n",
       " \"['English']\",\n",
       " \"['English', 'Japanese', 'Korean', 'Simplified Chinese', 'Traditional Chinese']\",\n",
       " \"['Simplified Chinese']\",\n",
       " \"['English']\",\n",
       " \"['English']\",\n",
       " \"['English', 'Russian']\",\n",
       " \"['English']\",\n",
       " \"['English']\",\n",
       " \"['English', 'French', 'Italian', 'German', 'Spanish - Spain', 'Polish', 'Russian']\",\n",
       " \"['English']\",\n",
       " \"['English']\",\n",
       " \"['English']\",\n",
       " \"['English']\",\n",
       " \"['English', 'Japanese']\",\n",
       " \"['English', 'French', 'German', 'Spanish - Spain', 'Japanese', 'Portuguese - Brazil', 'Russian']\",\n",
       " \"['English']\",\n",
       " \"['Japanese']\",\n",
       " \"['Simplified Chinese']\",\n",
       " \"['English', 'Japanese']\",\n",
       " \"['English', 'French', 'German', 'Italian', 'Spanish - Spain']\",\n",
       " \"['English', 'French', 'German', 'Simplified Chinese', 'Russian']\",\n",
       " \"['English']\",\n",
       " \"['English', 'Portuguese - Brazil']\",\n",
       " \"['English', 'Russian']\",\n",
       " \"['English', 'French', 'Italian', 'German', 'Spanish - Spain', 'Dutch', 'Japanese', 'Korean', 'Polish', 'Russian', 'Simplified Chinese', 'Swedish', 'Thai', 'Traditional Chinese', 'Portuguese - Brazil']\",\n",
       " \"['English', 'Simplified Chinese', 'Traditional Chinese']\",\n",
       " \"['English']\",\n",
       " \"['English']\",\n",
       " \"['English', 'Russian', 'German', 'Hungarian', 'Korean', 'Greek', 'Portuguese - Brazil', 'Simplified Chinese', 'Polish', 'French', 'Italian', 'Spanish - Spain', 'Czech', 'Japanese', 'Spanish - Latin America', 'Traditional Chinese', 'Turkish', 'Vietnamese']\",\n",
       " \"['English']\",\n",
       " \"['English', 'Simplified Chinese', 'Traditional Chinese', 'Japanese', 'Korean']\",\n",
       " \"['English', 'Japanese']\",\n",
       " \"['English']\",\n",
       " \"['English', 'Russian']\",\n",
       " \"['English']\",\n",
       " \"['English', '\\\\r\\\\nFrench', '\\\\r\\\\nGerman']\",\n",
       " \"['English']\",\n",
       " \"['English']\",\n",
       " \"['Simplified Chinese']\",\n",
       " \"['Russian', 'English']\",\n",
       " \"['English']\",\n",
       " \"['English', 'French']\",\n",
       " \"['English']\",\n",
       " \"['English', 'Portuguese - Brazil']\",\n",
       " \"['Simplified Chinese']\",\n",
       " \"['English']\",\n",
       " \"['English']\",\n",
       " \"['English', 'Russian']\",\n",
       " \"['English', 'Japanese', 'Simplified Chinese', 'Traditional Chinese']\",\n",
       " \"['English', 'French', 'Italian', 'German', 'Spanish - Spain', 'Russian', 'Simplified Chinese']\",\n",
       " \"['English', 'German', 'Russian']\",\n",
       " \"['English', 'French', 'Italian', 'German', 'Spanish - Spain', 'Dutch', 'Portuguese - Brazil', 'Russian', 'Swedish']\",\n",
       " \"['English']\",\n",
       " \"['English']\",\n",
       " \"['Simplified Chinese']\",\n",
       " \"['English']\",\n",
       " \"['English']\",\n",
       " \"['English']\",\n",
       " \"['English', 'French', 'Italian', 'German', 'Spanish - Spain', 'Russian', 'Turkish', 'Japanese', 'Polish', 'Thai', 'Simplified Chinese', 'Traditional Chinese', 'Portuguese', 'Arabic', 'Korean']\",\n",
       " \"['English', 'Simplified Chinese']\",\n",
       " \"['English']\",\n",
       " \"['English', 'Portuguese - Brazil']\",\n",
       " \"['English', 'French', 'Italian', 'German', 'Spanish - Spain', 'Arabic', 'Bulgarian', 'Czech', 'Danish', 'Dutch', 'Finnish', 'Greek', 'Hungarian', 'Japanese', 'Korean', 'Norwegian', 'Polish', 'Portuguese', 'Portuguese - Brazil', 'Romanian', 'Russian', 'Simplified Chinese', 'Spanish - Latin America', 'Swedish', 'Thai', 'Traditional Chinese', 'Turkish', 'Ukrainian', 'Vietnamese']\",\n",
       " \"['Simplified Chinese']\",\n",
       " \"['English']\",\n",
       " \"['English']\",\n",
       " \"['English']\",\n",
       " \"['English']\",\n",
       " \"['English']\",\n",
       " \"['English']\",\n",
       " \"['English']\",\n",
       " \"['English', 'French', 'Italian', 'German', 'Spanish - Spain', 'Dutch', 'Japanese', 'Korean', 'Polish', 'Portuguese - Brazil', 'Russian', 'Simplified Chinese', 'Swedish', 'Thai', 'Traditional Chinese', 'Turkish', 'Vietnamese']\",\n",
       " \"['English']\",\n",
       " \"['English']\",\n",
       " \"['English']\",\n",
       " \"['English']\",\n",
       " \"['English']\",\n",
       " \"['English', 'French', 'Italian', 'German', 'Spanish - Spain', 'Dutch']\",\n",
       " \"['English', 'Danish', 'Norwegian', 'Russian']\",\n",
       " \"['English']\",\n",
       " \"['English']\",\n",
       " \"['English']\",\n",
       " \"['English']\",\n",
       " \"['English']\",\n",
       " \"['Simplified Chinese']\",\n",
       " \"['English']\",\n",
       " \"['English']\",\n",
       " \"['English']\",\n",
       " \"['English']\",\n",
       " \"['English', 'French', 'Italian', 'German', 'Spanish - Spain', 'Korean', 'Polish', 'Portuguese', 'Portuguese - Brazil', 'Russian', 'Simplified Chinese', 'Traditional Chinese']\",\n",
       " \"['English']\",\n",
       " \"['English']\",\n",
       " \"['English', 'Portuguese - Brazil', 'Russian']\",\n",
       " \"['English']\",\n",
       " \"['English']\",\n",
       " \"['English', 'Russian', 'Portuguese', 'Spanish - Spain', 'Spanish - Latin America', 'Turkish']\",\n",
       " \"['English']\",\n",
       " \"['English']\",\n",
       " \"['English']\",\n",
       " \"['English']\",\n",
       " \"['English', 'French', 'Italian', 'German', 'Spanish - Spain', 'Japanese', 'Korean', 'Russian', 'Simplified Chinese', 'Traditional Chinese', 'Portuguese - Brazil']\",\n",
       " \"['English']\",\n",
       " \"['English']\",\n",
       " \"['English', 'German', 'Russian', 'French', 'Simplified Chinese', 'Spanish - Spain', 'Korean', 'Polish', 'Traditional Chinese', 'Japanese', 'Ukrainian']\",\n",
       " \"['English']\",\n",
       " \"['English']\",\n",
       " \"['English']\",\n",
       " \"['English', 'Russian']\",\n",
       " \"['English']\",\n",
       " \"['English']\",\n",
       " \"['English', 'Portuguese - Brazil', 'Spanish - Latin America']\",\n",
       " \"['English', 'Italian', 'Spanish - Spain', 'Russian', 'French', 'German']\",\n",
       " \"['English', 'Spanish - Spain', 'Italian', 'German', 'Russian']\",\n",
       " \"['English']\",\n",
       " \"['English']\",\n",
       " \"['English', 'Russian']\",\n",
       " \"['English']\",\n",
       " \"['English', 'Japanese', 'Simplified Chinese', 'Traditional Chinese']\",\n",
       " \"['English', 'French', 'Spanish - Spain', 'German']\",\n",
       " \"['English']\",\n",
       " \"['English']\",\n",
       " \"['English', 'French', 'Italian', 'German', 'Spanish - Spain', 'Russian', 'Japanese', 'Simplified Chinese', 'Traditional Chinese', 'Portuguese', 'Korean']\",\n",
       " \"['English']\",\n",
       " \"['English']\",\n",
       " \"['Simplified Chinese', 'English']\",\n",
       " \"['English']\",\n",
       " \"['English', 'French', 'Italian', 'German', 'Spanish - Spain', 'Arabic', 'Bulgarian', 'Portuguese - Brazil', 'Hungarian', 'Vietnamese', 'Greek', 'Danish', 'Spanish - Latin America', 'Traditional Chinese', 'Simplified Chinese', 'Korean', 'Dutch', 'Norwegian', 'Polish', 'Portuguese', 'Romanian', 'Russian', 'Thai', 'Turkish', 'Ukrainian', 'Finnish', 'Czech', 'Swedish', 'Japanese']\",\n",
       " \"['English']\",\n",
       " \"['Traditional Chinese', 'English', 'Japanese', 'Simplified Chinese', 'German', 'French', 'Spanish - Spain', 'Russian', 'Portuguese', 'Korean', 'Polish', 'Dutch', 'Thai', 'Portuguese - Brazil', 'Spanish - Latin America', 'Italian']\",\n",
       " \"['English']\",\n",
       " \"['English', 'Simplified Chinese', 'French', 'Italian', 'German', 'Spanish - Spain', 'Danish', 'Ukrainian', 'Russian', 'Bulgarian', 'Hungarian', 'Turkish', 'Greek', 'Norwegian', 'Czech', 'Japanese', 'Polish', 'Thai', 'Swedish', 'Traditional Chinese', 'Romanian', 'Finnish', 'Dutch', 'Portuguese', 'Portuguese - Brazil', 'Spanish - Latin America', 'Vietnamese', 'Arabic', 'Korean']\",\n",
       " \"['English', 'Russian', 'Italian', 'German', 'Simplified Chinese']\",\n",
       " \"['English']\",\n",
       " \"['English']\",\n",
       " \"['English', 'French', 'Italian', 'German', 'Spanish - Spain']\",\n",
       " \"['English']\",\n",
       " \"['English', 'French', 'Italian', 'German', 'Spanish - Spain', 'Japanese', 'Korean', 'Portuguese - Brazil', 'Russian', 'Simplified Chinese', 'Traditional Chinese']\",\n",
       " \"['English', 'Russian']\",\n",
       " \"['English', 'Spanish - Spain', 'Spanish - Latin America']\",\n",
       " \"['English']\",\n",
       " \"['English']\",\n",
       " \"['English', 'Russian']\",\n",
       " \"['Portuguese - Brazil']\",\n",
       " \"['Simplified Chinese']\",\n",
       " \"['English', 'French', 'Italian', 'German', 'Spanish - Spain', 'Russian']\",\n",
       " \"['English']\",\n",
       " \"['English']\",\n",
       " \"['English']\",\n",
       " \"['English', 'Russian']\",\n",
       " \"['English']\",\n",
       " \"['English']\",\n",
       " \"['English']\",\n",
       " \"['English']\",\n",
       " \"['English', 'Simplified Chinese', 'Traditional Chinese']\",\n",
       " \"['English', 'Portuguese - Brazil', 'Simplified Chinese']\",\n",
       " \"['English', 'French', 'Italian', 'German', 'Spanish - Spain', 'Bulgarian', 'Simplified Chinese', 'Traditional Chinese', 'Korean', 'Danish', 'Spanish - Latin America', 'Finnish', 'Greek', 'Dutch', 'Hungarian', 'Japanese', 'Norwegian', 'Polish', 'Portuguese', 'Portuguese - Brazil', 'Romanian', 'Russian', 'Swedish', 'Thai', 'Czech', 'Turkish', 'Ukrainian', 'Vietnamese', 'Arabic']\",\n",
       " \"['English']\",\n",
       " \"['English', 'Japanese']\",\n",
       " \"['English']\",\n",
       " \"['English', 'French', 'Italian', 'German', 'Spanish - Spain', 'Portuguese - Brazil']\",\n",
       " \"['English']\",\n",
       " \"['English']\",\n",
       " \"['English']\",\n",
       " \"['English']\",\n",
       " \"['French']\",\n",
       " \"['English']\",\n",
       " \"['English', 'Russian', 'Spanish - Spain', 'Japanese', 'Simplified Chinese']\",\n",
       " \"['English', 'Italian', 'Spanish - Spain', 'Russian', 'French', 'Portuguese - Brazil', 'German', 'Dutch', 'Swedish']\",\n",
       " \"['English', 'Japanese']\",\n",
       " \"['English']\",\n",
       " \"['English', 'French', 'German', 'Spanish - Spain', 'Russian']\",\n",
       " \"['English', 'French', 'Italian', 'German', 'Spanish - Spain', 'Japanese', 'Portuguese', 'Portuguese - Brazil', 'Russian', 'Simplified Chinese', 'Traditional Chinese', 'Turkish', 'Dutch', 'Polish']\",\n",
       " \"['English']\",\n",
       " \"['English']\",\n",
       " \"['English', 'French', 'Italian', 'German', 'Spanish - Spain', 'Arabic', 'Bulgarian', 'Portuguese - Brazil', 'Hungarian', 'Vietnamese', 'Greek', 'Danish', 'Spanish - Latin America', 'Traditional Chinese', 'Simplified Chinese', 'Korean', 'Dutch', 'Norwegian', 'Polish', 'Portuguese', 'Romanian', 'Russian', 'Thai', 'Turkish', 'Ukrainian', 'Finnish', 'Czech', 'Swedish', 'Japanese']\",\n",
       " \"['English']\",\n",
       " \"['English', 'Russian']\",\n",
       " \"['English']\",\n",
       " \"['English', 'French', 'Spanish - Spain', 'Italian', 'German', 'Portuguese - Brazil']\",\n",
       " \"['English']\",\n",
       " \"['English', 'French', 'German', 'Spanish - Spain', 'Japanese', 'Korean', 'Russian', 'Simplified Chinese']\",\n",
       " \"['English', 'German', 'Russian', 'Simplified Chinese', 'French', 'Spanish - Spain', 'Polish', 'Portuguese - Brazil', 'Dutch', 'Korean', 'Japanese', 'Traditional Chinese', 'Turkish']\",\n",
       " \"['English']\",\n",
       " \"['English']\",\n",
       " \"['English', 'French']\",\n",
       " \"['English']\",\n",
       " \"['English', 'Japanese', 'French', 'Spanish - Spain', 'Simplified Chinese', 'Traditional Chinese', 'Korean', 'Portuguese - Brazil']\",\n",
       " \"['English', 'French', 'Italian', 'German', 'Spanish - Spain', 'Russian', 'Turkish', 'Japanese', 'Thai', 'Simplified Chinese', 'Traditional Chinese', 'Portuguese - Brazil', 'Vietnamese', 'Arabic', 'Korean', 'Spanish - Latin America', 'Portuguese']\",\n",
       " \"['English', 'Simplified Chinese', 'Japanese', 'Traditional Chinese', 'Korean', 'French', 'Italian', 'German', 'Spanish - Spain', 'Arabic', 'Ukrainian', 'Dutch', 'Greek', 'Swedish', 'Spanish - Latin America', 'Thai', 'Czech', 'Danish', 'Turkish', 'Norwegian', 'Hungarian', 'Finnish', 'Bulgarian', 'Vietnamese', 'Portuguese', 'Portuguese - Brazil', 'Polish', 'Romanian', 'Russian']\",\n",
       " \"['English']\",\n",
       " \"['English']\",\n",
       " \"['English', 'Russian', 'German', 'Simplified Chinese', 'French', 'Italian', 'Spanish - Spain', 'Traditional Chinese', 'Japanese', 'Portuguese', 'Korean']\",\n",
       " \"['English']\",\n",
       " \"['English']\",\n",
       " \"['English', 'French', 'German', 'Italian', 'Spanish - Spain', 'Polish', 'Russian']\",\n",
       " \"['English']\",\n",
       " \"['English']\",\n",
       " \"['English']\",\n",
       " \"['English']\",\n",
       " \"['English', 'French', 'German', 'Bulgarian', 'Italian', 'Spanish - Spain', 'Japanese', 'Polish', 'Russian', 'Simplified Chinese', 'Traditional Chinese']\",\n",
       " \"['English', 'Portuguese - Brazil']\",\n",
       " \"['English']\",\n",
       " \"['English', 'Portuguese - Brazil']\",\n",
       " \"['English', 'Russian', 'Simplified Chinese', 'Spanish - Latin America', 'Traditional Chinese']\",\n",
       " \"['English', 'French', 'Japanese', 'Spanish - Spain']\",\n",
       " \"['English', 'German', 'French', 'Italian', 'Spanish - Spain']\",\n",
       " \"['Japanese', 'English']\",\n",
       " \"['English']\",\n",
       " \"['English']\",\n",
       " \"['English', 'French', 'German', 'Spanish - Spain', 'Simplified Chinese', 'Traditional Chinese', 'Korean', 'Spanish - Latin America', 'Dutch', 'Japanese', 'Portuguese - Brazil', 'Russian', 'Italian', 'Bulgarian', 'Danish', 'Finnish', 'Greek', 'Hungarian', 'Norwegian', 'Polish', 'Romanian', 'Swedish', 'Thai', 'Turkish', 'Ukrainian', 'Vietnamese']\",\n",
       " \"['English', 'Russian']\",\n",
       " \"['English']\",\n",
       " \"['English']\",\n",
       " \"['English']\",\n",
       " \"['English']\",\n",
       " \"['English']\",\n",
       " \"['English']\",\n",
       " \"['English', 'French', 'German', 'Japanese', 'Korean', 'Spanish - Latin America']\",\n",
       " \"['English', 'Simplified Chinese']\",\n",
       " \"['English']\",\n",
       " \"['English', 'German', 'Norwegian', 'Russian', 'Simplified Chinese', 'French', 'Turkish', 'Spanish - Spain']\",\n",
       " \"['English']\",\n",
       " \"['English', 'Polish']\",\n",
       " \"['English', 'French', 'Italian', 'German', 'Spanish - Spain', 'Polish', 'Russian', 'Simplified Chinese']\",\n",
       " \"['Simplified Chinese', 'Traditional Chinese']\",\n",
       " \"['English']\",\n",
       " \"['English', 'French', 'Italian', 'German', 'Spanish - Spain', 'Russian', 'Portuguese - Brazil', 'Dutch', 'Swedish']\",\n",
       " \"['English']\",\n",
       " \"['English', 'French', 'Italian', 'German', 'Spanish - Spain', 'Czech', 'Japanese', 'Korean', 'Polish', 'Portuguese - Brazil', 'Russian', 'Simplified Chinese', 'Spanish - Latin America', 'Traditional Chinese']\",\n",
       " \"['English']\",\n",
       " \"['English', 'Turkish']\",\n",
       " \"['English', 'Simplified Chinese']\",\n",
       " \"['English']\",\n",
       " \"['English']\",\n",
       " \"['English', 'Japanese', 'Korean']\",\n",
       " \"['English', 'French', 'Italian', 'German', 'Spanish - Spain', 'Japanese', 'Polish', 'Russian', 'Simplified Chinese']\",\n",
       " \"['English']\",\n",
       " \"['English']\",\n",
       " \"['English', 'Japanese', 'Russian', 'Simplified Chinese', 'Portuguese - Brazil']\",\n",
       " \"['English']\",\n",
       " \"['English']\",\n",
       " \"['English']\",\n",
       " \"['English']\",\n",
       " \"['English']\",\n",
       " \"['English', 'Japanese']\",\n",
       " \"['English']\",\n",
       " \"['English']\",\n",
       " \"['English']\",\n",
       " \"['English']\",\n",
       " \"['English', 'French', 'Italian', 'German', 'Spanish - Spain', 'Arabic', 'Bulgarian', 'Czech', 'Danish', 'Dutch', 'Finnish', 'Greek', 'Hungarian', 'Japanese', 'Korean', 'Norwegian', 'Polish', 'Portuguese', 'Portuguese - Brazil', 'Romanian', 'Russian', 'Simplified Chinese', 'Spanish - Latin America', 'Swedish', 'Thai', 'Traditional Chinese', 'Turkish', 'Ukrainian', 'Vietnamese']\",\n",
       " \"['English', 'Russian', 'German', 'Simplified Chinese']\",\n",
       " \"['English']\",\n",
       " \"['English']\",\n",
       " \"['English']\",\n",
       " \"['English']\",\n",
       " \"['English']\",\n",
       " \"['English', 'French', 'Italian', 'German', 'Spanish - Spain', 'Japanese', 'Korean', 'Simplified Chinese', 'Spanish - Latin America']\",\n",
       " \"['English', 'German']\",\n",
       " \"['English', 'Spanish - Spain', 'Spanish - Latin America', 'Portuguese', 'Portuguese - Brazil', 'Russian']\",\n",
       " \"['English', 'French', 'Italian', 'German', 'Spanish - Spain', 'Dutch', 'Japanese', 'Korean', 'Polish', 'Portuguese - Brazil', 'Russian', 'Simplified Chinese', 'Swedish', 'Thai', 'Traditional Chinese', 'Vietnamese']\",\n",
       " \"['English']\",\n",
       " \"['English', 'German', 'Spanish - Spain', 'Russian', 'Simplified Chinese']\",\n",
       " \"['English', 'Italian', 'German', 'Hungarian', 'Japanese', 'Russian', 'Simplified Chinese', 'Spanish - Spain']\",\n",
       " \"['English']\",\n",
       " \"['English']\",\n",
       " \"['English', 'French', 'Italian', 'German', 'Spanish - Spain']\",\n",
       " \"['English']\",\n",
       " \"['English']\",\n",
       " \"['English']\",\n",
       " \"['English', 'French', 'Italian', 'German', 'Spanish - Spain', 'Portuguese']\",\n",
       " \"['English', 'Russian']\",\n",
       " \"['English', 'Hungarian', 'Italian']\",\n",
       " \"['English', 'Japanese', 'Simplified Chinese', 'Traditional Chinese']\",\n",
       " \"['English', 'French', 'Italian', 'German', 'Spanish - Spain', 'Arabic', 'Dutch', 'Japanese', 'Korean', 'Portuguese - Brazil', 'Russian', 'Simplified Chinese', 'Traditional Chinese', 'Turkish']\",\n",
       " \"['English', 'Simplified Chinese']\",\n",
       " \"['English', 'German']\",\n",
       " \"['English']\",\n",
       " \"['English']\",\n",
       " \"['English', 'Japanese']\",\n",
       " \"['English']\",\n",
       " \"['English']\",\n",
       " \"['Russian', 'English']\",\n",
       " \"['English', 'Russian', 'Simplified Chinese']\",\n",
       " \"['English']\",\n",
       " \"['English', 'French', 'Italian', 'German', 'Spanish - Spain', 'Simplified Chinese', 'Japanese', 'Polish', 'Portuguese', 'Russian']\",\n",
       " \"['English']\",\n",
       " \"['English']\",\n",
       " \"['English']\",\n",
       " \"['English']\",\n",
       " \"['English']\",\n",
       " \"['English']\",\n",
       " \"['English']\",\n",
       " \"['English']\",\n",
       " \"['English']\",\n",
       " \"['English']\",\n",
       " \"['English']\",\n",
       " \"['English', 'French', 'Italian', 'German', 'Spanish - Spain', 'Greek']\",\n",
       " \"['English']\",\n",
       " \"['English']\",\n",
       " \"['English']\",\n",
       " \"['English', 'French']\",\n",
       " \"['English', 'Thai', 'Simplified Chinese', 'Traditional Chinese', 'Japanese', 'Korean']\",\n",
       " \"['English', 'French', 'German', 'Spanish - Spain', 'Arabic', 'Japanese', 'Russian']\",\n",
       " \"['English', 'Russian', 'German', 'Spanish - Spain']\",\n",
       " \"['English', 'French', 'Italian', 'German', 'Spanish - Spain', 'Portuguese - Brazil', 'Russian', 'Turkish']\",\n",
       " \"['Russian']\",\n",
       " \"['English']\",\n",
       " \"['English', 'French', 'German', 'Spanish - Spain', 'Arabic', 'Japanese', 'Korean', 'Portuguese', 'Russian', 'Simplified Chinese']\",\n",
       " \"['English', 'French']\",\n",
       " \"['English', 'French', 'Portuguese - Brazil', 'Polish', 'German', 'Spanish - Spain']\",\n",
       " \"['English']\",\n",
       " \"['English']\",\n",
       " \"['English']\",\n",
       " \"['English']\",\n",
       " \"['English']\",\n",
       " \"['English', 'French', 'Italian', 'German', 'Spanish - Spain', 'Arabic', 'Bulgarian', 'Czech', 'Danish', 'Dutch', 'Finnish', 'Greek', 'Hungarian', 'Japanese', 'Korean', 'Norwegian', 'Polish', 'Portuguese', 'Portuguese - Brazil', 'Romanian', 'Russian', 'Simplified Chinese', 'Spanish - Latin America', 'Swedish', 'Thai', 'Traditional Chinese', 'Turkish', 'Ukrainian', 'Vietnamese']\",\n",
       " \"['English']\",\n",
       " \"['English', 'German', 'Spanish - Spain', 'Spanish - Latin America', 'Japanese', 'Portuguese', 'Portuguese - Brazil']\",\n",
       " \"['English', 'French', 'Italian', 'German', 'Spanish - Spain', 'Dutch']\",\n",
       " \"['English', 'Russian', 'French', 'Italian', 'German', 'Spanish - Spain', 'Simplified Chinese']\",\n",
       " \"['Japanese']\",\n",
       " \"['English']\",\n",
       " \"['English', 'French', 'Italian', 'German', 'Spanish - Spain', 'Czech', 'Danish', 'Dutch', 'Norwegian', 'Polish', 'Portuguese - Brazil', 'Russian', 'Swedish']\",\n",
       " \"['English']\",\n",
       " \"['English', 'French']\",\n",
       " \"['English']\",\n",
       " \"['English']\",\n",
       " \"['English']\",\n",
       " \"['English', 'French']\",\n",
       " \"['English']\",\n",
       " \"['English', 'French']\",\n",
       " \"['English', 'French', 'Italian', 'German', 'Spanish - Spain', 'Danish', 'Traditional Chinese', 'Simplified Chinese', 'Korean', 'Dutch', 'Polish', 'Portuguese', 'Russian', 'Turkish', 'Japanese']\",\n",
       " \"['English', 'French', 'Simplified Chinese', 'Korean', 'Japanese', 'Russian']\",\n",
       " \"['English']\",\n",
       " \"['English', 'Russian']\",\n",
       " \"['English']\",\n",
       " \"['English']\",\n",
       " \"['English', 'French', 'German', 'Spanish - Spain', 'Russian', 'Japanese', 'Simplified Chinese', 'Traditional Chinese']\",\n",
       " \"['English', 'French', 'Italian', 'German', 'Spanish - Spain', 'Portuguese', 'Portuguese - Brazil', 'Simplified Chinese', 'Danish', 'Japanese', 'Romanian', 'Russian', 'Bulgarian', 'Dutch', 'Finnish', 'Norwegian', 'Polish', 'Swedish', 'Hungarian', 'Traditional Chinese']\",\n",
       " \"['English']\",\n",
       " \"['English']\",\n",
       " \"['Simplified Chinese', 'Traditional Chinese']\",\n",
       " \"['English', 'French', 'Italian', 'German', 'Spanish - Spain', 'Korean', 'Portuguese', 'Portuguese - Brazil', 'Russian', 'Simplified Chinese', 'Spanish - Latin America', 'Traditional Chinese', 'Japanese', 'Polish', 'Vietnamese', 'Arabic', 'Czech']\",\n",
       " \"['English']\",\n",
       " \"['English']\",\n",
       " \"['English']\",\n",
       " \"['English']\",\n",
       " \"['English']\",\n",
       " \"['English']\",\n",
       " \"['English']\",\n",
       " \"['English']\",\n",
       " \"['English']\",\n",
       " \"['English']\",\n",
       " \"['English']\",\n",
       " \"['English']\",\n",
       " \"['English']\",\n",
       " \"['English']\",\n",
       " \"['English', 'German', 'French', 'Italian', 'Spanish - Spain', 'Portuguese', 'Portuguese - Brazil', 'Russian']\",\n",
       " \"['English']\",\n",
       " \"['English']\",\n",
       " \"['English', 'Simplified Chinese']\",\n",
       " \"['English']\",\n",
       " \"['English']\",\n",
       " \"['English', 'Simplified Chinese', 'Traditional Chinese']\",\n",
       " \"['English']\",\n",
       " \"['English']\",\n",
       " \"['English', 'French', 'Italian', 'German', 'Spanish - Spain']\",\n",
       " \"['English']\",\n",
       " \"['English']\",\n",
       " \"['English']\",\n",
       " \"['English']\",\n",
       " \"['English']\",\n",
       " \"['English']\",\n",
       " \"['English']\",\n",
       " \"['English']\",\n",
       " \"['English']\",\n",
       " \"['English']\",\n",
       " \"['English']\",\n",
       " \"['English']\",\n",
       " \"['English']\",\n",
       " \"['English', 'Russian']\",\n",
       " \"['English']\",\n",
       " \"['English']\",\n",
       " \"['English']\",\n",
       " \"['English', 'French']\",\n",
       " \"['English']\",\n",
       " \"['English', 'Italian', 'Spanish - Spain', 'Korean', 'Simplified Chinese', 'German', 'Hungarian', 'Turkish', 'Vietnamese', 'Ukrainian']\",\n",
       " \"['English']\",\n",
       " \"['English']\",\n",
       " \"['English', 'Polish', 'Russian', 'German', 'Finnish', 'Danish', 'French', 'Dutch', 'Simplified Chinese', 'Japanese', 'Czech', 'Spanish - Spain', 'Italian', 'Turkish', 'Portuguese - Brazil']\",\n",
       " \"['English']\",\n",
       " \"['English']\",\n",
       " \"['English', 'Russian']\",\n",
       " \"['English', 'French', 'Italian', 'German', 'Spanish - Spain']\",\n",
       " \"['English', 'Russian']\",\n",
       " \"['English']\",\n",
       " \"['English', 'Russian']\",\n",
       " \"['English', 'French', 'German', 'Ukrainian', 'Russian', 'Japanese', 'Simplified Chinese', 'Traditional Chinese', 'Arabic', 'Korean']\",\n",
       " \"['English']\",\n",
       " \"['English']\",\n",
       " \"['Simplified Chinese']\",\n",
       " \"['English']\",\n",
       " \"['English']\",\n",
       " \"['English']\",\n",
       " \"['English', 'Japanese']\",\n",
       " \"['Japanese']\",\n",
       " \"['English', 'Spanish - Spain']\",\n",
       " \"['English', 'Russian']\",\n",
       " \"['English', 'French', 'Italian', 'German', 'Spanish - Spain']\",\n",
       " \"['English']\",\n",
       " \"['English']\",\n",
       " \"['English', 'French', 'German', 'Portuguese - Brazil', 'Russian', 'Simplified Chinese', 'Spanish - Latin America']\",\n",
       " \"['English']\",\n",
       " \"['English']\",\n",
       " \"['English']\",\n",
       " \"['English']\",\n",
       " \"['English']\",\n",
       " \"['English', 'Spanish - Spain', 'Spanish - Latin America']\",\n",
       " \"['English']\",\n",
       " \"['Simplified Chinese']\",\n",
       " \"['English', 'French', 'German', 'Russian']\",\n",
       " \"['English']\",\n",
       " \"['English']\",\n",
       " \"['English']\",\n",
       " \"['English']\",\n",
       " \"['English', 'Simplified Chinese']\",\n",
       " \"['English']\",\n",
       " \"['English', 'French', 'Italian', 'German', 'Japanese', 'Russian', 'Simplified Chinese', 'Spanish - Spain', 'Portuguese - Brazil', 'Korean', 'Polish']\",\n",
       " \"['English']\",\n",
       " \"['English']\",\n",
       " \"['English']\",\n",
       " \"['English']\",\n",
       " \"['English', 'French', 'Spanish - Spain', 'Portuguese', 'German', 'Japanese']\",\n",
       " \"['English']\",\n",
       " \"['English']\",\n",
       " \"['English']\",\n",
       " \"['English']\",\n",
       " \"['English', 'French', 'Spanish - Spain', 'Portuguese - Brazil', 'Russian', 'Simplified Chinese']\",\n",
       " \"['English']\",\n",
       " \"['English']\",\n",
       " \"['English']\",\n",
       " \"['English']\",\n",
       " \"['English']\",\n",
       " \"['English']\",\n",
       " \"['English']\",\n",
       " \"['English']\",\n",
       " \"['English']\",\n",
       " \"['Japanese']\",\n",
       " \"['English', 'German']\",\n",
       " \"['English']\",\n",
       " \"['Simplified Chinese']\",\n",
       " \"['English']\",\n",
       " \"['English', 'Russian']\",\n",
       " \"['English', 'Japanese', 'Simplified Chinese']\",\n",
       " \"['English']\",\n",
       " \"['English', 'Russian']\",\n",
       " \"['English']\",\n",
       " \"['English']\",\n",
       " \"['English']\",\n",
       " \"['English']\",\n",
       " \"['English', 'French', 'Simplified Chinese', 'German', 'Spanish - Spain', 'Japanese', 'Russian', 'Korean']\",\n",
       " \"['Portuguese - Brazil', 'English', 'Portuguese']\",\n",
       " \"['Japanese']\",\n",
       " \"['English', 'German', 'French', 'Russian', 'Simplified Chinese', 'Traditional Chinese']\",\n",
       " \"['English']\",\n",
       " \"['English']\",\n",
       " \"['English']\",\n",
       " \"['English']\",\n",
       " \"['English', 'Simplified Chinese']\",\n",
       " \"['English', 'German', 'Spanish - Spain', 'Portuguese', 'Portuguese - Brazil', 'Russian', 'Simplified Chinese', 'Spanish - Latin America', 'Turkish']\",\n",
       " \"['English']\",\n",
       " \"['English']\",\n",
       " \"['Japanese']\",\n",
       " \"['English', 'Polish', 'German', 'Simplified Chinese', 'Portuguese - Brazil']\",\n",
       " \"['English', 'Japanese', 'Simplified Chinese', 'Traditional Chinese']\",\n",
       " \"['English']\",\n",
       " \"['English']\",\n",
       " \"['English']\",\n",
       " \"['English', 'Spanish - Spain', 'Dutch', 'French', 'Italian', 'German', 'Portuguese - Brazil']\",\n",
       " \"['English']\",\n",
       " \"['English']\",\n",
       " \"['English']\",\n",
       " \"['English', 'German', 'French', 'Italian', 'Spanish - Spain']\",\n",
       " \"['English', 'French', 'Italian', 'German', 'Spanish - Spain', 'Japanese', 'Korean', 'Polish', 'Portuguese - Brazil', 'Russian', 'Simplified Chinese', 'Traditional Chinese', 'Spanish - Latin America']\",\n",
       " \"['English']\",\n",
       " \"['English', 'French', 'Italian', 'German', 'Spanish - Spain', 'Russian', 'Simplified Chinese', 'Traditional Chinese', 'Portuguese', 'Portuguese - Brazil', 'Spanish - Latin America']\",\n",
       " \"['English']\",\n",
       " \"['English']\",\n",
       " \"['English']\",\n",
       " \"['English', 'French', 'German', 'Spanish - Spain', 'Simplified Chinese', 'Japanese', 'Korean', 'Polish', 'Russian', 'Thai']\",\n",
       " \"['English']\",\n",
       " \"['English']\",\n",
       " \"['English']\",\n",
       " \"['English']\",\n",
       " \"['English', 'French', 'German', 'Spanish - Spain', 'Polish', 'Russian', 'Italian', 'Turkish']\",\n",
       " \"['English']\",\n",
       " \"['English', 'French', 'Spanish - Spain', 'Dutch', 'Swedish', 'German']\",\n",
       " \"['English', 'Japanese']\",\n",
       " \"['English']\",\n",
       " \"['English']\",\n",
       " \"['English', 'Simplified Chinese']\",\n",
       " \"['English']\",\n",
       " \"['English']\",\n",
       " \"['English']\",\n",
       " \"['Japanese', 'English', 'Simplified Chinese', 'Traditional Chinese', 'Korean']\",\n",
       " \"['English', 'Swedish']\",\n",
       " \"['English']\",\n",
       " \"['English']\",\n",
       " \"['English']\",\n",
       " \"['English']\",\n",
       " \"['English']\",\n",
       " \"['English']\",\n",
       " \"['English', 'German', 'Spanish - Spain', 'Russian', 'Czech', 'French', 'Simplified Chinese']\",\n",
       " \"['English', 'French', 'Italian', 'German', 'Spanish - Spain', 'Arabic', 'Bulgarian', 'Portuguese - Brazil', 'Hungarian', 'Vietnamese', 'Greek', 'Danish', 'Spanish - Latin America', 'Traditional Chinese', 'Simplified Chinese', 'Korean', 'Dutch', 'Norwegian', 'Polish', 'Portuguese', 'Romanian', 'Russian', 'Thai', 'Turkish', 'Ukrainian', 'Finnish', 'Czech', 'Swedish', 'Japanese']\",\n",
       " \"['English', 'Russian', 'Italian', 'German', 'Spanish - Spain', 'Dutch', 'Portuguese - Brazil']\",\n",
       " \"['English', 'Russian']\",\n",
       " \"['English', 'German', 'French', 'Russian', 'Polish', 'Portuguese - Brazil']\",\n",
       " \"['Japanese', 'English', 'French', 'Spanish - Spain', 'Russian', 'Simplified Chinese']\",\n",
       " \"['English']\",\n",
       " \"['English']\",\n",
       " \"['English']\",\n",
       " \"['English']\",\n",
       " \"['English']\",\n",
       " \"['English']\",\n",
       " \"['English', 'Japanese']\",\n",
       " \"['English']\",\n",
       " \"['English']\",\n",
       " \"['English']\",\n",
       " \"['English', 'German', 'Simplified Chinese', 'Traditional Chinese', 'French', 'Italian', 'Spanish - Spain', 'Arabic', 'Japanese', 'Korean', 'Polish', 'Portuguese - Brazil', 'Russian', 'Spanish - Latin America', 'Thai', 'Turkish']\",\n",
       " \"['English', 'French', 'German', 'Spanish - Spain']\",\n",
       " \"['English', 'French', 'Italian', 'German', 'Spanish - Spain', 'Bulgarian', 'Portuguese - Brazil', 'Hungarian', 'Greek', 'Danish', 'Traditional Chinese', 'Simplified Chinese', 'Korean', 'Dutch', 'Norwegian', 'Polish', 'Portuguese', 'Romanian', 'Russian', 'Turkish', 'Finnish', 'Czech', 'Swedish', 'Japanese']\",\n",
       " \"['English', 'French', 'Italian', 'German', 'Spanish - Spain', 'Japanese', 'Korean', 'Portuguese - Brazil', 'Russian', 'Simplified Chinese']\",\n",
       " \"['English', 'French', 'Italian', 'German', 'Spanish - Spain', 'Japanese', 'Korean', 'Portuguese', 'Portuguese - Brazil', 'Russian', 'Simplified Chinese']\",\n",
       " \"['English']\",\n",
       " \"['English']\",\n",
       " \"['English', 'Simplified Chinese']\",\n",
       " \"['English']\",\n",
       " \"['English']\",\n",
       " \"['English']\",\n",
       " \"['English', 'Simplified Chinese', 'Traditional Chinese', 'Italian', 'Portuguese', 'German', 'Spanish - Spain', 'Russian', 'Portuguese - Brazil']\",\n",
       " \"['English', 'French', 'German', 'Russian']\",\n",
       " \"['English']\",\n",
       " \"['English']\",\n",
       " \"['Japanese', 'English', 'Simplified Chinese']\",\n",
       " \"['English']\",\n",
       " \"['English', 'Traditional Chinese', 'Japanese']\",\n",
       " \"['English']\",\n",
       " \"['English']\",\n",
       " \"['English', 'Spanish - Spain']\",\n",
       " \"['English']\",\n",
       " \"['English']\",\n",
       " \"['Korean', 'English']\",\n",
       " \"['English']\",\n",
       " \"['English']\",\n",
       " \"['English']\",\n",
       " \"['English']\",\n",
       " \"['English']\",\n",
       " \"['English', 'Turkish', 'German', 'Spanish - Spain']\",\n",
       " \"['English']\",\n",
       " \"['English']\",\n",
       " \"['English']\",\n",
       " \"['English', 'French', 'Spanish - Spain', 'Japanese', 'Korean', 'Portuguese - Brazil', 'Simplified Chinese', 'Traditional Chinese']\",\n",
       " \"['Simplified Chinese', 'English']\",\n",
       " \"['English', 'French', 'Italian', 'German', 'Spanish - Spain', 'Russian']\",\n",
       " \"['English']\",\n",
       " \"['English', 'Russian']\",\n",
       " \"['English']\",\n",
       " \"['English', 'French', 'German', 'Russian']\",\n",
       " \"['English']\",\n",
       " \"['English']\",\n",
       " \"['English']\",\n",
       " \"['English']\",\n",
       " \"['English', 'French', 'Italian', 'German', 'Spanish - Spain', 'Portuguese', 'Turkish', 'Russian', 'Japanese', 'Simplified Chinese', 'Traditional Chinese', 'Korean']\",\n",
       " \"['English', 'French', 'Italian', 'German', 'Spanish - Spain', 'Bulgarian', 'Czech', 'Danish', 'Dutch', 'Finnish', 'Greek', 'Hungarian', 'Japanese', 'Korean', 'Norwegian', 'Polish', 'Portuguese', 'Portuguese - Brazil', 'Romanian', 'Russian', 'Simplified Chinese', 'Swedish', 'Turkish', 'Ukrainian']\",\n",
       " \"['English', 'French', 'German', 'Simplified Chinese']\",\n",
       " \"['English', 'Simplified Chinese']\",\n",
       " \"['English', 'French', 'Italian', 'German', 'Spanish - Spain', 'Dutch', 'Japanese', 'Korean', 'Polish', 'Portuguese - Brazil', 'Russian', 'Simplified Chinese', 'Spanish - Latin America', 'Traditional Chinese', 'Turkish']\",\n",
       " \"['English']\",\n",
       " \"['English']\",\n",
       " \"['English', 'French', 'Italian', 'German', 'Spanish - Spain', 'Arabic', 'Bulgarian', 'Portuguese - Brazil', 'Hungarian', 'Vietnamese', 'Greek', 'Danish', 'Spanish - Latin America', 'Traditional Chinese', 'Simplified Chinese', 'Korean', 'Dutch', 'Norwegian', 'Polish', 'Portuguese', 'Romanian', 'Russian', 'Thai', 'Turkish', 'Ukrainian', 'Finnish', 'Czech', 'Swedish', 'Japanese']\",\n",
       " \"['Simplified Chinese']\",\n",
       " \"['English']\",\n",
       " \"['English', 'Dutch']\",\n",
       " \"['English']\",\n",
       " \"['English', 'Russian', 'Simplified Chinese']\",\n",
       " \"['English']\",\n",
       " \"['English']\",\n",
       " \"['English', 'French', 'Italian', 'German', 'Spanish - Spain', 'Portuguese', 'Portuguese - Brazil']\",\n",
       " \"['English', 'French', 'German', 'Polish']\",\n",
       " \"['English']\",\n",
       " \"['English']\",\n",
       " \"['English']\",\n",
       " \"['English']\",\n",
       " \"['English']\",\n",
       " \"['English']\",\n",
       " \"['English']\",\n",
       " \"['English']\",\n",
       " \"['English', 'Simplified Chinese']\",\n",
       " \"['English']\",\n",
       " \"['English']\",\n",
       " \"['English', 'Russian', 'Japanese', 'Portuguese - Brazil', 'Traditional Chinese', 'Simplified Chinese', 'Korean']\",\n",
       " \"['English', 'French', 'Spanish - Spain', 'German']\",\n",
       " \"['English']\",\n",
       " \"['English']\",\n",
       " \"['English']\",\n",
       " \"['English', 'French', 'Italian', 'German', 'Spanish - Spain', 'Japanese', 'Polish', 'Portuguese', 'Russian', 'Turkish']\",\n",
       " \"['English']\",\n",
       " \"['English']\",\n",
       " \"['English', 'French', 'Spanish - Spain', 'Japanese', 'Korean', 'German']\",\n",
       " \"['English', 'Russian', 'French', 'German', 'Spanish - Spain', 'Portuguese - Brazil', 'Simplified Chinese']\",\n",
       " \"['English', 'Italian', 'Spanish - Spain', 'French', 'German', 'Arabic', 'Czech', 'Danish', 'Dutch', 'Finnish', 'Hungarian', 'Japanese', 'Korean', 'Norwegian', 'Polish', 'Portuguese - Brazil', 'Romanian', 'Russian', 'Simplified Chinese', 'Swedish', 'Traditional Chinese', 'Turkish']\",\n",
       " \"['Simplified Chinese']\",\n",
       " \"['English']\",\n",
       " \"['English']\",\n",
       " \"['English', 'French', 'German', 'Italian', 'Spanish - Spain', 'Japanese', 'Korean', 'Polish', 'Russian']\",\n",
       " \"['English']\",\n",
       " \"['English']\",\n",
       " \"['Simplified Chinese']\",\n",
       " \"['English']\",\n",
       " \"['English']\",\n",
       " \"['English']\",\n",
       " \"['English']\",\n",
       " \"['English']\",\n",
       " \"['English']\",\n",
       " \"['English', 'German', 'Spanish - Spain', 'Japanese']\",\n",
       " \"['English']\",\n",
       " \"['English']\",\n",
       " \"['English']\",\n",
       " \"['Simplified Chinese']\",\n",
       " \"['English']\",\n",
       " \"['English']\",\n",
       " \"['English', 'Japanese']\",\n",
       " \"['English', 'Russian', 'Ukrainian']\",\n",
       " \"['English', 'French', 'Italian', 'German', 'Spanish - Spain', 'Danish', 'Dutch', 'Japanese', 'Polish', 'Russian', 'Swedish', 'Portuguese']\",\n",
       " \"['English']\",\n",
       " \"['English']\",\n",
       " \"['English', 'French', 'Italian', 'German', 'Spanish - Spain', 'Simplified Chinese', 'Traditional Chinese', 'Japanese']\",\n",
       " \"['English']\",\n",
       " \"['English']\",\n",
       " \"['English']\",\n",
       " \"['English']\",\n",
       " \"['English', 'Spanish - Spain', 'Russian', 'Ukrainian', 'Italian', 'French', 'German']\",\n",
       " \"['English']\",\n",
       " \"['Simplified Chinese']\",\n",
       " \"['English']\",\n",
       " \"['English']\",\n",
       " \"['English', 'French', 'Italian', 'Spanish - Spain', 'Portuguese - Brazil']\",\n",
       " \"['English']\",\n",
       " \"['English']\",\n",
       " \"['English', 'French', 'Italian', 'German', 'Spanish - Spain', 'Czech', 'Danish', 'Dutch', 'Finnish', 'Greek', 'Hungarian', 'Norwegian', 'Polish', 'Portuguese', 'Portuguese - Brazil', 'Russian', 'Swedish', 'Turkish']\",\n",
       " \"['English', 'Turkish', 'French', 'German', 'Spanish - Spain', 'Polish', 'Russian', 'Simplified Chinese', 'Japanese', 'Korean', 'Czech']\",\n",
       " \"['English', 'Russian']\",\n",
       " \"['English']\",\n",
       " \"['English']\",\n",
       " \"['English']\",\n",
       " \"['English']\",\n",
       " \"['English', 'Russian', 'German', 'Simplified Chinese']\",\n",
       " \"['English', 'Russian']\",\n",
       " \"['English', 'Japanese', 'Korean', 'Russian', 'Simplified Chinese', 'Traditional Chinese']\",\n",
       " \"['English']\",\n",
       " \"['English']\",\n",
       " \"['English']\",\n",
       " \"['English']\",\n",
       " \"['English', 'Korean', 'Spanish - Spain', 'Russian', 'Simplified Chinese']\",\n",
       " \"['English', 'French', 'Italian', 'German', 'Spanish - Spain']\",\n",
       " \"['English', 'French', 'Italian', 'German', 'Spanish - Spain', 'Arabic', 'Bulgarian', 'Portuguese - Brazil', 'Hungarian', 'Vietnamese', 'Greek', 'Danish', 'Spanish - Latin America', 'Traditional Chinese', 'Simplified Chinese', 'Korean', 'Dutch', 'Norwegian', 'Polish', 'Portuguese', 'Romanian', 'Russian', 'Thai', 'Turkish', 'Ukrainian', 'Finnish', 'Czech', 'Swedish', 'Japanese']\",\n",
       " \"['English', 'Traditional Chinese', 'Japanese', 'Simplified Chinese']\",\n",
       " \"['English']\",\n",
       " \"['English', 'German', 'French', 'Italian', 'Spanish - Spain']\",\n",
       " \"['English']\",\n",
       " \"['English', 'Japanese', 'Simplified Chinese', 'Traditional Chinese']\",\n",
       " \"['Japanese', 'English', 'Traditional Chinese']\",\n",
       " \"['English', 'Simplified Chinese']\",\n",
       " \"['English']\",\n",
       " \"['English', 'Russian']\",\n",
       " \"['English']\",\n",
       " \"['English']\",\n",
       " \"['English']\",\n",
       " \"['English', 'French', 'Italian', 'German', 'Spanish - Spain', 'Arabic', 'Japanese', 'Korean', 'Portuguese', 'Russian', 'Simplified Chinese', 'Traditional Chinese', 'Portuguese - Brazil', 'Spanish - Latin America', 'Czech', 'Polish', 'Romanian', 'Turkish']\",\n",
       " \"['English']\",\n",
       " \"['English']\",\n",
       " \"['English', 'Russian']\",\n",
       " \"['English', 'Traditional Chinese']\",\n",
       " \"['English']\",\n",
       " \"['English', 'French', 'German', 'Italian', 'Spanish - Spain']\",\n",
       " \"['English', 'French', 'Italian', 'German', 'Spanish - Spain', 'Arabic', 'Bulgarian', 'Czech', 'Danish', 'Dutch', 'Finnish', 'Greek', 'Hungarian', 'Japanese', 'Korean', 'Norwegian', 'Polish', 'Portuguese', 'Portuguese - Brazil', 'Romanian', 'Russian', 'Simplified Chinese', 'Spanish - Latin America', 'Swedish', 'Thai', 'Traditional Chinese', 'Turkish', 'Ukrainian', 'Vietnamese']\",\n",
       " \"['English']\",\n",
       " \"['English']\",\n",
       " \"['English']\",\n",
       " \"['English']\",\n",
       " \"['English']\",\n",
       " \"['English']\",\n",
       " \"['English']\",\n",
       " \"['English']\",\n",
       " \"['English', 'Russian']\",\n",
       " \"['English']\",\n",
       " \"['English', 'Portuguese - Brazil']\",\n",
       " \"['English', 'French', 'Italian', 'German', 'Spanish - Spain', 'Arabic', 'Bulgarian', 'Czech', 'Danish', 'Dutch', 'Finnish', 'Greek', 'Japanese', 'Korean', 'Norwegian', 'Polish', 'Portuguese', 'Portuguese - Brazil', 'Romanian', 'Russian', 'Simplified Chinese', 'Swedish', 'Thai', 'Traditional Chinese', 'Turkish', 'Ukrainian']\",\n",
       " \"['English']\",\n",
       " \"['English']\",\n",
       " \"['Simplified Chinese']\",\n",
       " \"['English', 'Simplified Chinese']\",\n",
       " \"['English']\",\n",
       " \"['English']\",\n",
       " \"['English', 'French', 'Russian']\",\n",
       " \"['English']\",\n",
       " \"['English', 'French', 'Italian', 'German', 'Spanish - Spain', 'Arabic', 'Bulgarian', 'Portuguese - Brazil', 'Hungarian', 'Vietnamese', 'Greek', 'Danish', 'Spanish - Latin America', 'Traditional Chinese', 'Simplified Chinese', 'Korean', 'Dutch', 'Norwegian', 'Polish', 'Portuguese', 'Romanian', 'Russian', 'Thai', 'Turkish', 'Ukrainian', 'Finnish', 'Czech', 'Swedish', 'Japanese']\",\n",
       " \"['English', 'Portuguese - Brazil', 'German', 'Japanese', 'Traditional Chinese', 'French', 'Spanish - Spain']\",\n",
       " \"['English', 'French', 'Italian', 'German', 'Spanish - Spain', 'Japanese', 'Portuguese - Brazil', 'Russian', 'Simplified Chinese', 'Traditional Chinese', 'Turkish']\",\n",
       " \"['English']\",\n",
       " \"['English']\",\n",
       " \"['English']\",\n",
       " \"['English', 'Arabic', 'Russian', 'Simplified Chinese']\",\n",
       " \"['English', 'German', 'French', 'Italian', 'Spanish - Spain']\",\n",
       " \"['English', 'Japanese', 'French', 'Traditional Chinese', 'Italian', 'German', 'Arabic', 'Ukrainian', 'Spanish - Latin America', 'Thai', 'Turkish', 'Portuguese', 'Portuguese - Brazil', 'Russian', 'Simplified Chinese', 'Korean', 'Spanish - Spain', 'Dutch', 'Greek', 'Swedish', 'Czech', 'Danish', 'Norwegian', 'Hungarian', 'Finnish', 'Bulgarian', 'Polish', 'Romanian', 'Vietnamese']\",\n",
       " \"['English']\",\n",
       " \"['English']\",\n",
       " \"['English', 'Japanese', 'Spanish - Latin America']\",\n",
       " \"['English', 'Japanese', 'Russian', 'Ukrainian', 'French', 'Italian', 'German', 'Spanish - Spain', 'Arabic', 'Czech', 'Dutch', 'Greek', 'Norwegian', 'Portuguese', 'Romanian', 'Simplified Chinese', 'Thai', 'Traditional Chinese', 'Turkish', 'Bulgarian', 'Danish', 'Finnish', 'Hungarian', 'Korean', 'Polish', 'Swedish']\",\n",
       " \"['English', 'French', 'Italian', 'German', 'Spanish - Spain', 'Arabic', 'Bulgarian', 'Portuguese - Brazil', 'Hungarian', 'Vietnamese', 'Greek', 'Danish', 'Spanish - Latin America', 'Traditional Chinese', 'Simplified Chinese', 'Korean', 'Dutch', 'Norwegian', 'Polish', 'Portuguese', 'Romanian', 'Russian', 'Thai', 'Turkish', 'Ukrainian', 'Finnish', 'Czech', 'Swedish', 'Japanese']\",\n",
       " \"['English', 'French', 'German', 'Spanish - Spain', 'Russian', 'Simplified Chinese', 'Korean', 'Polish', 'Portuguese - Brazil', 'Japanese']\",\n",
       " \"['English', 'French', 'Italian', 'German', 'Spanish - Spain', 'Arabic', 'Bulgarian', 'Traditional Chinese', 'Simplified Chinese', 'Czech', 'Danish', 'Finnish', 'Greek', 'Spanish - Latin America', 'Dutch', 'Japanese', 'Korean', 'Norwegian', 'Polish', 'Portuguese', 'Portuguese - Brazil', 'Russian', 'Romanian', 'Swedish', 'Thai', 'Turkish', 'Ukrainian', 'Vietnamese', 'Hungarian']\",\n",
       " \"['English', 'Traditional Chinese', 'Simplified Chinese', 'Korean', 'Russian', 'Japanese']\",\n",
       " \"['English']\",\n",
       " \"['English', 'Japanese']\",\n",
       " \"['English', 'German', 'French', 'Spanish - Spain', 'Polish', 'Portuguese']\",\n",
       " \"['English']\",\n",
       " \"['English']\",\n",
       " \"['English']\",\n",
       " \"['English']\",\n",
       " \"['English', 'French', 'German', 'Spanish - Spain', 'Dutch']\",\n",
       " \"['English']\",\n",
       " \"['English']\",\n",
       " \"['English', 'Spanish - Latin America', 'Portuguese - Brazil']\",\n",
       " \"['English']\",\n",
       " \"['English']\",\n",
       " \"['English']\",\n",
       " \"['Simplified Chinese']\",\n",
       " \"['English', 'French', 'Italian', 'German', 'Spanish - Spain', 'Japanese', 'Korean', 'Polish', 'Portuguese - Brazil', 'Russian', 'Simplified Chinese', 'Traditional Chinese']\",\n",
       " \"['English', 'French', 'Spanish - Spain']\",\n",
       " \"['English', 'German', 'Spanish - Spain', 'Portuguese - Brazil', 'Bulgarian', 'Danish', 'Czech']\",\n",
       " \"['English']\",\n",
       " \"['English']\",\n",
       " \"['English']\",\n",
       " \"['English']\",\n",
       " \"['English', 'Simplified Chinese']\",\n",
       " \"['English']\",\n",
       " \"['English']\",\n",
       " \"['English']\",\n",
       " \"['English', 'Russian', 'Spanish - Spain', 'French', 'Italian', 'German', 'Portuguese - Brazil', 'Simplified Chinese']\",\n",
       " \"['English', 'Simplified Chinese']\",\n",
       " \"['Simplified Chinese']\",\n",
       " \"['English']\",\n",
       " \"['English']\",\n",
       " \"['English', 'Simplified Chinese']\",\n",
       " \"['English', 'French', 'Italian', 'German', 'Spanish - Spain', 'Polish', 'Russian', 'Simplified Chinese', 'Traditional Chinese']\",\n",
       " \"['English', 'Spanish - Spain']\",\n",
       " \"['English']\",\n",
       " \"['English', 'French', 'German']\",\n",
       " \"['English', 'French', 'German', 'Italian', 'Spanish - Spain']\",\n",
       " \"['English', 'French', 'Spanish - Spain', 'Japanese', 'Portuguese', 'Portuguese - Brazil', 'Russian', 'Simplified Chinese', 'Traditional Chinese', 'German', 'Spanish - Latin America', 'Turkish', 'Italian', 'Czech', 'Danish', 'Dutch', 'Finnish', 'Norwegian', 'Polish', 'Korean', 'Arabic', 'Swedish']\",\n",
       " \"['English', 'French', 'Italian', 'German', 'Spanish - Spain', 'Portuguese', 'Russian']\",\n",
       " \"['English', 'Spanish - Spain', 'Russian', 'German', 'Ukrainian', 'Italian', 'French', 'Portuguese']\",\n",
       " \"['English']\",\n",
       " \"['English']\",\n",
       " \"['English']\",\n",
       " \"['English', 'French', 'German', 'Czech', 'Finnish', 'Hungarian', 'Polish', 'Portuguese', 'Portuguese - Brazil', 'Ukrainian', 'Bulgarian', 'Swedish', 'Italian', 'Japanese', 'Spanish - Spain', 'Danish', 'Korean', 'Russian', 'Simplified Chinese', 'Traditional Chinese', 'Turkish']\",\n",
       " \"['English', 'French', 'Italian', 'German', 'Spanish - Spain', 'Arabic', 'Bulgarian', 'Portuguese - Brazil', 'Hungarian', 'Vietnamese', 'Greek', 'Danish', 'Spanish - Latin America', 'Traditional Chinese', 'Simplified Chinese', 'Korean', 'Dutch', 'Norwegian', 'Polish', 'Portuguese', 'Romanian', 'Russian', 'Thai', 'Turkish', 'Ukrainian', 'Finnish', 'Czech', 'Swedish', 'Japanese']\",\n",
       " \"['English']\",\n",
       " ...]"
      ]
     },
     "metadata": {},
     "output_type": "display_data"
    }
   ],
   "source": [
    "all_languages = [sublist for sublist in steam_df['Supported languages']]\n",
    "all_languages"
   ]
  },
  {
   "cell_type": "code",
   "execution_count": null,
   "metadata": {},
   "outputs": [],
   "source": [
    "\n",
    "language_count = {}\n",
    "for language in steam_df['Supported languages'].to_list():\n",
    "    language = language.strip()\n",
    "    language_sub = language.split(',')\n",
    "    for key in language_sub:\n",
    "        key = key.strip()\n",
    "        key = key.replace(\"'\", \"\")\n",
    "        key = key.replace(\"[\", \"\")\n",
    "        key = key.replace(\"]\", \"\")\n",
    "        key = key.replace(\"&amp;lt;strong&amp;gt;&amp;lt;/strong&amp;gt;\", \"\")\n",
    "        key = key.replace(\"b/b\", \"\")\n",
    "        key = key.replace(\"/b\", \"\")\n",
    "        key = key.replace(\" \\\\r\\\\n\\\\r\\\\nb/b \", \"\")\n",
    "        key = key.replace(\"/b\", \"\")\n",
    "        key = key.replace(\"\\\\r\\\\nb/b\", \"\")\n",
    "        key = key.replace(\"\\\\r\\\\n\", \"\")\n",
    "        key = key.replace(\"#\", \"\")\n",
    "        key = key.replace(\"\\r\\\\n\\\\r\\\\n\", \"\")\n",
    "        key = key.replace(\"Russian\\\\r\\\\nEnglish\\\\r\\\\nSpanish - Spain\\\\r\\\\nFrench\\\\r\\\\nJapanese\\\\r\\\\nCzech\", \"\")\n",
    "        key = key.replace(\"\\r\\\\n\", \"\")\n",
    "        key = key.replace(\" &amp;lt;br /&amp;gt;&amp;lt;br /&amp;gt; \", \"\")\n",
    "        key = key.replace(\"RussianEnglishSpanish - SpainFrenchJapaneseCzech\", \"\")\n",
    "        language_count[key] = language_count.get(key, 0) + 1"
   ]
  },
  {
   "cell_type": "code",
   "execution_count": null,
   "metadata": {},
   "outputs": [],
   "source": [
    "language_count = pd.DataFrame.from_dict(language_count, orient='index').reset_index()"
   ]
  },
  {
   "cell_type": "code",
   "execution_count": null,
   "metadata": {},
   "outputs": [
    {
     "data": {
      "text/html": [
       "<div>\n",
       "<style scoped>\n",
       "    .dataframe tbody tr th:only-of-type {\n",
       "        vertical-align: middle;\n",
       "    }\n",
       "\n",
       "    .dataframe tbody tr th {\n",
       "        vertical-align: top;\n",
       "    }\n",
       "\n",
       "    .dataframe thead th {\n",
       "        text-align: right;\n",
       "    }\n",
       "</style>\n",
       "<table border=\"1\" class=\"dataframe\">\n",
       "  <thead>\n",
       "    <tr style=\"text-align: right;\">\n",
       "      <th></th>\n",
       "      <th>language</th>\n",
       "      <th>Frequency</th>\n",
       "    </tr>\n",
       "  </thead>\n",
       "  <tbody>\n",
       "    <tr>\n",
       "      <th>0</th>\n",
       "      <td>English</td>\n",
       "      <td>86785</td>\n",
       "    </tr>\n",
       "    <tr>\n",
       "      <th>8</th>\n",
       "      <td>Simplified Chinese</td>\n",
       "      <td>22568</td>\n",
       "    </tr>\n",
       "    <tr>\n",
       "      <th>3</th>\n",
       "      <td>German</td>\n",
       "      <td>20862</td>\n",
       "    </tr>\n",
       "    <tr>\n",
       "      <th>1</th>\n",
       "      <td>French</td>\n",
       "      <td>20299</td>\n",
       "    </tr>\n",
       "    <tr>\n",
       "      <th>7</th>\n",
       "      <td>Russian</td>\n",
       "      <td>19570</td>\n",
       "    </tr>\n",
       "    <tr>\n",
       "      <th>4</th>\n",
       "      <td>Spanish - Spain</td>\n",
       "      <td>18874</td>\n",
       "    </tr>\n",
       "    <tr>\n",
       "      <th>5</th>\n",
       "      <td>Japanese</td>\n",
       "      <td>18241</td>\n",
       "    </tr>\n",
       "    <tr>\n",
       "      <th>2</th>\n",
       "      <td>Italian</td>\n",
       "      <td>14129</td>\n",
       "    </tr>\n",
       "    <tr>\n",
       "      <th>10</th>\n",
       "      <td>Korean</td>\n",
       "      <td>11728</td>\n",
       "    </tr>\n",
       "    <tr>\n",
       "      <th>9</th>\n",
       "      <td>Traditional Chinese</td>\n",
       "      <td>11275</td>\n",
       "    </tr>\n",
       "  </tbody>\n",
       "</table>\n",
       "</div>"
      ],
      "text/plain": [
       "               language  Frequency\n",
       "0               English      86785\n",
       "8    Simplified Chinese      22568\n",
       "3                German      20862\n",
       "1                French      20299\n",
       "7               Russian      19570\n",
       "4       Spanish - Spain      18874\n",
       "5              Japanese      18241\n",
       "2               Italian      14129\n",
       "10               Korean      11728\n",
       "9   Traditional Chinese      11275"
      ]
     },
     "metadata": {},
     "output_type": "display_data"
    }
   ],
   "source": [
    "language_count.columns = ['language', 'Frequency']\n",
    "language_count = language_count.sort_values('Frequency', ascending = False).head(10)\n",
    "language_count"
   ]
  },
  {
   "cell_type": "code",
   "execution_count": null,
   "metadata": {},
   "outputs": [
    {
     "data": {
      "application/vnd.plotly.v1+json": {
       "config": {
        "plotlyServerURL": "https://plot.ly"
       },
       "data": [
        {
         "alignmentgroup": "True",
         "hovertemplate": "language=%{x}<br>Frequency=%{y}<extra></extra>",
         "legendgroup": "",
         "marker": {
          "color": "#636efa",
          "pattern": {
           "shape": ""
          }
         },
         "name": "",
         "offsetgroup": "",
         "orientation": "v",
         "showlegend": false,
         "textposition": "auto",
         "type": "bar",
         "x": [
          "English",
          "Simplified Chinese",
          "German",
          "French",
          "Russian",
          "Spanish - Spain",
          "Japanese",
          "Italian",
          "Korean",
          "Traditional Chinese"
         ],
         "xaxis": "x",
         "y": [
          86785,
          22568,
          20862,
          20299,
          19570,
          18874,
          18241,
          14129,
          11728,
          11275
         ],
         "yaxis": "y"
        }
       ],
       "layout": {
        "barmode": "relative",
        "legend": {
         "tracegroupgap": 0
        },
        "template": {
         "data": {
          "bar": [
           {
            "error_x": {
             "color": "#2a3f5f"
            },
            "error_y": {
             "color": "#2a3f5f"
            },
            "marker": {
             "line": {
              "color": "#E5ECF6",
              "width": 0.5
             },
             "pattern": {
              "fillmode": "overlay",
              "size": 10,
              "solidity": 0.2
             }
            },
            "type": "bar"
           }
          ],
          "barpolar": [
           {
            "marker": {
             "line": {
              "color": "#E5ECF6",
              "width": 0.5
             },
             "pattern": {
              "fillmode": "overlay",
              "size": 10,
              "solidity": 0.2
             }
            },
            "type": "barpolar"
           }
          ],
          "carpet": [
           {
            "aaxis": {
             "endlinecolor": "#2a3f5f",
             "gridcolor": "white",
             "linecolor": "white",
             "minorgridcolor": "white",
             "startlinecolor": "#2a3f5f"
            },
            "baxis": {
             "endlinecolor": "#2a3f5f",
             "gridcolor": "white",
             "linecolor": "white",
             "minorgridcolor": "white",
             "startlinecolor": "#2a3f5f"
            },
            "type": "carpet"
           }
          ],
          "choropleth": [
           {
            "colorbar": {
             "outlinewidth": 0,
             "ticks": ""
            },
            "type": "choropleth"
           }
          ],
          "contour": [
           {
            "colorbar": {
             "outlinewidth": 0,
             "ticks": ""
            },
            "colorscale": [
             [
              0,
              "#0d0887"
             ],
             [
              0.1111111111111111,
              "#46039f"
             ],
             [
              0.2222222222222222,
              "#7201a8"
             ],
             [
              0.3333333333333333,
              "#9c179e"
             ],
             [
              0.4444444444444444,
              "#bd3786"
             ],
             [
              0.5555555555555556,
              "#d8576b"
             ],
             [
              0.6666666666666666,
              "#ed7953"
             ],
             [
              0.7777777777777778,
              "#fb9f3a"
             ],
             [
              0.8888888888888888,
              "#fdca26"
             ],
             [
              1,
              "#f0f921"
             ]
            ],
            "type": "contour"
           }
          ],
          "contourcarpet": [
           {
            "colorbar": {
             "outlinewidth": 0,
             "ticks": ""
            },
            "type": "contourcarpet"
           }
          ],
          "heatmap": [
           {
            "colorbar": {
             "outlinewidth": 0,
             "ticks": ""
            },
            "colorscale": [
             [
              0,
              "#0d0887"
             ],
             [
              0.1111111111111111,
              "#46039f"
             ],
             [
              0.2222222222222222,
              "#7201a8"
             ],
             [
              0.3333333333333333,
              "#9c179e"
             ],
             [
              0.4444444444444444,
              "#bd3786"
             ],
             [
              0.5555555555555556,
              "#d8576b"
             ],
             [
              0.6666666666666666,
              "#ed7953"
             ],
             [
              0.7777777777777778,
              "#fb9f3a"
             ],
             [
              0.8888888888888888,
              "#fdca26"
             ],
             [
              1,
              "#f0f921"
             ]
            ],
            "type": "heatmap"
           }
          ],
          "heatmapgl": [
           {
            "colorbar": {
             "outlinewidth": 0,
             "ticks": ""
            },
            "colorscale": [
             [
              0,
              "#0d0887"
             ],
             [
              0.1111111111111111,
              "#46039f"
             ],
             [
              0.2222222222222222,
              "#7201a8"
             ],
             [
              0.3333333333333333,
              "#9c179e"
             ],
             [
              0.4444444444444444,
              "#bd3786"
             ],
             [
              0.5555555555555556,
              "#d8576b"
             ],
             [
              0.6666666666666666,
              "#ed7953"
             ],
             [
              0.7777777777777778,
              "#fb9f3a"
             ],
             [
              0.8888888888888888,
              "#fdca26"
             ],
             [
              1,
              "#f0f921"
             ]
            ],
            "type": "heatmapgl"
           }
          ],
          "histogram": [
           {
            "marker": {
             "pattern": {
              "fillmode": "overlay",
              "size": 10,
              "solidity": 0.2
             }
            },
            "type": "histogram"
           }
          ],
          "histogram2d": [
           {
            "colorbar": {
             "outlinewidth": 0,
             "ticks": ""
            },
            "colorscale": [
             [
              0,
              "#0d0887"
             ],
             [
              0.1111111111111111,
              "#46039f"
             ],
             [
              0.2222222222222222,
              "#7201a8"
             ],
             [
              0.3333333333333333,
              "#9c179e"
             ],
             [
              0.4444444444444444,
              "#bd3786"
             ],
             [
              0.5555555555555556,
              "#d8576b"
             ],
             [
              0.6666666666666666,
              "#ed7953"
             ],
             [
              0.7777777777777778,
              "#fb9f3a"
             ],
             [
              0.8888888888888888,
              "#fdca26"
             ],
             [
              1,
              "#f0f921"
             ]
            ],
            "type": "histogram2d"
           }
          ],
          "histogram2dcontour": [
           {
            "colorbar": {
             "outlinewidth": 0,
             "ticks": ""
            },
            "colorscale": [
             [
              0,
              "#0d0887"
             ],
             [
              0.1111111111111111,
              "#46039f"
             ],
             [
              0.2222222222222222,
              "#7201a8"
             ],
             [
              0.3333333333333333,
              "#9c179e"
             ],
             [
              0.4444444444444444,
              "#bd3786"
             ],
             [
              0.5555555555555556,
              "#d8576b"
             ],
             [
              0.6666666666666666,
              "#ed7953"
             ],
             [
              0.7777777777777778,
              "#fb9f3a"
             ],
             [
              0.8888888888888888,
              "#fdca26"
             ],
             [
              1,
              "#f0f921"
             ]
            ],
            "type": "histogram2dcontour"
           }
          ],
          "mesh3d": [
           {
            "colorbar": {
             "outlinewidth": 0,
             "ticks": ""
            },
            "type": "mesh3d"
           }
          ],
          "parcoords": [
           {
            "line": {
             "colorbar": {
              "outlinewidth": 0,
              "ticks": ""
             }
            },
            "type": "parcoords"
           }
          ],
          "pie": [
           {
            "automargin": true,
            "type": "pie"
           }
          ],
          "scatter": [
           {
            "fillpattern": {
             "fillmode": "overlay",
             "size": 10,
             "solidity": 0.2
            },
            "type": "scatter"
           }
          ],
          "scatter3d": [
           {
            "line": {
             "colorbar": {
              "outlinewidth": 0,
              "ticks": ""
             }
            },
            "marker": {
             "colorbar": {
              "outlinewidth": 0,
              "ticks": ""
             }
            },
            "type": "scatter3d"
           }
          ],
          "scattercarpet": [
           {
            "marker": {
             "colorbar": {
              "outlinewidth": 0,
              "ticks": ""
             }
            },
            "type": "scattercarpet"
           }
          ],
          "scattergeo": [
           {
            "marker": {
             "colorbar": {
              "outlinewidth": 0,
              "ticks": ""
             }
            },
            "type": "scattergeo"
           }
          ],
          "scattergl": [
           {
            "marker": {
             "colorbar": {
              "outlinewidth": 0,
              "ticks": ""
             }
            },
            "type": "scattergl"
           }
          ],
          "scattermapbox": [
           {
            "marker": {
             "colorbar": {
              "outlinewidth": 0,
              "ticks": ""
             }
            },
            "type": "scattermapbox"
           }
          ],
          "scatterpolar": [
           {
            "marker": {
             "colorbar": {
              "outlinewidth": 0,
              "ticks": ""
             }
            },
            "type": "scatterpolar"
           }
          ],
          "scatterpolargl": [
           {
            "marker": {
             "colorbar": {
              "outlinewidth": 0,
              "ticks": ""
             }
            },
            "type": "scatterpolargl"
           }
          ],
          "scatterternary": [
           {
            "marker": {
             "colorbar": {
              "outlinewidth": 0,
              "ticks": ""
             }
            },
            "type": "scatterternary"
           }
          ],
          "surface": [
           {
            "colorbar": {
             "outlinewidth": 0,
             "ticks": ""
            },
            "colorscale": [
             [
              0,
              "#0d0887"
             ],
             [
              0.1111111111111111,
              "#46039f"
             ],
             [
              0.2222222222222222,
              "#7201a8"
             ],
             [
              0.3333333333333333,
              "#9c179e"
             ],
             [
              0.4444444444444444,
              "#bd3786"
             ],
             [
              0.5555555555555556,
              "#d8576b"
             ],
             [
              0.6666666666666666,
              "#ed7953"
             ],
             [
              0.7777777777777778,
              "#fb9f3a"
             ],
             [
              0.8888888888888888,
              "#fdca26"
             ],
             [
              1,
              "#f0f921"
             ]
            ],
            "type": "surface"
           }
          ],
          "table": [
           {
            "cells": {
             "fill": {
              "color": "#EBF0F8"
             },
             "line": {
              "color": "white"
             }
            },
            "header": {
             "fill": {
              "color": "#C8D4E3"
             },
             "line": {
              "color": "white"
             }
            },
            "type": "table"
           }
          ]
         },
         "layout": {
          "annotationdefaults": {
           "arrowcolor": "#2a3f5f",
           "arrowhead": 0,
           "arrowwidth": 1
          },
          "autotypenumbers": "strict",
          "coloraxis": {
           "colorbar": {
            "outlinewidth": 0,
            "ticks": ""
           }
          },
          "colorscale": {
           "diverging": [
            [
             0,
             "#8e0152"
            ],
            [
             0.1,
             "#c51b7d"
            ],
            [
             0.2,
             "#de77ae"
            ],
            [
             0.3,
             "#f1b6da"
            ],
            [
             0.4,
             "#fde0ef"
            ],
            [
             0.5,
             "#f7f7f7"
            ],
            [
             0.6,
             "#e6f5d0"
            ],
            [
             0.7,
             "#b8e186"
            ],
            [
             0.8,
             "#7fbc41"
            ],
            [
             0.9,
             "#4d9221"
            ],
            [
             1,
             "#276419"
            ]
           ],
           "sequential": [
            [
             0,
             "#0d0887"
            ],
            [
             0.1111111111111111,
             "#46039f"
            ],
            [
             0.2222222222222222,
             "#7201a8"
            ],
            [
             0.3333333333333333,
             "#9c179e"
            ],
            [
             0.4444444444444444,
             "#bd3786"
            ],
            [
             0.5555555555555556,
             "#d8576b"
            ],
            [
             0.6666666666666666,
             "#ed7953"
            ],
            [
             0.7777777777777778,
             "#fb9f3a"
            ],
            [
             0.8888888888888888,
             "#fdca26"
            ],
            [
             1,
             "#f0f921"
            ]
           ],
           "sequentialminus": [
            [
             0,
             "#0d0887"
            ],
            [
             0.1111111111111111,
             "#46039f"
            ],
            [
             0.2222222222222222,
             "#7201a8"
            ],
            [
             0.3333333333333333,
             "#9c179e"
            ],
            [
             0.4444444444444444,
             "#bd3786"
            ],
            [
             0.5555555555555556,
             "#d8576b"
            ],
            [
             0.6666666666666666,
             "#ed7953"
            ],
            [
             0.7777777777777778,
             "#fb9f3a"
            ],
            [
             0.8888888888888888,
             "#fdca26"
            ],
            [
             1,
             "#f0f921"
            ]
           ]
          },
          "colorway": [
           "#636efa",
           "#EF553B",
           "#00cc96",
           "#ab63fa",
           "#FFA15A",
           "#19d3f3",
           "#FF6692",
           "#B6E880",
           "#FF97FF",
           "#FECB52"
          ],
          "font": {
           "color": "#2a3f5f"
          },
          "geo": {
           "bgcolor": "white",
           "lakecolor": "white",
           "landcolor": "#E5ECF6",
           "showlakes": true,
           "showland": true,
           "subunitcolor": "white"
          },
          "hoverlabel": {
           "align": "left"
          },
          "hovermode": "closest",
          "mapbox": {
           "style": "light"
          },
          "paper_bgcolor": "white",
          "plot_bgcolor": "#E5ECF6",
          "polar": {
           "angularaxis": {
            "gridcolor": "white",
            "linecolor": "white",
            "ticks": ""
           },
           "bgcolor": "#E5ECF6",
           "radialaxis": {
            "gridcolor": "white",
            "linecolor": "white",
            "ticks": ""
           }
          },
          "scene": {
           "xaxis": {
            "backgroundcolor": "#E5ECF6",
            "gridcolor": "white",
            "gridwidth": 2,
            "linecolor": "white",
            "showbackground": true,
            "ticks": "",
            "zerolinecolor": "white"
           },
           "yaxis": {
            "backgroundcolor": "#E5ECF6",
            "gridcolor": "white",
            "gridwidth": 2,
            "linecolor": "white",
            "showbackground": true,
            "ticks": "",
            "zerolinecolor": "white"
           },
           "zaxis": {
            "backgroundcolor": "#E5ECF6",
            "gridcolor": "white",
            "gridwidth": 2,
            "linecolor": "white",
            "showbackground": true,
            "ticks": "",
            "zerolinecolor": "white"
           }
          },
          "shapedefaults": {
           "line": {
            "color": "#2a3f5f"
           }
          },
          "ternary": {
           "aaxis": {
            "gridcolor": "white",
            "linecolor": "white",
            "ticks": ""
           },
           "baxis": {
            "gridcolor": "white",
            "linecolor": "white",
            "ticks": ""
           },
           "bgcolor": "#E5ECF6",
           "caxis": {
            "gridcolor": "white",
            "linecolor": "white",
            "ticks": ""
           }
          },
          "title": {
           "x": 0.05
          },
          "xaxis": {
           "automargin": true,
           "gridcolor": "white",
           "linecolor": "white",
           "ticks": "",
           "title": {
            "standoff": 15
           },
           "zerolinecolor": "white",
           "zerolinewidth": 2
          },
          "yaxis": {
           "automargin": true,
           "gridcolor": "white",
           "linecolor": "white",
           "ticks": "",
           "title": {
            "standoff": 15
           },
           "zerolinecolor": "white",
           "zerolinewidth": 2
          }
         }
        },
        "title": {
         "text": "Top games languages"
        },
        "xaxis": {
         "anchor": "y",
         "domain": [
          0,
          1
         ],
         "title": {
          "text": "language"
         }
        },
        "yaxis": {
         "anchor": "x",
         "domain": [
          0,
          1
         ],
         "title": {
          "text": "Frequency"
         }
        }
       }
      }
     },
     "metadata": {},
     "output_type": "display_data"
    }
   ],
   "source": [
    "language_count_graph = px.bar(language_count, y='Frequency', x='language', title='Top games languages')\n",
    "language_count_graph.show()"
   ]
  },
  {
   "cell_type": "code",
   "execution_count": null,
   "metadata": {},
   "outputs": [],
   "source": [
    "steam_df['Supported languages'] = steam_df['Supported languages'].str.replace(r\"(?<!')K'iche'(?!')\", \"Kiche\", regex=True)\n",
    "\n",
    "def languages_tonumeric(value):\n",
    "    \n",
    "    try:\n",
    "        \n",
    "        languages = ast.literal_eval(value)\n",
    "        if not languages or (len(languages) == 1 and languages[0] == \"\"):\n",
    "            return 0\n",
    "        return len(languages)\n",
    "\n",
    "    except ValueError:\n",
    "        \n",
    "        return 0\n",
    "\n",
    "steam_df['Num Supported languages'] = steam_df['Supported languages'].apply(languages_tonumeric)"
   ]
  },
  {
   "cell_type": "code",
   "execution_count": null,
   "metadata": {},
   "outputs": [
    {
     "data": {
      "text/plain": [
       "0     1\n",
       "1    10\n",
       "2     2\n",
       "3    11\n",
       "4     2\n",
       "5     1\n",
       "6     3\n",
       "7     2\n",
       "8    10\n",
       "9     9\n",
       "Name: Num Supported languages, dtype: int64"
      ]
     },
     "metadata": {},
     "output_type": "display_data"
    }
   ],
   "source": [
    "steam_df['Num Supported languages'].head(10)"
   ]
  },
  {
   "cell_type": "code",
   "execution_count": null,
   "metadata": {},
   "outputs": [],
   "source": [
    "steam_df[['Windows', 'Mac', 'Linux']] = steam_df[['Windows', 'Mac', 'Linux']].astype('int64')\n",
    "steam_df[['Game support', 'Game media']] = steam_df[['Game support', 'Game media']].astype('int64')"
   ]
  },
  {
   "cell_type": "code",
   "execution_count": null,
   "metadata": {},
   "outputs": [
    {
     "name": "stdout",
     "output_type": "stream",
     "text": [
      "<class 'pandas.core.frame.DataFrame'>\n",
      "Index: 91145 entries, 0 to 92749\n",
      "Data columns (total 29 columns):\n",
      " #   Column                      Non-Null Count  Dtype         \n",
      "---  ------                      --------------  -----         \n",
      " 0   Name                        91145 non-null  object        \n",
      " 1   Release date                91145 non-null  datetime64[ns]\n",
      " 2   Peak CCU                    91145 non-null  int64         \n",
      " 3   Required age                91145 non-null  int64         \n",
      " 4   Price                       91145 non-null  float64       \n",
      " 5   DLC count                   91145 non-null  int64         \n",
      " 6   Supported languages         91145 non-null  object        \n",
      " 7   Windows                     91145 non-null  int64         \n",
      " 8   Mac                         91145 non-null  int64         \n",
      " 9   Linux                       91145 non-null  int64         \n",
      " 10  Metacritic score            91145 non-null  int64         \n",
      " 11  User score                  91145 non-null  int64         \n",
      " 12  Positive                    91145 non-null  int64         \n",
      " 13  Negative                    91145 non-null  int64         \n",
      " 14  Achievements                91145 non-null  int64         \n",
      " 15  Recommendations             91145 non-null  int64         \n",
      " 16  Average playtime forever    91145 non-null  int64         \n",
      " 17  Average playtime two weeks  91145 non-null  int64         \n",
      " 18  Median playtime forever     91145 non-null  int64         \n",
      " 19  Median playtime two weeks   91145 non-null  int64         \n",
      " 20  Developers                  91145 non-null  object        \n",
      " 21  Publishers                  91145 non-null  object        \n",
      " 22  Categories                  91145 non-null  object        \n",
      " 23  Genres                      91145 non-null  object        \n",
      " 24  Tags                        91145 non-null  object        \n",
      " 25  DEOM                        91145 non-null  float64       \n",
      " 26  Game support                91145 non-null  int64         \n",
      " 27  Game media                  91145 non-null  int64         \n",
      " 28  Num Supported languages     91145 non-null  int64         \n",
      "dtypes: datetime64[ns](1), float64(2), int64(19), object(7)\n",
      "memory usage: 22.9+ MB\n"
     ]
    }
   ],
   "source": [
    "steam_df.info()"
   ]
  },
  {
   "cell_type": "code",
   "execution_count": null,
   "metadata": {},
   "outputs": [],
   "source": [
    "def categories_clean(x):\n",
    "    x = x.split(\",\")\n",
    "    return x"
   ]
  },
  {
   "cell_type": "code",
   "execution_count": null,
   "metadata": {},
   "outputs": [],
   "source": [
    "categories_count = {}\n",
    "for categories in steam_df['Categories']:\n",
    "    words = categories_clean(categories)\n",
    "    for word in words:\n",
    "        categories_count[word] = categories_count.get(word, 0) + 1"
   ]
  },
  {
   "cell_type": "code",
   "execution_count": null,
   "metadata": {},
   "outputs": [
    {
     "data": {
      "text/html": [
       "<div>\n",
       "<style scoped>\n",
       "    .dataframe tbody tr th:only-of-type {\n",
       "        vertical-align: middle;\n",
       "    }\n",
       "\n",
       "    .dataframe tbody tr th {\n",
       "        vertical-align: top;\n",
       "    }\n",
       "\n",
       "    .dataframe thead th {\n",
       "        text-align: right;\n",
       "    }\n",
       "</style>\n",
       "<table border=\"1\" class=\"dataframe\">\n",
       "  <thead>\n",
       "    <tr style=\"text-align: right;\">\n",
       "      <th></th>\n",
       "      <th>category</th>\n",
       "      <th>Frequency</th>\n",
       "    </tr>\n",
       "  </thead>\n",
       "  <tbody>\n",
       "    <tr>\n",
       "      <th>0</th>\n",
       "      <td>Single-player</td>\n",
       "      <td>86651</td>\n",
       "    </tr>\n",
       "    <tr>\n",
       "      <th>2</th>\n",
       "      <td>Steam Achievements</td>\n",
       "      <td>41125</td>\n",
       "    </tr>\n",
       "    <tr>\n",
       "      <th>15</th>\n",
       "      <td>Steam Cloud</td>\n",
       "      <td>21074</td>\n",
       "    </tr>\n",
       "    <tr>\n",
       "      <th>4</th>\n",
       "      <td>Full controller support</td>\n",
       "      <td>18274</td>\n",
       "    </tr>\n",
       "    <tr>\n",
       "      <th>1</th>\n",
       "      <td>Multi-player</td>\n",
       "      <td>17137</td>\n",
       "    </tr>\n",
       "    <tr>\n",
       "      <th>3</th>\n",
       "      <td>Partial Controller Support</td>\n",
       "      <td>11481</td>\n",
       "    </tr>\n",
       "    <tr>\n",
       "      <th>10</th>\n",
       "      <td>PvP</td>\n",
       "      <td>10811</td>\n",
       "    </tr>\n",
       "    <tr>\n",
       "      <th>16</th>\n",
       "      <td>Steam Trading Cards</td>\n",
       "      <td>9928</td>\n",
       "    </tr>\n",
       "    <tr>\n",
       "      <th>12</th>\n",
       "      <td>Co-op</td>\n",
       "      <td>8720</td>\n",
       "    </tr>\n",
       "    <tr>\n",
       "      <th>11</th>\n",
       "      <td>Online PvP</td>\n",
       "      <td>7730</td>\n",
       "    </tr>\n",
       "    <tr>\n",
       "      <th>5</th>\n",
       "      <td>Steam Leaderboards</td>\n",
       "      <td>7368</td>\n",
       "    </tr>\n",
       "    <tr>\n",
       "      <th>41</th>\n",
       "      <td>Family Sharing</td>\n",
       "      <td>7159</td>\n",
       "    </tr>\n",
       "    <tr>\n",
       "      <th>19</th>\n",
       "      <td>Remote Play Together</td>\n",
       "      <td>6598</td>\n",
       "    </tr>\n",
       "    <tr>\n",
       "      <th>17</th>\n",
       "      <td>Shared/Split Screen</td>\n",
       "      <td>6159</td>\n",
       "    </tr>\n",
       "    <tr>\n",
       "      <th>13</th>\n",
       "      <td>Online Co-op</td>\n",
       "      <td>5113</td>\n",
       "    </tr>\n",
       "    <tr>\n",
       "      <th>21</th>\n",
       "      <td>Shared/Split Screen PvP</td>\n",
       "      <td>4384</td>\n",
       "    </tr>\n",
       "    <tr>\n",
       "      <th>20</th>\n",
       "      <td>Stats</td>\n",
       "      <td>3853</td>\n",
       "    </tr>\n",
       "    <tr>\n",
       "      <th>27</th>\n",
       "      <td>Shared/Split Screen Co-op</td>\n",
       "      <td>3460</td>\n",
       "    </tr>\n",
       "    <tr>\n",
       "      <th>14</th>\n",
       "      <td>In-App Purchases</td>\n",
       "      <td>2613</td>\n",
       "    </tr>\n",
       "    <tr>\n",
       "      <th>18</th>\n",
       "      <td>Cross-Platform Multiplayer</td>\n",
       "      <td>2511</td>\n",
       "    </tr>\n",
       "    <tr>\n",
       "      <th>8</th>\n",
       "      <td>Remote Play on TV</td>\n",
       "      <td>2232</td>\n",
       "    </tr>\n",
       "    <tr>\n",
       "      <th>24</th>\n",
       "      <td>Includes level editor</td>\n",
       "      <td>2082</td>\n",
       "    </tr>\n",
       "    <tr>\n",
       "      <th>23</th>\n",
       "      <td>Steam Workshop</td>\n",
       "      <td>1971</td>\n",
       "    </tr>\n",
       "    <tr>\n",
       "      <th>9</th>\n",
       "      <td>MMO</td>\n",
       "      <td>1436</td>\n",
       "    </tr>\n",
       "    <tr>\n",
       "      <th>22</th>\n",
       "      <td>Captions available</td>\n",
       "      <td>1248</td>\n",
       "    </tr>\n",
       "    <tr>\n",
       "      <th>7</th>\n",
       "      <td>Remote Play on Tablet</td>\n",
       "      <td>1000</td>\n",
       "    </tr>\n",
       "    <tr>\n",
       "      <th>38</th>\n",
       "      <td>VR Only</td>\n",
       "      <td>899</td>\n",
       "    </tr>\n",
       "    <tr>\n",
       "      <th>6</th>\n",
       "      <td>Remote Play on Phone</td>\n",
       "      <td>840</td>\n",
       "    </tr>\n",
       "    <tr>\n",
       "      <th>25</th>\n",
       "      <td>LAN PvP</td>\n",
       "      <td>825</td>\n",
       "    </tr>\n",
       "    <tr>\n",
       "      <th>26</th>\n",
       "      <td>LAN Co-op</td>\n",
       "      <td>731</td>\n",
       "    </tr>\n",
       "    <tr>\n",
       "      <th>37</th>\n",
       "      <td>Tracked Controller Support</td>\n",
       "      <td>493</td>\n",
       "    </tr>\n",
       "    <tr>\n",
       "      <th>33</th>\n",
       "      <td>Commentary available</td>\n",
       "      <td>250</td>\n",
       "    </tr>\n",
       "    <tr>\n",
       "      <th>29</th>\n",
       "      <td>VR Support</td>\n",
       "      <td>248</td>\n",
       "    </tr>\n",
       "    <tr>\n",
       "      <th>39</th>\n",
       "      <td>VR Supported</td>\n",
       "      <td>133</td>\n",
       "    </tr>\n",
       "    <tr>\n",
       "      <th>31</th>\n",
       "      <td>Valve Anti-Cheat enabled</td>\n",
       "      <td>124</td>\n",
       "    </tr>\n",
       "    <tr>\n",
       "      <th>28</th>\n",
       "      <td>Steam Turn Notifications</td>\n",
       "      <td>94</td>\n",
       "    </tr>\n",
       "    <tr>\n",
       "      <th>40</th>\n",
       "      <td>HDR available</td>\n",
       "      <td>58</td>\n",
       "    </tr>\n",
       "    <tr>\n",
       "      <th>32</th>\n",
       "      <td>Includes Source SDK</td>\n",
       "      <td>54</td>\n",
       "    </tr>\n",
       "    <tr>\n",
       "      <th>30</th>\n",
       "      <td>SteamVR Collectibles</td>\n",
       "      <td>41</td>\n",
       "    </tr>\n",
       "    <tr>\n",
       "      <th>34</th>\n",
       "      <td>Mods (require HL2)</td>\n",
       "      <td>2</td>\n",
       "    </tr>\n",
       "    <tr>\n",
       "      <th>35</th>\n",
       "      <td>Mods</td>\n",
       "      <td>2</td>\n",
       "    </tr>\n",
       "    <tr>\n",
       "      <th>42</th>\n",
       "      <td>Steam Timeline</td>\n",
       "      <td>2</td>\n",
       "    </tr>\n",
       "    <tr>\n",
       "      <th>36</th>\n",
       "      <td>Tracked Motion Controller Support</td>\n",
       "      <td>1</td>\n",
       "    </tr>\n",
       "  </tbody>\n",
       "</table>\n",
       "</div>"
      ],
      "text/plain": [
       "                             category  Frequency\n",
       "0                       Single-player      86651\n",
       "2                  Steam Achievements      41125\n",
       "15                        Steam Cloud      21074\n",
       "4             Full controller support      18274\n",
       "1                        Multi-player      17137\n",
       "3          Partial Controller Support      11481\n",
       "10                                PvP      10811\n",
       "16                Steam Trading Cards       9928\n",
       "12                              Co-op       8720\n",
       "11                         Online PvP       7730\n",
       "5                  Steam Leaderboards       7368\n",
       "41                     Family Sharing       7159\n",
       "19               Remote Play Together       6598\n",
       "17                Shared/Split Screen       6159\n",
       "13                       Online Co-op       5113\n",
       "21            Shared/Split Screen PvP       4384\n",
       "20                              Stats       3853\n",
       "27          Shared/Split Screen Co-op       3460\n",
       "14                   In-App Purchases       2613\n",
       "18         Cross-Platform Multiplayer       2511\n",
       "8                   Remote Play on TV       2232\n",
       "24              Includes level editor       2082\n",
       "23                     Steam Workshop       1971\n",
       "9                                 MMO       1436\n",
       "22                 Captions available       1248\n",
       "7               Remote Play on Tablet       1000\n",
       "38                            VR Only        899\n",
       "6                Remote Play on Phone        840\n",
       "25                            LAN PvP        825\n",
       "26                          LAN Co-op        731\n",
       "37         Tracked Controller Support        493\n",
       "33               Commentary available        250\n",
       "29                         VR Support        248\n",
       "39                       VR Supported        133\n",
       "31           Valve Anti-Cheat enabled        124\n",
       "28           Steam Turn Notifications         94\n",
       "40                      HDR available         58\n",
       "32                Includes Source SDK         54\n",
       "30               SteamVR Collectibles         41\n",
       "34                 Mods (require HL2)          2\n",
       "35                               Mods          2\n",
       "42                     Steam Timeline          2\n",
       "36  Tracked Motion Controller Support          1"
      ]
     },
     "metadata": {},
     "output_type": "display_data"
    }
   ],
   "source": [
    "categories_count = pd.DataFrame.from_dict(categories_count, orient='index').reset_index()\n",
    "\n",
    "categories_count.columns = ['category', 'Frequency']\n",
    "categories_count = categories_count.sort_values('Frequency', ascending = False)\n",
    "categories_count"
   ]
  },
  {
   "cell_type": "markdown",
   "metadata": {},
   "source": [
    "Categories selected: "
   ]
  },
  {
   "cell_type": "code",
   "execution_count": null,
   "metadata": {},
   "outputs": [],
   "source": [
    "selected_categories = [\"Single-player\", \"Multi-player\", \"PvP\", \"Full controller support\", \"Co-op\", \"Steam Workshop\", \"Family Sharing\"]"
   ]
  },
  {
   "cell_type": "markdown",
   "metadata": {},
   "source": [
    "Genres:"
   ]
  },
  {
   "cell_type": "code",
   "execution_count": null,
   "metadata": {},
   "outputs": [],
   "source": [
    "genres_count = {}\n",
    "for genres in steam_df['Genres']:\n",
    "    words = categories_clean(genres)\n",
    "    for word in words:\n",
    "        genres_count[word] = genres_count.get(word, 0) + 1"
   ]
  },
  {
   "cell_type": "code",
   "execution_count": null,
   "metadata": {},
   "outputs": [
    {
     "data": {
      "text/html": [
       "<div>\n",
       "<style scoped>\n",
       "    .dataframe tbody tr th:only-of-type {\n",
       "        vertical-align: middle;\n",
       "    }\n",
       "\n",
       "    .dataframe tbody tr th {\n",
       "        vertical-align: top;\n",
       "    }\n",
       "\n",
       "    .dataframe thead th {\n",
       "        text-align: right;\n",
       "    }\n",
       "</style>\n",
       "<table border=\"1\" class=\"dataframe\">\n",
       "  <thead>\n",
       "    <tr style=\"text-align: right;\">\n",
       "      <th></th>\n",
       "      <th>Genres</th>\n",
       "      <th>Frequency</th>\n",
       "    </tr>\n",
       "  </thead>\n",
       "  <tbody>\n",
       "    <tr>\n",
       "      <th>1</th>\n",
       "      <td>Indie</td>\n",
       "      <td>64284</td>\n",
       "    </tr>\n",
       "    <tr>\n",
       "      <th>0</th>\n",
       "      <td>Casual</td>\n",
       "      <td>39171</td>\n",
       "    </tr>\n",
       "    <tr>\n",
       "      <th>3</th>\n",
       "      <td>Action</td>\n",
       "      <td>37875</td>\n",
       "    </tr>\n",
       "    <tr>\n",
       "      <th>4</th>\n",
       "      <td>Adventure</td>\n",
       "      <td>35748</td>\n",
       "    </tr>\n",
       "    <tr>\n",
       "      <th>9</th>\n",
       "      <td>Simulation</td>\n",
       "      <td>18515</td>\n",
       "    </tr>\n",
       "    <tr>\n",
       "      <th>5</th>\n",
       "      <td>Strategy</td>\n",
       "      <td>17712</td>\n",
       "    </tr>\n",
       "    <tr>\n",
       "      <th>8</th>\n",
       "      <td>RPG</td>\n",
       "      <td>16609</td>\n",
       "    </tr>\n",
       "    <tr>\n",
       "      <th>10</th>\n",
       "      <td>Early Access</td>\n",
       "      <td>11920</td>\n",
       "    </tr>\n",
       "    <tr>\n",
       "      <th>6</th>\n",
       "      <td>Free to Play</td>\n",
       "      <td>7864</td>\n",
       "    </tr>\n",
       "    <tr>\n",
       "      <th>2</th>\n",
       "      <td>Sports</td>\n",
       "      <td>4247</td>\n",
       "    </tr>\n",
       "    <tr>\n",
       "      <th>11</th>\n",
       "      <td>Racing</td>\n",
       "      <td>3471</td>\n",
       "    </tr>\n",
       "    <tr>\n",
       "      <th>7</th>\n",
       "      <td>Massively Multiplayer</td>\n",
       "      <td>2407</td>\n",
       "    </tr>\n",
       "    <tr>\n",
       "      <th>14</th>\n",
       "      <td>Violent</td>\n",
       "      <td>522</td>\n",
       "    </tr>\n",
       "    <tr>\n",
       "      <th>18</th>\n",
       "      <td>Utilities</td>\n",
       "      <td>323</td>\n",
       "    </tr>\n",
       "    <tr>\n",
       "      <th>33</th>\n",
       "      <td>Free To Play</td>\n",
       "      <td>317</td>\n",
       "    </tr>\n",
       "    <tr>\n",
       "      <th>15</th>\n",
       "      <td>Gore</td>\n",
       "      <td>309</td>\n",
       "    </tr>\n",
       "    <tr>\n",
       "      <th>17</th>\n",
       "      <td>Design &amp; Illustration</td>\n",
       "      <td>180</td>\n",
       "    </tr>\n",
       "    <tr>\n",
       "      <th>16</th>\n",
       "      <td>Animation &amp; Modeling</td>\n",
       "      <td>157</td>\n",
       "    </tr>\n",
       "    <tr>\n",
       "      <th>23</th>\n",
       "      <td>Education</td>\n",
       "      <td>127</td>\n",
       "    </tr>\n",
       "    <tr>\n",
       "      <th>13</th>\n",
       "      <td>Nudity</td>\n",
       "      <td>117</td>\n",
       "    </tr>\n",
       "    <tr>\n",
       "      <th>12</th>\n",
       "      <td>Sexual Content</td>\n",
       "      <td>106</td>\n",
       "    </tr>\n",
       "    <tr>\n",
       "      <th>19</th>\n",
       "      <td>Game Development</td>\n",
       "      <td>94</td>\n",
       "    </tr>\n",
       "    <tr>\n",
       "      <th>22</th>\n",
       "      <td>Video Production</td>\n",
       "      <td>89</td>\n",
       "    </tr>\n",
       "    <tr>\n",
       "      <th>21</th>\n",
       "      <td>Audio Production</td>\n",
       "      <td>71</td>\n",
       "    </tr>\n",
       "    <tr>\n",
       "      <th>24</th>\n",
       "      <td>Software Training</td>\n",
       "      <td>65</td>\n",
       "    </tr>\n",
       "    <tr>\n",
       "      <th>20</th>\n",
       "      <td>Web Publishing</td>\n",
       "      <td>43</td>\n",
       "    </tr>\n",
       "    <tr>\n",
       "      <th>26</th>\n",
       "      <td>Photo Editing</td>\n",
       "      <td>39</td>\n",
       "    </tr>\n",
       "    <tr>\n",
       "      <th>25</th>\n",
       "      <td>Accounting</td>\n",
       "      <td>9</td>\n",
       "    </tr>\n",
       "    <tr>\n",
       "      <th>27</th>\n",
       "      <td>Movie</td>\n",
       "      <td>2</td>\n",
       "    </tr>\n",
       "    <tr>\n",
       "      <th>30</th>\n",
       "      <td>Short</td>\n",
       "      <td>2</td>\n",
       "    </tr>\n",
       "    <tr>\n",
       "      <th>28</th>\n",
       "      <td>Documentary</td>\n",
       "      <td>1</td>\n",
       "    </tr>\n",
       "    <tr>\n",
       "      <th>29</th>\n",
       "      <td>Episodic</td>\n",
       "      <td>1</td>\n",
       "    </tr>\n",
       "    <tr>\n",
       "      <th>31</th>\n",
       "      <td>Tutorial</td>\n",
       "      <td>1</td>\n",
       "    </tr>\n",
       "    <tr>\n",
       "      <th>32</th>\n",
       "      <td>360 Video</td>\n",
       "      <td>1</td>\n",
       "    </tr>\n",
       "  </tbody>\n",
       "</table>\n",
       "</div>"
      ],
      "text/plain": [
       "                   Genres  Frequency\n",
       "1                   Indie      64284\n",
       "0                  Casual      39171\n",
       "3                  Action      37875\n",
       "4               Adventure      35748\n",
       "9              Simulation      18515\n",
       "5                Strategy      17712\n",
       "8                     RPG      16609\n",
       "10           Early Access      11920\n",
       "6            Free to Play       7864\n",
       "2                  Sports       4247\n",
       "11                 Racing       3471\n",
       "7   Massively Multiplayer       2407\n",
       "14                Violent        522\n",
       "18              Utilities        323\n",
       "33           Free To Play        317\n",
       "15                   Gore        309\n",
       "17  Design & Illustration        180\n",
       "16   Animation & Modeling        157\n",
       "23              Education        127\n",
       "13                 Nudity        117\n",
       "12         Sexual Content        106\n",
       "19       Game Development         94\n",
       "22       Video Production         89\n",
       "21       Audio Production         71\n",
       "24      Software Training         65\n",
       "20         Web Publishing         43\n",
       "26          Photo Editing         39\n",
       "25             Accounting          9\n",
       "27                  Movie          2\n",
       "30                  Short          2\n",
       "28            Documentary          1\n",
       "29               Episodic          1\n",
       "31               Tutorial          1\n",
       "32              360 Video          1"
      ]
     },
     "metadata": {},
     "output_type": "display_data"
    }
   ],
   "source": [
    "genres_count = pd.DataFrame.from_dict(genres_count, orient='index').reset_index()\n",
    "genres_count.columns = ['Genres', 'Frequency']\n",
    "genres_count = genres_count.sort_values('Frequency', ascending = False)\n",
    "genres_count"
   ]
  },
  {
   "cell_type": "markdown",
   "metadata": {},
   "source": [
    "Selected genres:"
   ]
  },
  {
   "cell_type": "code",
   "execution_count": null,
   "metadata": {},
   "outputs": [],
   "source": [
    "selected_genres = [\"Indie\", \"Casual\", \"Action\", \"Adventure\", \"Simulation\", \"Strategy\", \"RPG\", \"Free to play\", \"Sports\"]"
   ]
  },
  {
   "cell_type": "markdown",
   "metadata": {},
   "source": [
    "Tags:"
   ]
  },
  {
   "cell_type": "code",
   "execution_count": null,
   "metadata": {},
   "outputs": [
    {
     "data": {
      "image/png": "[encoded data removed]",
      "text/plain": [
       "<Figure size 1200x600 with 1 Axes>"
      ]
     },
     "metadata": {},
     "output_type": "display_data"
    }
   ],
   "source": [
    "\n",
    "all_tags = [tag.strip() for sublist in steam_df['Tags'].dropna() for tag in sublist.split(',') if sublist]\n",
    "tag_counts = Counter(all_tags)\n",
    "top_tags = pd.DataFrame(tag_counts.most_common(20), columns=['Tag', 'Number of Games'])\n",
    "plt.figure(figsize=(12, 6))\n",
    "plt.barh(top_tags['Tag'], top_tags['Number of Games'], color='skyblue')\n",
    "plt.title('Top 20 tags by number of games')\n",
    "plt.ylabel('Tag')\n",
    "plt.xlabel('Number of games')\n",
    "plt.xticks(rotation=45)\n",
    "plt.gca().invert_yaxis()\n",
    "plt.show()"
   ]
  },
  {
   "cell_type": "code",
   "execution_count": null,
   "metadata": {},
   "outputs": [],
   "source": [
    "selected_tags = [\"Untagged\", \"2D\", \"Puzzle\", \"Atmospheric\", \"3D\", \"Early Access\"]"
   ]
  },
  {
   "cell_type": "code",
   "execution_count": null,
   "metadata": {},
   "outputs": [
    {
     "data": {
      "text/plain": [
       "[('Indie', 41755),\n",
       " ('Singleplayer', 35791),\n",
       " ('Action', 30177),\n",
       " ('Casual', 28878),\n",
       " ('Adventure', 28321),\n",
       " ('Untagged', 24591),\n",
       " ('2D', 18838),\n",
       " ('Strategy', 14392),\n",
       " ('Simulation', 14219),\n",
       " ('RPG', 12681),\n",
       " ('Puzzle', 12123),\n",
       " ('Atmospheric', 12046),\n",
       " ('3D', 11253),\n",
       " ('Early Access', 9889),\n",
       " ('Pixel Graphics', 9855),\n",
       " ('Story Rich', 9695),\n",
       " ('Colorful', 9632),\n",
       " ('Exploration', 8829),\n",
       " ('Cute', 8765),\n",
       " ('First-Person', 8448)]"
      ]
     },
     "metadata": {},
     "output_type": "display_data"
    }
   ],
   "source": [
    "tag_counts = Counter(all_tags)\n",
    "tag_counts.most_common(20)\n"
   ]
  },
  {
   "cell_type": "code",
   "execution_count": null,
   "metadata": {},
   "outputs": [
    {
     "data": {
      "text/html": [
       "<div>\n",
       "<style scoped>\n",
       "    .dataframe tbody tr th:only-of-type {\n",
       "        vertical-align: middle;\n",
       "    }\n",
       "\n",
       "    .dataframe tbody tr th {\n",
       "        vertical-align: top;\n",
       "    }\n",
       "\n",
       "    .dataframe thead th {\n",
       "        text-align: right;\n",
       "    }\n",
       "</style>\n",
       "<table border=\"1\" class=\"dataframe\">\n",
       "  <thead>\n",
       "    <tr style=\"text-align: right;\">\n",
       "      <th></th>\n",
       "      <th>Developers</th>\n",
       "      <th>DEOM</th>\n",
       "      <th>Positive</th>\n",
       "      <th>Negative</th>\n",
       "    </tr>\n",
       "  </thead>\n",
       "  <tbody>\n",
       "    <tr>\n",
       "      <th>8422</th>\n",
       "      <td>Choice of Games</td>\n",
       "      <td>1127.453666</td>\n",
       "      <td>6865</td>\n",
       "      <td>1106</td>\n",
       "    </tr>\n",
       "    <tr>\n",
       "      <th>9792</th>\n",
       "      <td>Creobit</td>\n",
       "      <td>1012.323727</td>\n",
       "      <td>39845</td>\n",
       "      <td>24635</td>\n",
       "    </tr>\n",
       "    <tr>\n",
       "      <th>14310</th>\n",
       "      <td>EroticGamesClub</td>\n",
       "      <td>1001.525929</td>\n",
       "      <td>0</td>\n",
       "      <td>0</td>\n",
       "    </tr>\n",
       "    <tr>\n",
       "      <th>25494</th>\n",
       "      <td>Laush Dmitriy Sergeevich</td>\n",
       "      <td>936.247319</td>\n",
       "      <td>2563</td>\n",
       "      <td>866</td>\n",
       "    </tr>\n",
       "    <tr>\n",
       "      <th>6355</th>\n",
       "      <td>Boogygames Studios</td>\n",
       "      <td>860.248609</td>\n",
       "      <td>603</td>\n",
       "      <td>304</td>\n",
       "    </tr>\n",
       "    <tr>\n",
       "      <th>23702</th>\n",
       "      <td>KOEI TECMO GAMES CO., LTD.</td>\n",
       "      <td>819.540370</td>\n",
       "      <td>148003</td>\n",
       "      <td>50306</td>\n",
       "    </tr>\n",
       "    <tr>\n",
       "      <th>20347</th>\n",
       "      <td>Hosted Games</td>\n",
       "      <td>754.446882</td>\n",
       "      <td>3332</td>\n",
       "      <td>528</td>\n",
       "    </tr>\n",
       "    <tr>\n",
       "      <th>41521</th>\n",
       "      <td>Sokpop Collective</td>\n",
       "      <td>750.381879</td>\n",
       "      <td>3201</td>\n",
       "      <td>611</td>\n",
       "    </tr>\n",
       "    <tr>\n",
       "      <th>37424</th>\n",
       "      <td>Reforged Group</td>\n",
       "      <td>702.828618</td>\n",
       "      <td>251</td>\n",
       "      <td>359</td>\n",
       "    </tr>\n",
       "    <tr>\n",
       "      <th>13759</th>\n",
       "      <td>Elephant Games</td>\n",
       "      <td>645.466075</td>\n",
       "      <td>1136</td>\n",
       "      <td>529</td>\n",
       "    </tr>\n",
       "  </tbody>\n",
       "</table>\n",
       "</div>"
      ],
      "text/plain": [
       "                       Developers         DEOM  Positive  Negative\n",
       "8422              Choice of Games  1127.453666      6865      1106\n",
       "9792                      Creobit  1012.323727     39845     24635\n",
       "14310             EroticGamesClub  1001.525929         0         0\n",
       "25494    Laush Dmitriy Sergeevich   936.247319      2563       866\n",
       "6355           Boogygames Studios   860.248609       603       304\n",
       "23702  KOEI TECMO GAMES CO., LTD.   819.540370    148003     50306\n",
       "20347                Hosted Games   754.446882      3332       528\n",
       "41521           Sokpop Collective   750.381879      3201       611\n",
       "37424              Reforged Group   702.828618       251       359\n",
       "13759              Elephant Games   645.466075      1136       529"
      ]
     },
     "metadata": {},
     "output_type": "display_data"
    }
   ],
   "source": [
    "\n",
    "top_developers_deom = steam_df.groupby(\"Developers\").agg({\n",
    "    \"DEOM\":\"sum\",\n",
    "    \"Positive\":\"sum\",\n",
    "    \"Negative\":\"sum\"\n",
    "}).reset_index().sort_values(\"DEOM\",ascending = False).head(10)\n",
    "top_developers_deom"
   ]
  },
  {
   "cell_type": "code",
   "execution_count": null,
   "metadata": {},
   "outputs": [
    {
     "data": {
      "application/vnd.plotly.v1+json": {
       "config": {
        "plotlyServerURL": "https://plot.ly"
       },
       "data": [
        {
         "name": "Positive",
         "type": "bar",
         "x": [
          "Choice of Games",
          "Creobit",
          "EroticGamesClub",
          "Laush Dmitriy Sergeevich",
          "Boogygames Studios",
          "KOEI TECMO GAMES CO., LTD.",
          "Hosted Games",
          "Sokpop Collective",
          "Reforged Group",
          "Elephant Games"
         ],
         "y": [
          6865,
          39845,
          0,
          2563,
          603,
          148003,
          3332,
          3201,
          251,
          1136
         ]
        },
        {
         "name": "Negative",
         "type": "bar",
         "x": [
          "Choice of Games",
          "Creobit",
          "EroticGamesClub",
          "Laush Dmitriy Sergeevich",
          "Boogygames Studios",
          "KOEI TECMO GAMES CO., LTD.",
          "Hosted Games",
          "Sokpop Collective",
          "Reforged Group",
          "Elephant Games"
         ],
         "y": [
          1106,
          24635,
          0,
          866,
          304,
          50306,
          528,
          611,
          359,
          529
         ]
        }
       ],
       "layout": {
        "barmode": "group",
        "template": {
         "data": {
          "bar": [
           {
            "error_x": {
             "color": "#2a3f5f"
            },
            "error_y": {
             "color": "#2a3f5f"
            },
            "marker": {
             "line": {
              "color": "#E5ECF6",
              "width": 0.5
             },
             "pattern": {
              "fillmode": "overlay",
              "size": 10,
              "solidity": 0.2
             }
            },
            "type": "bar"
           }
          ],
          "barpolar": [
           {
            "marker": {
             "line": {
              "color": "#E5ECF6",
              "width": 0.5
             },
             "pattern": {
              "fillmode": "overlay",
              "size": 10,
              "solidity": 0.2
             }
            },
            "type": "barpolar"
           }
          ],
          "carpet": [
           {
            "aaxis": {
             "endlinecolor": "#2a3f5f",
             "gridcolor": "white",
             "linecolor": "white",
             "minorgridcolor": "white",
             "startlinecolor": "#2a3f5f"
            },
            "baxis": {
             "endlinecolor": "#2a3f5f",
             "gridcolor": "white",
             "linecolor": "white",
             "minorgridcolor": "white",
             "startlinecolor": "#2a3f5f"
            },
            "type": "carpet"
           }
          ],
          "choropleth": [
           {
            "colorbar": {
             "outlinewidth": 0,
             "ticks": ""
            },
            "type": "choropleth"
           }
          ],
          "contour": [
           {
            "colorbar": {
             "outlinewidth": 0,
             "ticks": ""
            },
            "colorscale": [
             [
              0,
              "#0d0887"
             ],
             [
              0.1111111111111111,
              "#46039f"
             ],
             [
              0.2222222222222222,
              "#7201a8"
             ],
             [
              0.3333333333333333,
              "#9c179e"
             ],
             [
              0.4444444444444444,
              "#bd3786"
             ],
             [
              0.5555555555555556,
              "#d8576b"
             ],
             [
              0.6666666666666666,
              "#ed7953"
             ],
             [
              0.7777777777777778,
              "#fb9f3a"
             ],
             [
              0.8888888888888888,
              "#fdca26"
             ],
             [
              1,
              "#f0f921"
             ]
            ],
            "type": "contour"
           }
          ],
          "contourcarpet": [
           {
            "colorbar": {
             "outlinewidth": 0,
             "ticks": ""
            },
            "type": "contourcarpet"
           }
          ],
          "heatmap": [
           {
            "colorbar": {
             "outlinewidth": 0,
             "ticks": ""
            },
            "colorscale": [
             [
              0,
              "#0d0887"
             ],
             [
              0.1111111111111111,
              "#46039f"
             ],
             [
              0.2222222222222222,
              "#7201a8"
             ],
             [
              0.3333333333333333,
              "#9c179e"
             ],
             [
              0.4444444444444444,
              "#bd3786"
             ],
             [
              0.5555555555555556,
              "#d8576b"
             ],
             [
              0.6666666666666666,
              "#ed7953"
             ],
             [
              0.7777777777777778,
              "#fb9f3a"
             ],
             [
              0.8888888888888888,
              "#fdca26"
             ],
             [
              1,
              "#f0f921"
             ]
            ],
            "type": "heatmap"
           }
          ],
          "heatmapgl": [
           {
            "colorbar": {
             "outlinewidth": 0,
             "ticks": ""
            },
            "colorscale": [
             [
              0,
              "#0d0887"
             ],
             [
              0.1111111111111111,
              "#46039f"
             ],
             [
              0.2222222222222222,
              "#7201a8"
             ],
             [
              0.3333333333333333,
              "#9c179e"
             ],
             [
              0.4444444444444444,
              "#bd3786"
             ],
             [
              0.5555555555555556,
              "#d8576b"
             ],
             [
              0.6666666666666666,
              "#ed7953"
             ],
             [
              0.7777777777777778,
              "#fb9f3a"
             ],
             [
              0.8888888888888888,
              "#fdca26"
             ],
             [
              1,
              "#f0f921"
             ]
            ],
            "type": "heatmapgl"
           }
          ],
          "histogram": [
           {
            "marker": {
             "pattern": {
              "fillmode": "overlay",
              "size": 10,
              "solidity": 0.2
             }
            },
            "type": "histogram"
           }
          ],
          "histogram2d": [
           {
            "colorbar": {
             "outlinewidth": 0,
             "ticks": ""
            },
            "colorscale": [
             [
              0,
              "#0d0887"
             ],
             [
              0.1111111111111111,
              "#46039f"
             ],
             [
              0.2222222222222222,
              "#7201a8"
             ],
             [
              0.3333333333333333,
              "#9c179e"
             ],
             [
              0.4444444444444444,
              "#bd3786"
             ],
             [
              0.5555555555555556,
              "#d8576b"
             ],
             [
              0.6666666666666666,
              "#ed7953"
             ],
             [
              0.7777777777777778,
              "#fb9f3a"
             ],
             [
              0.8888888888888888,
              "#fdca26"
             ],
             [
              1,
              "#f0f921"
             ]
            ],
            "type": "histogram2d"
           }
          ],
          "histogram2dcontour": [
           {
            "colorbar": {
             "outlinewidth": 0,
             "ticks": ""
            },
            "colorscale": [
             [
              0,
              "#0d0887"
             ],
             [
              0.1111111111111111,
              "#46039f"
             ],
             [
              0.2222222222222222,
              "#7201a8"
             ],
             [
              0.3333333333333333,
              "#9c179e"
             ],
             [
              0.4444444444444444,
              "#bd3786"
             ],
             [
              0.5555555555555556,
              "#d8576b"
             ],
             [
              0.6666666666666666,
              "#ed7953"
             ],
             [
              0.7777777777777778,
              "#fb9f3a"
             ],
             [
              0.8888888888888888,
              "#fdca26"
             ],
             [
              1,
              "#f0f921"
             ]
            ],
            "type": "histogram2dcontour"
           }
          ],
          "mesh3d": [
           {
            "colorbar": {
             "outlinewidth": 0,
             "ticks": ""
            },
            "type": "mesh3d"
           }
          ],
          "parcoords": [
           {
            "line": {
             "colorbar": {
              "outlinewidth": 0,
              "ticks": ""
             }
            },
            "type": "parcoords"
           }
          ],
          "pie": [
           {
            "automargin": true,
            "type": "pie"
           }
          ],
          "scatter": [
           {
            "fillpattern": {
             "fillmode": "overlay",
             "size": 10,
             "solidity": 0.2
            },
            "type": "scatter"
           }
          ],
          "scatter3d": [
           {
            "line": {
             "colorbar": {
              "outlinewidth": 0,
              "ticks": ""
             }
            },
            "marker": {
             "colorbar": {
              "outlinewidth": 0,
              "ticks": ""
             }
            },
            "type": "scatter3d"
           }
          ],
          "scattercarpet": [
           {
            "marker": {
             "colorbar": {
              "outlinewidth": 0,
              "ticks": ""
             }
            },
            "type": "scattercarpet"
           }
          ],
          "scattergeo": [
           {
            "marker": {
             "colorbar": {
              "outlinewidth": 0,
              "ticks": ""
             }
            },
            "type": "scattergeo"
           }
          ],
          "scattergl": [
           {
            "marker": {
             "colorbar": {
              "outlinewidth": 0,
              "ticks": ""
             }
            },
            "type": "scattergl"
           }
          ],
          "scattermapbox": [
           {
            "marker": {
             "colorbar": {
              "outlinewidth": 0,
              "ticks": ""
             }
            },
            "type": "scattermapbox"
           }
          ],
          "scatterpolar": [
           {
            "marker": {
             "colorbar": {
              "outlinewidth": 0,
              "ticks": ""
             }
            },
            "type": "scatterpolar"
           }
          ],
          "scatterpolargl": [
           {
            "marker": {
             "colorbar": {
              "outlinewidth": 0,
              "ticks": ""
             }
            },
            "type": "scatterpolargl"
           }
          ],
          "scatterternary": [
           {
            "marker": {
             "colorbar": {
              "outlinewidth": 0,
              "ticks": ""
             }
            },
            "type": "scatterternary"
           }
          ],
          "surface": [
           {
            "colorbar": {
             "outlinewidth": 0,
             "ticks": ""
            },
            "colorscale": [
             [
              0,
              "#0d0887"
             ],
             [
              0.1111111111111111,
              "#46039f"
             ],
             [
              0.2222222222222222,
              "#7201a8"
             ],
             [
              0.3333333333333333,
              "#9c179e"
             ],
             [
              0.4444444444444444,
              "#bd3786"
             ],
             [
              0.5555555555555556,
              "#d8576b"
             ],
             [
              0.6666666666666666,
              "#ed7953"
             ],
             [
              0.7777777777777778,
              "#fb9f3a"
             ],
             [
              0.8888888888888888,
              "#fdca26"
             ],
             [
              1,
              "#f0f921"
             ]
            ],
            "type": "surface"
           }
          ],
          "table": [
           {
            "cells": {
             "fill": {
              "color": "#EBF0F8"
             },
             "line": {
              "color": "white"
             }
            },
            "header": {
             "fill": {
              "color": "#C8D4E3"
             },
             "line": {
              "color": "white"
             }
            },
            "type": "table"
           }
          ]
         },
         "layout": {
          "annotationdefaults": {
           "arrowcolor": "#2a3f5f",
           "arrowhead": 0,
           "arrowwidth": 1
          },
          "autotypenumbers": "strict",
          "coloraxis": {
           "colorbar": {
            "outlinewidth": 0,
            "ticks": ""
           }
          },
          "colorscale": {
           "diverging": [
            [
             0,
             "#8e0152"
            ],
            [
             0.1,
             "#c51b7d"
            ],
            [
             0.2,
             "#de77ae"
            ],
            [
             0.3,
             "#f1b6da"
            ],
            [
             0.4,
             "#fde0ef"
            ],
            [
             0.5,
             "#f7f7f7"
            ],
            [
             0.6,
             "#e6f5d0"
            ],
            [
             0.7,
             "#b8e186"
            ],
            [
             0.8,
             "#7fbc41"
            ],
            [
             0.9,
             "#4d9221"
            ],
            [
             1,
             "#276419"
            ]
           ],
           "sequential": [
            [
             0,
             "#0d0887"
            ],
            [
             0.1111111111111111,
             "#46039f"
            ],
            [
             0.2222222222222222,
             "#7201a8"
            ],
            [
             0.3333333333333333,
             "#9c179e"
            ],
            [
             0.4444444444444444,
             "#bd3786"
            ],
            [
             0.5555555555555556,
             "#d8576b"
            ],
            [
             0.6666666666666666,
             "#ed7953"
            ],
            [
             0.7777777777777778,
             "#fb9f3a"
            ],
            [
             0.8888888888888888,
             "#fdca26"
            ],
            [
             1,
             "#f0f921"
            ]
           ],
           "sequentialminus": [
            [
             0,
             "#0d0887"
            ],
            [
             0.1111111111111111,
             "#46039f"
            ],
            [
             0.2222222222222222,
             "#7201a8"
            ],
            [
             0.3333333333333333,
             "#9c179e"
            ],
            [
             0.4444444444444444,
             "#bd3786"
            ],
            [
             0.5555555555555556,
             "#d8576b"
            ],
            [
             0.6666666666666666,
             "#ed7953"
            ],
            [
             0.7777777777777778,
             "#fb9f3a"
            ],
            [
             0.8888888888888888,
             "#fdca26"
            ],
            [
             1,
             "#f0f921"
            ]
           ]
          },
          "colorway": [
           "#636efa",
           "#EF553B",
           "#00cc96",
           "#ab63fa",
           "#FFA15A",
           "#19d3f3",
           "#FF6692",
           "#B6E880",
           "#FF97FF",
           "#FECB52"
          ],
          "font": {
           "color": "#2a3f5f"
          },
          "geo": {
           "bgcolor": "white",
           "lakecolor": "white",
           "landcolor": "#E5ECF6",
           "showlakes": true,
           "showland": true,
           "subunitcolor": "white"
          },
          "hoverlabel": {
           "align": "left"
          },
          "hovermode": "closest",
          "mapbox": {
           "style": "light"
          },
          "paper_bgcolor": "white",
          "plot_bgcolor": "#E5ECF6",
          "polar": {
           "angularaxis": {
            "gridcolor": "white",
            "linecolor": "white",
            "ticks": ""
           },
           "bgcolor": "#E5ECF6",
           "radialaxis": {
            "gridcolor": "white",
            "linecolor": "white",
            "ticks": ""
           }
          },
          "scene": {
           "xaxis": {
            "backgroundcolor": "#E5ECF6",
            "gridcolor": "white",
            "gridwidth": 2,
            "linecolor": "white",
            "showbackground": true,
            "ticks": "",
            "zerolinecolor": "white"
           },
           "yaxis": {
            "backgroundcolor": "#E5ECF6",
            "gridcolor": "white",
            "gridwidth": 2,
            "linecolor": "white",
            "showbackground": true,
            "ticks": "",
            "zerolinecolor": "white"
           },
           "zaxis": {
            "backgroundcolor": "#E5ECF6",
            "gridcolor": "white",
            "gridwidth": 2,
            "linecolor": "white",
            "showbackground": true,
            "ticks": "",
            "zerolinecolor": "white"
           }
          },
          "shapedefaults": {
           "line": {
            "color": "#2a3f5f"
           }
          },
          "ternary": {
           "aaxis": {
            "gridcolor": "white",
            "linecolor": "white",
            "ticks": ""
           },
           "baxis": {
            "gridcolor": "white",
            "linecolor": "white",
            "ticks": ""
           },
           "bgcolor": "#E5ECF6",
           "caxis": {
            "gridcolor": "white",
            "linecolor": "white",
            "ticks": ""
           }
          },
          "title": {
           "x": 0.05
          },
          "xaxis": {
           "automargin": true,
           "gridcolor": "white",
           "linecolor": "white",
           "ticks": "",
           "title": {
            "standoff": 15
           },
           "zerolinecolor": "white",
           "zerolinewidth": 2
          },
          "yaxis": {
           "automargin": true,
           "gridcolor": "white",
           "linecolor": "white",
           "ticks": "",
           "title": {
            "standoff": 15
           },
           "zerolinecolor": "white",
           "zerolinewidth": 2
          }
         }
        },
        "title": {
         "text": "Developers that have top downloads with their positive and negative ratings"
        },
        "xaxis": {
         "title": {
          "text": "Top developers"
         }
        },
        "yaxis": {
         "title": {
          "text": "Ratings"
         }
        }
       }
      }
     },
     "metadata": {},
     "output_type": "display_data"
    }
   ],
   "source": [
    "games_with_ratings = go.Figure(data=[\n",
    "    go.Bar(name='Positive', x=top_developers_deom[\"Developers\"], y=top_developers_deom[\"Positive\"]),\n",
    "    go.Bar(name='Negative', x=top_developers_deom[\"Developers\"], y=top_developers_deom[\"Negative\"])\n",
    "])\n",
    "\n",
    "games_with_ratings.update_layout(barmode='group',\n",
    "    title_text='Developers that have top downloads with their positive and negative ratings',\n",
    "    xaxis_title=\"Top developers\",\n",
    "    yaxis_title=\"Ratings\")\n",
    "games_with_ratings.show()"
   ]
  },
  {
   "cell_type": "code",
   "execution_count": null,
   "metadata": {},
   "outputs": [
    {
     "data": {
      "text/html": [
       "<div>\n",
       "<style scoped>\n",
       "    .dataframe tbody tr th:only-of-type {\n",
       "        vertical-align: middle;\n",
       "    }\n",
       "\n",
       "    .dataframe tbody tr th {\n",
       "        vertical-align: top;\n",
       "    }\n",
       "\n",
       "    .dataframe thead th {\n",
       "        text-align: right;\n",
       "    }\n",
       "</style>\n",
       "<table border=\"1\" class=\"dataframe\">\n",
       "  <thead>\n",
       "    <tr style=\"text-align: right;\">\n",
       "      <th></th>\n",
       "      <th>Publishers</th>\n",
       "      <th>DEOM</th>\n",
       "    </tr>\n",
       "  </thead>\n",
       "  <tbody>\n",
       "    <tr>\n",
       "      <th>4700</th>\n",
       "      <td>Big Fish Games</td>\n",
       "      <td>3580.472308</td>\n",
       "    </tr>\n",
       "    <tr>\n",
       "      <th>624</th>\n",
       "      <td>8floor</td>\n",
       "      <td>1866.853953</td>\n",
       "    </tr>\n",
       "    <tr>\n",
       "      <th>34062</th>\n",
       "      <td>SEGA</td>\n",
       "      <td>1465.697630</td>\n",
       "    </tr>\n",
       "    <tr>\n",
       "      <th>37036</th>\n",
       "      <td>Square Enix</td>\n",
       "      <td>1459.028081</td>\n",
       "    </tr>\n",
       "    <tr>\n",
       "      <th>41381</th>\n",
       "      <td>Ubisoft</td>\n",
       "      <td>1315.009075</td>\n",
       "    </tr>\n",
       "    <tr>\n",
       "      <th>37562</th>\n",
       "      <td>Strategy First</td>\n",
       "      <td>1276.174157</td>\n",
       "    </tr>\n",
       "    <tr>\n",
       "      <th>16728</th>\n",
       "      <td>HH-Games</td>\n",
       "      <td>1258.966958</td>\n",
       "    </tr>\n",
       "    <tr>\n",
       "      <th>38542</th>\n",
       "      <td>THQ Nordic</td>\n",
       "      <td>1197.095197</td>\n",
       "    </tr>\n",
       "    <tr>\n",
       "      <th>35042</th>\n",
       "      <td>Sekai Project</td>\n",
       "      <td>1186.012511</td>\n",
       "    </tr>\n",
       "    <tr>\n",
       "      <th>11894</th>\n",
       "      <td>Electronic Arts</td>\n",
       "      <td>1167.346015</td>\n",
       "    </tr>\n",
       "  </tbody>\n",
       "</table>\n",
       "</div>"
      ],
      "text/plain": [
       "            Publishers         DEOM\n",
       "4700    Big Fish Games  3580.472308\n",
       "624             8floor  1866.853953\n",
       "34062             SEGA  1465.697630\n",
       "37036      Square Enix  1459.028081\n",
       "41381          Ubisoft  1315.009075\n",
       "37562   Strategy First  1276.174157\n",
       "16728         HH-Games  1258.966958\n",
       "38542       THQ Nordic  1197.095197\n",
       "35042    Sekai Project  1186.012511\n",
       "11894  Electronic Arts  1167.346015"
      ]
     },
     "metadata": {},
     "output_type": "display_data"
    }
   ],
   "source": [
    "top_publishers_deom = steam_df.groupby(\"Publishers\").agg({\n",
    "    \"DEOM\":\"sum\"\n",
    "}).reset_index().sort_values(\"DEOM\",ascending = False).head(10)\n",
    "top_publishers_deom"
   ]
  },
  {
   "cell_type": "code",
   "execution_count": null,
   "metadata": {},
   "outputs": [
    {
     "data": {
      "application/vnd.plotly.v1+json": {
       "config": {
        "plotlyServerURL": "https://plot.ly"
       },
       "data": [
        {
         "alignmentgroup": "True",
         "hovertemplate": "Publishers=%{x}<br>Total downloads=%{y}<extra></extra>",
         "legendgroup": "",
         "marker": {
          "color": "#636efa",
          "pattern": {
           "shape": ""
          }
         },
         "name": "",
         "offsetgroup": "",
         "orientation": "v",
         "showlegend": false,
         "textposition": "auto",
         "type": "bar",
         "x": [
          "Big Fish Games",
          "8floor",
          "SEGA",
          "Square Enix",
          "Ubisoft",
          "Strategy First",
          "HH-Games",
          "THQ Nordic",
          "Sekai Project",
          "Electronic Arts"
         ],
         "xaxis": "x",
         "y": [
          3580.472308330692,
          1866.8539532424966,
          1465.6976297224987,
          1459.0280810488505,
          1315.0090745482466,
          1276.1741568577122,
          1258.9669576763592,
          1197.0951972900157,
          1186.01251083863,
          1167.3460153794738
         ],
         "yaxis": "y"
        }
       ],
       "layout": {
        "barmode": "relative",
        "legend": {
         "tracegroupgap": 0
        },
        "template": {
         "data": {
          "bar": [
           {
            "error_x": {
             "color": "#2a3f5f"
            },
            "error_y": {
             "color": "#2a3f5f"
            },
            "marker": {
             "line": {
              "color": "#E5ECF6",
              "width": 0.5
             },
             "pattern": {
              "fillmode": "overlay",
              "size": 10,
              "solidity": 0.2
             }
            },
            "type": "bar"
           }
          ],
          "barpolar": [
           {
            "marker": {
             "line": {
              "color": "#E5ECF6",
              "width": 0.5
             },
             "pattern": {
              "fillmode": "overlay",
              "size": 10,
              "solidity": 0.2
             }
            },
            "type": "barpolar"
           }
          ],
          "carpet": [
           {
            "aaxis": {
             "endlinecolor": "#2a3f5f",
             "gridcolor": "white",
             "linecolor": "white",
             "minorgridcolor": "white",
             "startlinecolor": "#2a3f5f"
            },
            "baxis": {
             "endlinecolor": "#2a3f5f",
             "gridcolor": "white",
             "linecolor": "white",
             "minorgridcolor": "white",
             "startlinecolor": "#2a3f5f"
            },
            "type": "carpet"
           }
          ],
          "choropleth": [
           {
            "colorbar": {
             "outlinewidth": 0,
             "ticks": ""
            },
            "type": "choropleth"
           }
          ],
          "contour": [
           {
            "colorbar": {
             "outlinewidth": 0,
             "ticks": ""
            },
            "colorscale": [
             [
              0,
              "#0d0887"
             ],
             [
              0.1111111111111111,
              "#46039f"
             ],
             [
              0.2222222222222222,
              "#7201a8"
             ],
             [
              0.3333333333333333,
              "#9c179e"
             ],
             [
              0.4444444444444444,
              "#bd3786"
             ],
             [
              0.5555555555555556,
              "#d8576b"
             ],
             [
              0.6666666666666666,
              "#ed7953"
             ],
             [
              0.7777777777777778,
              "#fb9f3a"
             ],
             [
              0.8888888888888888,
              "#fdca26"
             ],
             [
              1,
              "#f0f921"
             ]
            ],
            "type": "contour"
           }
          ],
          "contourcarpet": [
           {
            "colorbar": {
             "outlinewidth": 0,
             "ticks": ""
            },
            "type": "contourcarpet"
           }
          ],
          "heatmap": [
           {
            "colorbar": {
             "outlinewidth": 0,
             "ticks": ""
            },
            "colorscale": [
             [
              0,
              "#0d0887"
             ],
             [
              0.1111111111111111,
              "#46039f"
             ],
             [
              0.2222222222222222,
              "#7201a8"
             ],
             [
              0.3333333333333333,
              "#9c179e"
             ],
             [
              0.4444444444444444,
              "#bd3786"
             ],
             [
              0.5555555555555556,
              "#d8576b"
             ],
             [
              0.6666666666666666,
              "#ed7953"
             ],
             [
              0.7777777777777778,
              "#fb9f3a"
             ],
             [
              0.8888888888888888,
              "#fdca26"
             ],
             [
              1,
              "#f0f921"
             ]
            ],
            "type": "heatmap"
           }
          ],
          "heatmapgl": [
           {
            "colorbar": {
             "outlinewidth": 0,
             "ticks": ""
            },
            "colorscale": [
             [
              0,
              "#0d0887"
             ],
             [
              0.1111111111111111,
              "#46039f"
             ],
             [
              0.2222222222222222,
              "#7201a8"
             ],
             [
              0.3333333333333333,
              "#9c179e"
             ],
             [
              0.4444444444444444,
              "#bd3786"
             ],
             [
              0.5555555555555556,
              "#d8576b"
             ],
             [
              0.6666666666666666,
              "#ed7953"
             ],
             [
              0.7777777777777778,
              "#fb9f3a"
             ],
             [
              0.8888888888888888,
              "#fdca26"
             ],
             [
              1,
              "#f0f921"
             ]
            ],
            "type": "heatmapgl"
           }
          ],
          "histogram": [
           {
            "marker": {
             "pattern": {
              "fillmode": "overlay",
              "size": 10,
              "solidity": 0.2
             }
            },
            "type": "histogram"
           }
          ],
          "histogram2d": [
           {
            "colorbar": {
             "outlinewidth": 0,
             "ticks": ""
            },
            "colorscale": [
             [
              0,
              "#0d0887"
             ],
             [
              0.1111111111111111,
              "#46039f"
             ],
             [
              0.2222222222222222,
              "#7201a8"
             ],
             [
              0.3333333333333333,
              "#9c179e"
             ],
             [
              0.4444444444444444,
              "#bd3786"
             ],
             [
              0.5555555555555556,
              "#d8576b"
             ],
             [
              0.6666666666666666,
              "#ed7953"
             ],
             [
              0.7777777777777778,
              "#fb9f3a"
             ],
             [
              0.8888888888888888,
              "#fdca26"
             ],
             [
              1,
              "#f0f921"
             ]
            ],
            "type": "histogram2d"
           }
          ],
          "histogram2dcontour": [
           {
            "colorbar": {
             "outlinewidth": 0,
             "ticks": ""
            },
            "colorscale": [
             [
              0,
              "#0d0887"
             ],
             [
              0.1111111111111111,
              "#46039f"
             ],
             [
              0.2222222222222222,
              "#7201a8"
             ],
             [
              0.3333333333333333,
              "#9c179e"
             ],
             [
              0.4444444444444444,
              "#bd3786"
             ],
             [
              0.5555555555555556,
              "#d8576b"
             ],
             [
              0.6666666666666666,
              "#ed7953"
             ],
             [
              0.7777777777777778,
              "#fb9f3a"
             ],
             [
              0.8888888888888888,
              "#fdca26"
             ],
             [
              1,
              "#f0f921"
             ]
            ],
            "type": "histogram2dcontour"
           }
          ],
          "mesh3d": [
           {
            "colorbar": {
             "outlinewidth": 0,
             "ticks": ""
            },
            "type": "mesh3d"
           }
          ],
          "parcoords": [
           {
            "line": {
             "colorbar": {
              "outlinewidth": 0,
              "ticks": ""
             }
            },
            "type": "parcoords"
           }
          ],
          "pie": [
           {
            "automargin": true,
            "type": "pie"
           }
          ],
          "scatter": [
           {
            "fillpattern": {
             "fillmode": "overlay",
             "size": 10,
             "solidity": 0.2
            },
            "type": "scatter"
           }
          ],
          "scatter3d": [
           {
            "line": {
             "colorbar": {
              "outlinewidth": 0,
              "ticks": ""
             }
            },
            "marker": {
             "colorbar": {
              "outlinewidth": 0,
              "ticks": ""
             }
            },
            "type": "scatter3d"
           }
          ],
          "scattercarpet": [
           {
            "marker": {
             "colorbar": {
              "outlinewidth": 0,
              "ticks": ""
             }
            },
            "type": "scattercarpet"
           }
          ],
          "scattergeo": [
           {
            "marker": {
             "colorbar": {
              "outlinewidth": 0,
              "ticks": ""
             }
            },
            "type": "scattergeo"
           }
          ],
          "scattergl": [
           {
            "marker": {
             "colorbar": {
              "outlinewidth": 0,
              "ticks": ""
             }
            },
            "type": "scattergl"
           }
          ],
          "scattermapbox": [
           {
            "marker": {
             "colorbar": {
              "outlinewidth": 0,
              "ticks": ""
             }
            },
            "type": "scattermapbox"
           }
          ],
          "scatterpolar": [
           {
            "marker": {
             "colorbar": {
              "outlinewidth": 0,
              "ticks": ""
             }
            },
            "type": "scatterpolar"
           }
          ],
          "scatterpolargl": [
           {
            "marker": {
             "colorbar": {
              "outlinewidth": 0,
              "ticks": ""
             }
            },
            "type": "scatterpolargl"
           }
          ],
          "scatterternary": [
           {
            "marker": {
             "colorbar": {
              "outlinewidth": 0,
              "ticks": ""
             }
            },
            "type": "scatterternary"
           }
          ],
          "surface": [
           {
            "colorbar": {
             "outlinewidth": 0,
             "ticks": ""
            },
            "colorscale": [
             [
              0,
              "#0d0887"
             ],
             [
              0.1111111111111111,
              "#46039f"
             ],
             [
              0.2222222222222222,
              "#7201a8"
             ],
             [
              0.3333333333333333,
              "#9c179e"
             ],
             [
              0.4444444444444444,
              "#bd3786"
             ],
             [
              0.5555555555555556,
              "#d8576b"
             ],
             [
              0.6666666666666666,
              "#ed7953"
             ],
             [
              0.7777777777777778,
              "#fb9f3a"
             ],
             [
              0.8888888888888888,
              "#fdca26"
             ],
             [
              1,
              "#f0f921"
             ]
            ],
            "type": "surface"
           }
          ],
          "table": [
           {
            "cells": {
             "fill": {
              "color": "#EBF0F8"
             },
             "line": {
              "color": "white"
             }
            },
            "header": {
             "fill": {
              "color": "#C8D4E3"
             },
             "line": {
              "color": "white"
             }
            },
            "type": "table"
           }
          ]
         },
         "layout": {
          "annotationdefaults": {
           "arrowcolor": "#2a3f5f",
           "arrowhead": 0,
           "arrowwidth": 1
          },
          "autotypenumbers": "strict",
          "coloraxis": {
           "colorbar": {
            "outlinewidth": 0,
            "ticks": ""
           }
          },
          "colorscale": {
           "diverging": [
            [
             0,
             "#8e0152"
            ],
            [
             0.1,
             "#c51b7d"
            ],
            [
             0.2,
             "#de77ae"
            ],
            [
             0.3,
             "#f1b6da"
            ],
            [
             0.4,
             "#fde0ef"
            ],
            [
             0.5,
             "#f7f7f7"
            ],
            [
             0.6,
             "#e6f5d0"
            ],
            [
             0.7,
             "#b8e186"
            ],
            [
             0.8,
             "#7fbc41"
            ],
            [
             0.9,
             "#4d9221"
            ],
            [
             1,
             "#276419"
            ]
           ],
           "sequential": [
            [
             0,
             "#0d0887"
            ],
            [
             0.1111111111111111,
             "#46039f"
            ],
            [
             0.2222222222222222,
             "#7201a8"
            ],
            [
             0.3333333333333333,
             "#9c179e"
            ],
            [
             0.4444444444444444,
             "#bd3786"
            ],
            [
             0.5555555555555556,
             "#d8576b"
            ],
            [
             0.6666666666666666,
             "#ed7953"
            ],
            [
             0.7777777777777778,
             "#fb9f3a"
            ],
            [
             0.8888888888888888,
             "#fdca26"
            ],
            [
             1,
             "#f0f921"
            ]
           ],
           "sequentialminus": [
            [
             0,
             "#0d0887"
            ],
            [
             0.1111111111111111,
             "#46039f"
            ],
            [
             0.2222222222222222,
             "#7201a8"
            ],
            [
             0.3333333333333333,
             "#9c179e"
            ],
            [
             0.4444444444444444,
             "#bd3786"
            ],
            [
             0.5555555555555556,
             "#d8576b"
            ],
            [
             0.6666666666666666,
             "#ed7953"
            ],
            [
             0.7777777777777778,
             "#fb9f3a"
            ],
            [
             0.8888888888888888,
             "#fdca26"
            ],
            [
             1,
             "#f0f921"
            ]
           ]
          },
          "colorway": [
           "#636efa",
           "#EF553B",
           "#00cc96",
           "#ab63fa",
           "#FFA15A",
           "#19d3f3",
           "#FF6692",
           "#B6E880",
           "#FF97FF",
           "#FECB52"
          ],
          "font": {
           "color": "#2a3f5f"
          },
          "geo": {
           "bgcolor": "white",
           "lakecolor": "white",
           "landcolor": "#E5ECF6",
           "showlakes": true,
           "showland": true,
           "subunitcolor": "white"
          },
          "hoverlabel": {
           "align": "left"
          },
          "hovermode": "closest",
          "mapbox": {
           "style": "light"
          },
          "paper_bgcolor": "white",
          "plot_bgcolor": "#E5ECF6",
          "polar": {
           "angularaxis": {
            "gridcolor": "white",
            "linecolor": "white",
            "ticks": ""
           },
           "bgcolor": "#E5ECF6",
           "radialaxis": {
            "gridcolor": "white",
            "linecolor": "white",
            "ticks": ""
           }
          },
          "scene": {
           "xaxis": {
            "backgroundcolor": "#E5ECF6",
            "gridcolor": "white",
            "gridwidth": 2,
            "linecolor": "white",
            "showbackground": true,
            "ticks": "",
            "zerolinecolor": "white"
           },
           "yaxis": {
            "backgroundcolor": "#E5ECF6",
            "gridcolor": "white",
            "gridwidth": 2,
            "linecolor": "white",
            "showbackground": true,
            "ticks": "",
            "zerolinecolor": "white"
           },
           "zaxis": {
            "backgroundcolor": "#E5ECF6",
            "gridcolor": "white",
            "gridwidth": 2,
            "linecolor": "white",
            "showbackground": true,
            "ticks": "",
            "zerolinecolor": "white"
           }
          },
          "shapedefaults": {
           "line": {
            "color": "#2a3f5f"
           }
          },
          "ternary": {
           "aaxis": {
            "gridcolor": "white",
            "linecolor": "white",
            "ticks": ""
           },
           "baxis": {
            "gridcolor": "white",
            "linecolor": "white",
            "ticks": ""
           },
           "bgcolor": "#E5ECF6",
           "caxis": {
            "gridcolor": "white",
            "linecolor": "white",
            "ticks": ""
           }
          },
          "title": {
           "x": 0.05
          },
          "xaxis": {
           "automargin": true,
           "gridcolor": "white",
           "linecolor": "white",
           "ticks": "",
           "title": {
            "standoff": 15
           },
           "zerolinecolor": "white",
           "zerolinewidth": 2
          },
          "yaxis": {
           "automargin": true,
           "gridcolor": "white",
           "linecolor": "white",
           "ticks": "",
           "title": {
            "standoff": 15
           },
           "zerolinecolor": "white",
           "zerolinewidth": 2
          }
         }
        },
        "title": {
         "text": "Puplishers that have Top DEOM"
        },
        "xaxis": {
         "anchor": "y",
         "domain": [
          0,
          1
         ],
         "title": {
          "text": "Publishers"
         }
        },
        "yaxis": {
         "anchor": "x",
         "domain": [
          0,
          1
         ],
         "title": {
          "text": "Total downloads"
         }
        }
       }
      }
     },
     "metadata": {},
     "output_type": "display_data"
    }
   ],
   "source": [
    "top_publishers_deom_graph = px.bar(top_publishers_deom, y='DEOM', x='Publishers', title='Puplishers that have Top DEOM',\n",
    "  labels={ \"DEOM\": \"Total downloads\",})\n",
    "top_publishers_deom_graph.show()"
   ]
  },
  {
   "cell_type": "code",
   "execution_count": null,
   "metadata": {},
   "outputs": [],
   "source": [
    "def encode_features(df, column_name, selected_values):\n",
    "    for value in selected_values:\n",
    "        new_col_name = f\"{column_name}_{value.replace(' ', '_')}\" \n",
    "        df[new_col_name] = df[column_name].apply(lambda x: 1 if value in x else 0)"
   ]
  },
  {
   "cell_type": "code",
   "execution_count": null,
   "metadata": {},
   "outputs": [],
   "source": [
    "selected_publishers = [\"Valve\",\"Ubisoft\", \"Electronic Arts\", \"Bethesda Softworks\",\"Xbox Game Studios\"]\n",
    "selected_developers = [\"Valve\", \"Facepunch Studios\",\"Ubisoft Montreal\", \"Amazon Games\",\"Respawn Entertainment\"]"
   ]
  },
  {
   "cell_type": "code",
   "execution_count": null,
   "metadata": {},
   "outputs": [],
   "source": [
    "encode_features(steam_df, 'Developers', selected_developers)\n",
    "encode_features(steam_df, 'Publishers', selected_publishers)"
   ]
  },
  {
   "cell_type": "code",
   "execution_count": null,
   "metadata": {},
   "outputs": [],
   "source": [
    "encode_features(steam_df, 'Categories', selected_categories)\n",
    "encode_features(steam_df, 'Genres', selected_genres)\n",
    "encode_features(steam_df, 'Tags', selected_tags)"
   ]
  },
  {
   "cell_type": "code",
   "execution_count": null,
   "metadata": {},
   "outputs": [],
   "source": [
    "steam_df = steam_df.drop(\n",
    "    columns= [\"Name\", \"Supported languages\", \"Categories\", \"Genres\", \"Tags\",\"Developers\",\"Genres\", \"Publishers\", \"Release date\"])"
   ]
  },
  {
   "cell_type": "code",
   "execution_count": null,
   "metadata": {},
   "outputs": [
    {
     "name": "stdout",
     "output_type": "stream",
     "text": [
      "<class 'pandas.core.frame.DataFrame'>\n",
      "Index: 91145 entries, 0 to 92749\n",
      "Data columns (total 53 columns):\n",
      " #   Column                              Non-Null Count  Dtype  \n",
      "---  ------                              --------------  -----  \n",
      " 0   Peak CCU                            91145 non-null  int64  \n",
      " 1   Required age                        91145 non-null  int64  \n",
      " 2   Price                               91145 non-null  float64\n",
      " 3   DLC count                           91145 non-null  int64  \n",
      " 4   Windows                             91145 non-null  int64  \n",
      " 5   Mac                                 91145 non-null  int64  \n",
      " 6   Linux                               91145 non-null  int64  \n",
      " 7   Metacritic score                    91145 non-null  int64  \n",
      " 8   User score                          91145 non-null  int64  \n",
      " 9   Positive                            91145 non-null  int64  \n",
      " 10  Negative                            91145 non-null  int64  \n",
      " 11  Achievements                        91145 non-null  int64  \n",
      " 12  Recommendations                     91145 non-null  int64  \n",
      " 13  Average playtime forever            91145 non-null  int64  \n",
      " 14  Average playtime two weeks          91145 non-null  int64  \n",
      " 15  Median playtime forever             91145 non-null  int64  \n",
      " 16  Median playtime two weeks           91145 non-null  int64  \n",
      " 17  DEOM                                91145 non-null  float64\n",
      " 18  Game support                        91145 non-null  int64  \n",
      " 19  Game media                          91145 non-null  int64  \n",
      " 20  Num Supported languages             91145 non-null  int64  \n",
      " 21  Developers_Valve                    91145 non-null  int64  \n",
      " 22  Developers_Facepunch_Studios        91145 non-null  int64  \n",
      " 23  Developers_Ubisoft_Montreal         91145 non-null  int64  \n",
      " 24  Developers_Amazon_Games             91145 non-null  int64  \n",
      " 25  Developers_Respawn_Entertainment    91145 non-null  int64  \n",
      " 26  Publishers_Valve                    91145 non-null  int64  \n",
      " 27  Publishers_Ubisoft                  91145 non-null  int64  \n",
      " 28  Publishers_Electronic_Arts          91145 non-null  int64  \n",
      " 29  Publishers_Bethesda_Softworks       91145 non-null  int64  \n",
      " 30  Publishers_Xbox_Game_Studios        91145 non-null  int64  \n",
      " 31  Categories_Single-player            91145 non-null  int64  \n",
      " 32  Categories_Multi-player             91145 non-null  int64  \n",
      " 33  Categories_PvP                      91145 non-null  int64  \n",
      " 34  Categories_Full_controller_support  91145 non-null  int64  \n",
      " 35  Categories_Co-op                    91145 non-null  int64  \n",
      " 36  Categories_Steam_Workshop           91145 non-null  int64  \n",
      " 37  Categories_Family_Sharing           91145 non-null  int64  \n",
      " 38  Genres_Indie                        91145 non-null  int64  \n",
      " 39  Genres_Casual                       91145 non-null  int64  \n",
      " 40  Genres_Action                       91145 non-null  int64  \n",
      " 41  Genres_Adventure                    91145 non-null  int64  \n",
      " 42  Genres_Simulation                   91145 non-null  int64  \n",
      " 43  Genres_Strategy                     91145 non-null  int64  \n",
      " 44  Genres_RPG                          91145 non-null  int64  \n",
      " 45  Genres_Free_to_play                 91145 non-null  int64  \n",
      " 46  Genres_Sports                       91145 non-null  int64  \n",
      " 47  Tags_Untagged                       91145 non-null  int64  \n",
      " 48  Tags_2D                             91145 non-null  int64  \n",
      " 49  Tags_Puzzle                         91145 non-null  int64  \n",
      " 50  Tags_Atmospheric                    91145 non-null  int64  \n",
      " 51  Tags_3D                             91145 non-null  int64  \n",
      " 52  Tags_Early_Access                   91145 non-null  int64  \n",
      "dtypes: float64(2), int64(51)\n",
      "memory usage: 39.6 MB\n"
     ]
    }
   ],
   "source": [
    "steam_df.info()"
   ]
  },
  {
   "cell_type": "code",
   "execution_count": null,
   "metadata": {},
   "outputs": [],
   "source": [
    "steam_df.to_csv('steam_cleaned.csv')"
   ]
  }
 ],
 "metadata": {
  "kernelspec": {
   "display_name": "base",
   "language": "python",
   "name": "python3"
  },
  "language_info": {
   "name": "python",
   "version": "3.12.4"
  }
 },
 "nbformat": 4,
 "nbformat_minor": 2
}
