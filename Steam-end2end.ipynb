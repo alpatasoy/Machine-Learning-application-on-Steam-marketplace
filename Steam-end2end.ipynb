{
 "cells": [
  {
   "cell_type": "code",
   "execution_count": 1,
   "metadata": {},
   "outputs": [],
   "source": [
    "import numpy as np\n",
    "import pandas as pd\n",
    "from datetime import datetime\n",
    "import matplotlib.pyplot as plt\n",
    "from collections import Counter\n",
    "import plotly.graph_objects as go\n",
    "import plotly.express as px\n",
    "import ast\n",
    "from sklearn.model_selection import train_test_split\n",
    "from sklearn.preprocessing import MinMaxScaler\n",
    "from sklearn.linear_model import LinearRegression, Ridge, Lasso\n",
    "from sklearn.ensemble import RandomForestRegressor, GradientBoostingRegressor\n",
    "from sklearn.metrics import r2_score, mean_squared_error, mean_absolute_percentage_error\n",
    "from sklearn.model_selection import cross_val_score, GridSearchCV"
   ]
  },
  {
   "cell_type": "code",
   "execution_count": 3,
   "metadata": {},
   "outputs": [
    {
     "data": {
      "text/html": [
       "<div>\n",
       "<style scoped>\n",
       "    .dataframe tbody tr th:only-of-type {\n",
       "        vertical-align: middle;\n",
       "    }\n",
       "\n",
       "    .dataframe tbody tr th {\n",
       "        vertical-align: top;\n",
       "    }\n",
       "\n",
       "    .dataframe thead th {\n",
       "        text-align: right;\n",
       "    }\n",
       "</style>\n",
       "<table border=\"1\" class=\"dataframe\">\n",
       "  <thead>\n",
       "    <tr style=\"text-align: right;\">\n",
       "      <th></th>\n",
       "      <th>Unnamed: 0</th>\n",
       "      <th>Peak CCU</th>\n",
       "      <th>Required age</th>\n",
       "      <th>Price</th>\n",
       "      <th>DLC count</th>\n",
       "      <th>Windows</th>\n",
       "      <th>Mac</th>\n",
       "      <th>Linux</th>\n",
       "      <th>Metacritic score</th>\n",
       "      <th>User score</th>\n",
       "      <th>...</th>\n",
       "      <th>Genres_Strategy</th>\n",
       "      <th>Genres_RPG</th>\n",
       "      <th>Genres_Free_to_play</th>\n",
       "      <th>Genres_Sports</th>\n",
       "      <th>Tags_Untagged</th>\n",
       "      <th>Tags_2D</th>\n",
       "      <th>Tags_Puzzle</th>\n",
       "      <th>Tags_Atmospheric</th>\n",
       "      <th>Tags_3D</th>\n",
       "      <th>Tags_Early_Access</th>\n",
       "    </tr>\n",
       "  </thead>\n",
       "  <tbody>\n",
       "    <tr>\n",
       "      <th>0</th>\n",
       "      <td>0</td>\n",
       "      <td>0</td>\n",
       "      <td>0</td>\n",
       "      <td>19.99</td>\n",
       "      <td>0</td>\n",
       "      <td>1</td>\n",
       "      <td>0</td>\n",
       "      <td>0</td>\n",
       "      <td>0</td>\n",
       "      <td>0</td>\n",
       "      <td>...</td>\n",
       "      <td>0</td>\n",
       "      <td>0</td>\n",
       "      <td>0</td>\n",
       "      <td>1</td>\n",
       "      <td>0</td>\n",
       "      <td>0</td>\n",
       "      <td>0</td>\n",
       "      <td>0</td>\n",
       "      <td>0</td>\n",
       "      <td>0</td>\n",
       "    </tr>\n",
       "    <tr>\n",
       "      <th>1</th>\n",
       "      <td>1</td>\n",
       "      <td>0</td>\n",
       "      <td>0</td>\n",
       "      <td>0.99</td>\n",
       "      <td>0</td>\n",
       "      <td>1</td>\n",
       "      <td>1</td>\n",
       "      <td>0</td>\n",
       "      <td>0</td>\n",
       "      <td>0</td>\n",
       "      <td>...</td>\n",
       "      <td>0</td>\n",
       "      <td>0</td>\n",
       "      <td>0</td>\n",
       "      <td>0</td>\n",
       "      <td>0</td>\n",
       "      <td>1</td>\n",
       "      <td>0</td>\n",
       "      <td>0</td>\n",
       "      <td>0</td>\n",
       "      <td>0</td>\n",
       "    </tr>\n",
       "  </tbody>\n",
       "</table>\n",
       "<p>2 rows × 54 columns</p>\n",
       "</div>"
      ],
      "text/plain": [
       "   Unnamed: 0  Peak CCU  Required age  Price  DLC count  Windows  Mac  Linux  \\\n",
       "0           0         0             0  19.99          0        1    0      0   \n",
       "1           1         0             0   0.99          0        1    1      0   \n",
       "\n",
       "   Metacritic score  User score  ...  Genres_Strategy  Genres_RPG  \\\n",
       "0                 0           0  ...                0           0   \n",
       "1                 0           0  ...                0           0   \n",
       "\n",
       "   Genres_Free_to_play  Genres_Sports  Tags_Untagged  Tags_2D  Tags_Puzzle  \\\n",
       "0                    0              1              0        0            0   \n",
       "1                    0              0              0        1            0   \n",
       "\n",
       "   Tags_Atmospheric  Tags_3D  Tags_Early_Access  \n",
       "0                 0        0                  0  \n",
       "1                 0        0                  0  \n",
       "\n",
       "[2 rows x 54 columns]"
      ]
     },
     "execution_count": 3,
     "metadata": {},
     "output_type": "execute_result"
    }
   ],
   "source": [
    "steam_df = pd.read_csv(\"steam_cleaned.csv\")\n",
    "steam_df.head(2)"
   ]
  },
  {
   "cell_type": "code",
   "execution_count": 110,
   "metadata": {},
   "outputs": [],
   "source": [
    "X = steam_df.drop(columns=['DEOM'])\n",
    "y = steam_df['DEOM']"
   ]
  },
  {
   "cell_type": "markdown",
   "metadata": {},
   "source": [
    "The dataset is to be split to training (80%) and test (20%) sets."
   ]
  },
  {
   "cell_type": "code",
   "execution_count": 111,
   "metadata": {},
   "outputs": [],
   "source": [
    "X_train, X_test, y_train, y_test = train_test_split(X, y, test_size=0.2, random_state=4, shuffle=True)"
   ]
  },
  {
   "cell_type": "markdown",
   "metadata": {},
   "source": [
    "Baseline models:\n",
    "\n",
    "As this project tackles the task of estimating numeric target variable DEOM, baselines are set with models Linear regression, Ridge regression and Lasso regression."
   ]
  },
  {
   "cell_type": "code",
   "execution_count": 112,
   "metadata": {},
   "outputs": [],
   "source": [
    "from sklearn.linear_model import LinearRegression, Ridge, Lasso\n",
    "from sklearn.ensemble import RandomForestRegressor, GradientBoostingRegressor\n",
    "from xgboost import XGBRegressor\n",
    "from lightgbm import LGBMRegressor\n",
    "from catboost import CatBoostRegressor\n",
    "from sklearn.metrics import r2_score, mean_squared_error, mean_absolute_percentage_error\n",
    "from sklearn.model_selection import cross_val_score, GridSearchCV\n",
    "from sklearn.pipeline import Pipeline\n",
    "import seaborn as sns"
   ]
  },
  {
   "cell_type": "code",
   "execution_count": 113,
   "metadata": {},
   "outputs": [],
   "source": [
    "pipeline_lr = Pipeline([\n",
    "    ('scaler', MinMaxScaler()),\n",
    "    ('lr', LinearRegression())\n",
    "])\n",
    "\n",
    "pipeline_ridge = Pipeline([\n",
    "    ('scaler', MinMaxScaler()),\n",
    "    ('ridge', Ridge(alpha=0.5))\n",
    "])\n",
    "\n",
    "pipeline_lasso = Pipeline([\n",
    "    ('scaler', MinMaxScaler()),\n",
    "    ('lasso', Lasso(alpha=0.5))\n",
    "])\n",
    "\n",
    "pipeline_rf = Pipeline([\n",
    "    ('scaler', MinMaxScaler()),\n",
    "    ('rf', RandomForestRegressor(random_state=4))\n",
    "])\n",
    "\n",
    "pipeline_gbr = Pipeline([\n",
    "    ('scaler', MinMaxScaler()),\n",
    "    ('gbr', GradientBoostingRegressor(random_state=4))\n",
    "])\n",
    "\n",
    "pipeline_lgbm = Pipeline([\n",
    "    ('scaler', MinMaxScaler()),\n",
    "    ('lgbm', LGBMRegressor(random_state=4,verbose=0))\n",
    "])\n",
    "\n",
    "pipeline_xgb = Pipeline([\n",
    "    ('scaler', MinMaxScaler()),\n",
    "    ('xgb', XGBRegressor(random_state=4))\n",
    "])\n",
    "\n",
    "pipeline_cb = Pipeline([\n",
    "    ('scaler', MinMaxScaler()),\n",
    "    ('cb', CatBoostRegressor(random_state=4, verbose=0))\n",
    "])\n"
   ]
  },
  {
   "cell_type": "markdown",
   "metadata": {},
   "source": [
    "Evaluation metrics:\n",
    "\n",
    "Due to nature of the problem this project aims to solve, metrics such as R2, Mean squared error (MSE), Mean absolute percentage error (MAPE) are selected and will be evaluated on."
   ]
  },
  {
   "cell_type": "code",
   "execution_count": 114,
   "metadata": {},
   "outputs": [],
   "source": [
    "def train_and_evaluate(pipeline, X_train, y_train, X_test, y_test, model_name):\n",
    "    pipeline.fit(X_train, y_train)\n",
    "    y_pred = pipeline.predict(X_test)\n",
    "    \n",
    "    print(model_name,  \" Results:\")\n",
    "    print(\"R2 Score: \", r2_score(y_test, y_pred))\n",
    "    print(\"MSE: \", mean_squared_error(y_test, y_pred))\n",
    "    print(\"MAPE: \", mean_absolute_percentage_error(y_test, y_pred))\n",
    "    print()"
   ]
  },
  {
   "cell_type": "markdown",
   "metadata": {},
   "source": [
    "Evaluation results of baseline models without any hyperparameter tuning:"
   ]
  },
  {
   "cell_type": "code",
   "execution_count": 115,
   "metadata": {},
   "outputs": [
    {
     "name": "stdout",
     "output_type": "stream",
     "text": [
      "Linear Regression  Results:\n",
      "R2 Score:  0.4533532639982124\n",
      "MSE:  3.973290175868051\n",
      "MAPE:  2224037246444665.0\n",
      "\n",
      "Ridge Regression  Results:\n",
      "R2 Score:  0.4528347280899422\n",
      "MSE:  3.9770591430903455\n",
      "MAPE:  2224352682748203.8\n",
      "\n",
      "Lasso Regression  Results:\n",
      "R2 Score:  0.23930129905784847\n",
      "MSE:  5.529122331097493\n",
      "MAPE:  3400210687031903.0\n",
      "\n",
      "Random Forest  Results:\n",
      "R2 Score:  0.703896586511147\n",
      "MSE:  2.1522213641323344\n",
      "MAPE:  1126802972545379.8\n",
      "\n",
      "Gradient Boosting  Results:\n",
      "R2 Score:  0.7179980961246608\n",
      "MSE:  2.0497248413833167\n",
      "MAPE:  1266671012209446.8\n",
      "\n",
      "LightGBM  Results:\n",
      "R2 Score:  0.7347416744310504\n",
      "MSE:  1.9280244985252593\n",
      "MAPE:  1169475539571084.2\n",
      "\n",
      "XGBoost  Results:\n",
      "R2 Score:  0.7319531125435668\n",
      "MSE:  1.9482931013040428\n",
      "MAPE:  1172203001191243.2\n",
      "\n",
      "CatBoost  Results:\n",
      "R2 Score:  0.7365766265087625\n",
      "MSE:  1.9146871883697332\n",
      "MAPE:  1170010094596220.5\n",
      "\n"
     ]
    }
   ],
   "source": [
    "train_and_evaluate(pipeline_lr, X_train, y_train, X_test, y_test, \"Linear Regression\")\n",
    "train_and_evaluate(pipeline_ridge, X_train, y_train, X_test, y_test, \"Ridge Regression\")\n",
    "train_and_evaluate(pipeline_lasso, X_train, y_train, X_test, y_test, \"Lasso Regression\")\n",
    "train_and_evaluate(pipeline_rf, X_train, y_train, X_test, y_test, \"Random Forest\")\n",
    "train_and_evaluate(pipeline_gbr, X_train, y_train, X_test, y_test, \"Gradient Boosting\")\n",
    "train_and_evaluate(pipeline_lgbm, X_train, y_train, X_test, y_test, \"LightGBM\")\n",
    "train_and_evaluate(pipeline_xgb, X_train, y_train, X_test, y_test, \"XGBoost\")\n",
    "train_and_evaluate(pipeline_cb, X_train, y_train, X_test, y_test, \"CatBoost\")"
   ]
  },
  {
   "cell_type": "code",
   "execution_count": 116,
   "metadata": {},
   "outputs": [],
   "source": [
    "def cross_validate_pipeline(pipeline, X, y, model_name):\n",
    "    scores = cross_val_score(pipeline, X, y, cv=5, scoring='r2')\n",
    "    print(model_name, \" Mean R2 Score: \", scores.mean() )\n",
    "    print(model_name, \" Std R2 Score: \", scores.std() )\n",
    "    print()"
   ]
  },
  {
   "cell_type": "code",
   "execution_count": 117,
   "metadata": {},
   "outputs": [
    {
     "name": "stdout",
     "output_type": "stream",
     "text": [
      "Linear Regression  Mean R2 Score:  0.44182941679096943\n",
      "Linear Regression  Std R2 Score:  0.013507810263327048\n",
      "\n",
      "Ridge Regression  Mean R2 Score:  0.4440455639295256\n",
      "Ridge Regression  Std R2 Score:  0.009491217880078668\n",
      "\n",
      "Lasso Regression  Mean R2 Score:  0.23977117931298847\n",
      "Lasso Regression  Std R2 Score:  0.002190121216683722\n",
      "\n"
     ]
    }
   ],
   "source": [
    "cross_validate_pipeline(pipeline_lr, X_train, y_train, \"Linear Regression\")\n",
    "cross_validate_pipeline(pipeline_ridge, X_train, y_train, \"Ridge Regression\")\n",
    "cross_validate_pipeline(pipeline_lasso, X_train, y_train, \"Lasso Regression\")"
   ]
  },
  {
   "cell_type": "code",
   "execution_count": 118,
   "metadata": {},
   "outputs": [
    {
     "name": "stdout",
     "output_type": "stream",
     "text": [
      "Best Random Forest Parameters: {'rf__max_depth': 10, 'rf__n_estimators': 300}\n",
      "Best CV R2 Score for Random Forest: 0.7278954315319115\n"
     ]
    }
   ],
   "source": [
    "param_grid_rf = {\n",
    "    'rf__n_estimators': [100, 200, 300],\n",
    "    'rf__max_depth': [10, 20, None]\n",
    "}\n",
    "\n",
    "grid_rf = GridSearchCV(pipeline_rf, param_grid_rf, cv=5, scoring='r2')\n",
    "grid_rf.fit(X_train, y_train)\n",
    "\n",
    "print(\"Best Random Forest Parameters:\", grid_rf.best_params_)\n",
    "print(\"Best CV R2 Score for Random Forest:\", grid_rf.best_score_)"
   ]
  },
  {
   "cell_type": "code",
   "execution_count": 119,
   "metadata": {},
   "outputs": [
    {
     "name": "stdout",
     "output_type": "stream",
     "text": [
      "Best Gradient Boosting Parameters: {'gbr__learning_rate': 0.1, 'gbr__max_depth': 5, 'gbr__n_estimators': 200}\n",
      "Best CV R2 Score for Gradient Boosting: 0.7337954767368561\n"
     ]
    }
   ],
   "source": [
    "param_grid_gb = {\n",
    "        \"gbr__n_estimators\": [100, 200],\n",
    "        \"gbr__learning_rate\": [0.01, 0.1, 0.2],\n",
    "        \"gbr__max_depth\": [3, 5, 7]\n",
    "}\n",
    "\n",
    "grid_gb = GridSearchCV(pipeline_gbr, param_grid_gb, cv=5, scoring='r2')\n",
    "grid_gb.fit(X_train, y_train)\n",
    "\n",
    "print(\"Best Gradient Boosting Parameters:\", grid_gb.best_params_)\n",
    "print(\"Best CV R2 Score for Gradient Boosting:\", grid_gb.best_score_)"
   ]
  },
  {
   "cell_type": "code",
   "execution_count": 120,
   "metadata": {},
   "outputs": [
    {
     "name": "stdout",
     "output_type": "stream",
     "text": [
      "Best LightGBM Parameters: {'lgbm__learning_rate': 0.1, 'lgbm__num_leaves': 30}\n",
      "Best CV R2 Score for LightGBM: 0.7343831243227288\n"
     ]
    }
   ],
   "source": [
    "param_grid_lgbm = {\n",
    "        \"lgbm__num_leaves\": [30, 50],\n",
    "        \"lgbm__learning_rate\": [0.01, 0.1]\n",
    "}\n",
    "\n",
    "grid_lgbm = GridSearchCV(pipeline_lgbm, param_grid_lgbm, cv=5, scoring='r2')\n",
    "grid_lgbm.fit(X_train, y_train)\n",
    "\n",
    "print(\"Best LightGBM Parameters:\", grid_lgbm.best_params_)\n",
    "print(\"Best CV R2 Score for LightGBM:\", grid_lgbm.best_score_)"
   ]
  },
  {
   "cell_type": "code",
   "execution_count": 121,
   "metadata": {},
   "outputs": [
    {
     "name": "stdout",
     "output_type": "stream",
     "text": [
      "Best XGBoost Parameters: {'xgb__learning_rate': 0.1, 'xgb__max_depth': 5, 'xgb__n_estimators': 200}\n",
      "Best CV R2 Score for XGBoost: 0.7334443685777712\n"
     ]
    }
   ],
   "source": [
    "param_grid_xgb = {\n",
    "        \"xgb__n_estimators\": [100, 200],\n",
    "        \"xgb__learning_rate\": [0.01, 0.1],\n",
    "        \"xgb__max_depth\": [3, 5],\n",
    "}\n",
    "\n",
    "grid_xgb = GridSearchCV(pipeline_xgb, param_grid_xgb, cv=5, scoring='r2')\n",
    "grid_xgb.fit(X_train, y_train)\n",
    "\n",
    "print(\"Best XGBoost Parameters:\", grid_xgb.best_params_)\n",
    "print(\"Best CV R2 Score for XGBoost:\", grid_xgb.best_score_)"
   ]
  },
  {
   "cell_type": "code",
   "execution_count": 122,
   "metadata": {},
   "outputs": [
    {
     "name": "stdout",
     "output_type": "stream",
     "text": [
      "Best CatBoost Regressor Parameters: {'cb__depth': 10, 'cb__iterations': 100, 'cb__learning_rate': 0.1}\n",
      "Best CV R2 Score for CatBoost Regressor: 0.7301225377263132\n"
     ]
    }
   ],
   "source": [
    "param_grid_cb =  {\n",
    "        \"cb__iterations\": [30, 50, 100],\n",
    "        \"cb__learning_rate\": [0.01, 0.05, 0.1],\n",
    "        \"cb__depth\": [6,8,10]\n",
    "}\n",
    "\n",
    "grid_cb = GridSearchCV(pipeline_cb, param_grid_cb, cv=5, scoring='r2')\n",
    "grid_cb.fit(X_train, y_train)\n",
    "\n",
    "print(\"Best CatBoost Regressor Parameters:\", grid_cb.best_params_)\n",
    "print(\"Best CV R2 Score for CatBoost Regressor:\", grid_cb.best_score_)"
   ]
  },
  {
   "cell_type": "code",
   "execution_count": 123,
   "metadata": {},
   "outputs": [
    {
     "name": "stdout",
     "output_type": "stream",
     "text": [
      "Final Model Results:\n",
      "R2 Score:  0.7350986482283904\n",
      "MSE:  1.9254298420705491\n",
      "MAPE:  1164875574652239.2\n"
     ]
    }
   ],
   "source": [
    "best_model = grid_lgbm.best_estimator_ \n",
    "y_pred_best = best_model.predict(X_test)\n",
    "\n",
    "print(\"Final Model Results:\")\n",
    "print(\"R2 Score: \", r2_score(y_test, y_pred_best))\n",
    "print(\"MSE: \", mean_squared_error(y_test, y_pred_best))\n",
    "print(\"MAPE: \", mean_absolute_percentage_error(y_test, y_pred_best))"
   ]
  },
  {
   "cell_type": "markdown",
   "metadata": {},
   "source": [
    "Feature importances according to our selected model:"
   ]
  },
  {
   "cell_type": "code",
   "execution_count": 125,
   "metadata": {},
   "outputs": [
    {
     "data": {
      "image/png": "[encoded data removed]",
      "text/plain": [
       "<Figure size 1000x600 with 1 Axes>"
      ]
     },
     "metadata": {},
     "output_type": "display_data"
    }
   ],
   "source": [
    "importances = best_model.named_steps['lgbm'].feature_importances_\n",
    "feature_names = X_train.columns\n",
    "importance_df = pd.DataFrame({\n",
    "    'Feature': feature_names,\n",
    "    'Importance': importances\n",
    "}).sort_values(by='Importance', ascending=False)\n",
    "\n",
    "\n",
    "plt.figure(figsize=(10, 6))\n",
    "sns.barplot(x='Importance', y='Feature', data=importance_df.head(10))\n",
    "plt.title('Feature Importances')\n",
    "plt.show()"
   ]
  }
 ],
 "metadata": {
  "kernelspec": {
   "display_name": "base",
   "language": "python",
   "name": "python3"
  },
  "language_info": {
   "codemirror_mode": {
    "name": "ipython",
    "version": 3
   },
   "file_extension": ".py",
   "mimetype": "text/x-python",
   "name": "python",
   "nbconvert_exporter": "python",
   "pygments_lexer": "ipython3",
   "version": "3.12.4"
  }
 },
 "nbformat": 4,
 "nbformat_minor": 2
}
